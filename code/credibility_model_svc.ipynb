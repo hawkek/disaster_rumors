{
 "cells": [
  {
   "cell_type": "markdown",
   "metadata": {},
   "source": [
    "# Modelling Rumors based on the CREDBANK Dataset"
   ]
  },
  {
   "cell_type": "markdown",
   "metadata": {},
   "source": [
    "The following notebook describes the process of training the Support Vector Classifier to determine if a tweet contains a rumor or not."
   ]
  },
  {
   "cell_type": "markdown",
   "metadata": {
    "id": "lmIBHpViLWtd"
   },
   "source": [
    "## Importing Libraries"
   ]
  },
  {
   "cell_type": "code",
   "execution_count": 5,
   "metadata": {
    "id": "2-J5Zm4o_Uvs"
   },
   "outputs": [],
   "source": [
    "import pandas as pd\n",
    "import numpy as np\n",
    "import seaborn as sns\n",
    "import nltk\n",
    "from sklearn.metrics import confusion_matrix\n",
    "from sklearn.metrics import plot_confusion_matrix\n",
    "import matplotlib.pyplot as plt\n",
    "from wordcloud import WordCloud\n",
    "from matplotlib import figure\n",
    "from sklearn.model_selection import train_test_split\n",
    "import regex as re\n",
    "import string\n",
    "from nltk.tokenize import word_tokenize\n",
    "from sklearn.pipeline import Pipeline\n",
    "from sklearn.model_selection import cross_val_score, GridSearchCV\n",
    "from sklearn.linear_model import LogisticRegression\n",
    "from sklearn.neighbors import KNeighborsClassifier\n",
    "from sklearn.tree import DecisionTreeClassifier\n",
    "from sklearn.ensemble import BaggingRegressor, BaggingClassifier, RandomForestClassifier, AdaBoostRegressor, AdaBoostClassifier\n",
    "from sklearn.metrics import mean_squared_error, f1_score\n",
    "from sklearn.naive_bayes import MultinomialNB\n",
    "from sklearn.svm import SVC\n",
    "from sklearn.feature_extraction.text import TfidfVectorizer\n",
    "from nltk.stem.snowball import SnowballStemmer\n",
    "\n",
    "import pickle"
   ]
  },
  {
   "cell_type": "code",
   "execution_count": 6,
   "metadata": {
    "colab": {
     "base_uri": "https://localhost:8080/"
    },
    "id": "oWx_nnTjCXrt",
    "outputId": "01c64a2a-2473-439c-9215-1aa9a416af28"
   },
   "outputs": [
    {
     "name": "stderr",
     "output_type": "stream",
     "text": [
      "[nltk_data] Downloading package punkt to /home/kl/nltk_data...\n",
      "[nltk_data]   Package punkt is already up-to-date!\n"
     ]
    },
    {
     "data": {
      "text/plain": [
       "True"
      ]
     },
     "execution_count": 6,
     "metadata": {},
     "output_type": "execute_result"
    }
   ],
   "source": [
    "import nltk\n",
    "nltk.download('punkt')"
   ]
  },
  {
   "cell_type": "markdown",
   "metadata": {
    "id": "_QpeN5AaLc6n"
   },
   "source": [
    "## Data Extraction"
   ]
  },
  {
   "cell_type": "code",
   "execution_count": 7,
   "metadata": {
    "id": "MNW7YImS_hah"
   },
   "outputs": [],
   "source": [
    "df = pd.read_csv('../datasets/final_train_data.csv')"
   ]
  },
  {
   "cell_type": "code",
   "execution_count": 8,
   "metadata": {
    "colab": {
     "base_uri": "https://localhost:8080/",
     "height": 206
    },
    "id": "OZVTbXUoBD7K",
    "outputId": "ef57dbd9-4558-49f4-ec6d-7fc1a04c1a26"
   },
   "outputs": [
    {
     "data": {
      "text/html": [
       "<div>\n",
       "<style scoped>\n",
       "    .dataframe tbody tr th:only-of-type {\n",
       "        vertical-align: middle;\n",
       "    }\n",
       "\n",
       "    .dataframe tbody tr th {\n",
       "        vertical-align: top;\n",
       "    }\n",
       "\n",
       "    .dataframe thead th {\n",
       "        text-align: right;\n",
       "    }\n",
       "</style>\n",
       "<table border=\"1\" class=\"dataframe\">\n",
       "  <thead>\n",
       "    <tr style=\"text-align: right;\">\n",
       "      <th></th>\n",
       "      <th>id</th>\n",
       "      <th>is_credible</th>\n",
       "      <th>text</th>\n",
       "    </tr>\n",
       "  </thead>\n",
       "  <tbody>\n",
       "    <tr>\n",
       "      <th>0</th>\n",
       "      <td>5.228430e+17</td>\n",
       "      <td>0</td>\n",
       "      <td>RT @onedirection: The guys are up for 3 #AMAs ...</td>\n",
       "    </tr>\n",
       "    <tr>\n",
       "      <th>1</th>\n",
       "      <td>5.252810e+17</td>\n",
       "      <td>0</td>\n",
       "      <td>RT @Marvel: Here it is! Watch the @Avengers: #...</td>\n",
       "    </tr>\n",
       "    <tr>\n",
       "      <th>2</th>\n",
       "      <td>5.637530e+17</td>\n",
       "      <td>0</td>\n",
       "      <td>\"This is another PR stunt by ISIS,\" Jordanian ...</td>\n",
       "    </tr>\n",
       "    <tr>\n",
       "      <th>3</th>\n",
       "      <td>5.656020e+17</td>\n",
       "      <td>0</td>\n",
       "      <td>RT @Independent: The media ignored the #Chapel...</td>\n",
       "    </tr>\n",
       "    <tr>\n",
       "      <th>4</th>\n",
       "      <td>5.507820e+17</td>\n",
       "      <td>0</td>\n",
       "      <td>RT @rivalsmike: Wow “@JeffPassan: Baylor kicke...</td>\n",
       "    </tr>\n",
       "  </tbody>\n",
       "</table>\n",
       "</div>"
      ],
      "text/plain": [
       "             id  is_credible  \\\n",
       "0  5.228430e+17            0   \n",
       "1  5.252810e+17            0   \n",
       "2  5.637530e+17            0   \n",
       "3  5.656020e+17            0   \n",
       "4  5.507820e+17            0   \n",
       "\n",
       "                                                text  \n",
       "0  RT @onedirection: The guys are up for 3 #AMAs ...  \n",
       "1  RT @Marvel: Here it is! Watch the @Avengers: #...  \n",
       "2  \"This is another PR stunt by ISIS,\" Jordanian ...  \n",
       "3  RT @Independent: The media ignored the #Chapel...  \n",
       "4  RT @rivalsmike: Wow “@JeffPassan: Baylor kicke...  "
      ]
     },
     "execution_count": 8,
     "metadata": {},
     "output_type": "execute_result"
    }
   ],
   "source": [
    "df.head()"
   ]
  },
  {
   "cell_type": "code",
   "execution_count": 9,
   "metadata": {},
   "outputs": [
    {
     "data": {
      "text/plain": [
       "id             float64\n",
       "is_credible      int64\n",
       "text            object\n",
       "dtype: object"
      ]
     },
     "execution_count": 9,
     "metadata": {},
     "output_type": "execute_result"
    }
   ],
   "source": [
    "df.dtypes"
   ]
  },
  {
   "cell_type": "code",
   "execution_count": 10,
   "metadata": {
    "colab": {
     "base_uri": "https://localhost:8080/"
    },
    "id": "dLwlH2WTzl8y",
    "outputId": "d88ef687-6a63-4afe-9375-082d35183ff6"
   },
   "outputs": [
    {
     "data": {
      "text/plain": [
       "(344200, 3)"
      ]
     },
     "execution_count": 10,
     "metadata": {},
     "output_type": "execute_result"
    }
   ],
   "source": [
    "df.shape"
   ]
  },
  {
   "cell_type": "code",
   "execution_count": 11,
   "metadata": {
    "id": "cfb9e69Izt5n"
   },
   "outputs": [],
   "source": [
    "# Drop any null rows\n",
    "df.dropna(inplace=True)"
   ]
  },
  {
   "cell_type": "code",
   "execution_count": 13,
   "metadata": {
    "id": "lvL4nYUMBHNB"
   },
   "outputs": [],
   "source": [
    "X = df['text']\n",
    "y = df['is_credible']"
   ]
  },
  {
   "cell_type": "code",
   "execution_count": 14,
   "metadata": {
    "colab": {
     "base_uri": "https://localhost:8080/"
    },
    "id": "VbYWJ4ZKBzBu",
    "outputId": "1c418666-b167-4269-c1aa-ce93f0f64c5e"
   },
   "outputs": [
    {
     "data": {
      "text/plain": [
       "1    0.709384\n",
       "0    0.290616\n",
       "Name: is_credible, dtype: float64"
      ]
     },
     "execution_count": 14,
     "metadata": {},
     "output_type": "execute_result"
    }
   ],
   "source": [
    "# Distribution of is_credible (1=True, 0=False)\n",
    "y.value_counts(normalize=True)"
   ]
  },
  {
   "cell_type": "markdown",
   "metadata": {
    "id": "6Ah9qpIRLi5U"
   },
   "source": [
    "Baseline Accuracy is 70.9%"
   ]
  },
  {
   "cell_type": "code",
   "execution_count": 15,
   "metadata": {
    "colab": {
     "base_uri": "https://localhost:8080/"
    },
    "id": "qTlAQUsUB00H",
    "outputId": "b5bc3da2-0a7c-489c-e373-0b76c056a7a0"
   },
   "outputs": [
    {
     "data": {
      "text/plain": [
       "0"
      ]
     },
     "execution_count": 15,
     "metadata": {},
     "output_type": "execute_result"
    }
   ],
   "source": [
    "# Double check there are no null values\n",
    "X.isnull().sum()"
   ]
  },
  {
   "cell_type": "code",
   "execution_count": 16,
   "metadata": {
    "colab": {
     "base_uri": "https://localhost:8080/"
    },
    "id": "0UJPsRkcB3d7",
    "outputId": "9cebd24e-b059-4777-b64e-3fd8cacb0323"
   },
   "outputs": [
    {
     "data": {
      "text/plain": [
       "0"
      ]
     },
     "execution_count": 16,
     "metadata": {},
     "output_type": "execute_result"
    }
   ],
   "source": [
    "y.isnull().sum()"
   ]
  },
  {
   "cell_type": "markdown",
   "metadata": {
    "id": "waEkGIRmLtD5"
   },
   "source": [
    "## Split Data into Testing & Training"
   ]
  },
  {
   "cell_type": "code",
   "execution_count": 17,
   "metadata": {
    "id": "6p9CVgr0_h7K"
   },
   "outputs": [],
   "source": [
    "# Create train-test split, 77 training: 33 testing\n",
    "X_train, X_test, y_train, y_test = train_test_split(X, y, test_size=0.33, random_state=42)"
   ]
  },
  {
   "cell_type": "markdown",
   "metadata": {
    "id": "u5q_9ijcJqYA"
   },
   "source": [
    "## Exploratory Data Analysis"
   ]
  },
  {
   "cell_type": "code",
   "execution_count": 18,
   "metadata": {
    "colab": {
     "base_uri": "https://localhost:8080/",
     "height": 198
    },
    "id": "dEQN9hX2_iNp",
    "outputId": "b37f42eb-9b2b-405f-ecf4-a61e0d56941f"
   },
   "outputs": [
    {
     "data": {
      "image/png": "[encoded data removed]",
      "text/plain": [
       "<Figure size 432x288 with 1 Axes>"
      ]
     },
     "metadata": {
      "needs_background": "light"
     },
     "output_type": "display_data"
    }
   ],
   "source": [
    "text = df['text'].values \n",
    "\n",
    "#Create a word cloud showing the most common words in the tweets\n",
    "wordcloud = WordCloud().generate(str(text))\n",
    "\n",
    "plt.imshow(wordcloud)\n",
    "plt.axis(\"off\")\n",
    "plt.rcParams[\"figure.figsize\"] = (20,10)\n",
    "plt.show()"
   ]
  },
  {
   "cell_type": "markdown",
   "metadata": {},
   "source": [
    "\"RT\" refers to re-tweet which makes sense that the majority of tweets would be referencing another"
   ]
  },
  {
   "cell_type": "markdown",
   "metadata": {
    "id": "cOveHgRRJiWK"
   },
   "source": [
    "## Cleaning & Vectorizing"
   ]
  },
  {
   "cell_type": "code",
   "execution_count": 19,
   "metadata": {
    "id": "LwI5qFSkCPB0"
   },
   "outputs": [],
   "source": [
    "# Function to clean each text string\n",
    "def cleaning(text):\n",
    "\n",
    "    #lowercase all characters\n",
    "    text = text.lower()\n",
    "    \n",
    "    #remove links\n",
    "    text = re.sub('https?://\\S+|www\\.\\S+', '', text) \n",
    "    \n",
    "    #Remove special characters\n",
    "    text = re.sub('<.*>+', '', text) \n",
    "    text = re.sub('[%s]' % re.escape(string.punctuation), '', text)\n",
    "    text = re.sub('\\n', '', text)\n",
    "    text = re.sub('[’“”…]', '', text)\n",
    "    text = re.sub('[„»â€™]', '', text)\n",
    "    \n",
    "    #tokenize and re-join\n",
    "    text_tokens = word_tokenize(text)\n",
    "    filtered_sentence = (\" \").join(text_tokens)\n",
    "    text = filtered_sentence\n",
    "    return text #return cleaned sentences"
   ]
  },
  {
   "cell_type": "code",
   "execution_count": 20,
   "metadata": {
    "id": "wPEJSdN-CVIY"
   },
   "outputs": [],
   "source": [
    "# Apply cleaning function to the testing and training data\n",
    "X_train_c = X_train.apply(cleaning)\n",
    "X_test_c = X_test.apply(cleaning)"
   ]
  },
  {
   "cell_type": "code",
   "execution_count": 21,
   "metadata": {},
   "outputs": [
    {
     "data": {
      "text/plain": [
       "314520    rt ohiostatemhky buckeyes win final ohio state...\n",
       "146589    sad rtcnnbrk at least 12 killed in todays atta...\n",
       "19798     ❤️ mãe rindo hahaha chrisbrown favorite male s...\n",
       "127278    rt ashleyfires mlkday2015 take time to honorth...\n",
       "291052    rt wsoctv video dash cam captures transasia pl...\n",
       "Name: text, dtype: object"
      ]
     },
     "execution_count": 21,
     "metadata": {},
     "output_type": "execute_result"
    }
   ],
   "source": [
    "X_train_c.head()"
   ]
  },
  {
   "cell_type": "code",
   "execution_count": 23,
   "metadata": {
    "id": "7srZ-PCvKZls"
   },
   "outputs": [],
   "source": [
    "# Vectorize X test and train with Term Frequency-Inverse Document Frequency (TFIDF)\n",
    "tvec = TfidfVectorizer()\n",
    "X_train_tv = tvec.fit_transform(X_train_c)\n",
    "\n",
    "X_test_tv = tvec.transform(X_test_c)"
   ]
  },
  {
   "cell_type": "markdown",
   "metadata": {
    "id": "nxrZxak_JQ52"
   },
   "source": [
    "## Initial Classification Model Evaluation"
   ]
  },
  {
   "cell_type": "markdown",
   "metadata": {},
   "source": [
    "Primarily evaluating classification models with default settings"
   ]
  },
  {
   "cell_type": "code",
   "execution_count": 24,
   "metadata": {
    "id": "a91lwmiMLdsY"
   },
   "outputs": [
    {
     "name": "stdout",
     "output_type": "stream",
     "text": [
      "MNB\n",
      "CV score: 0.9497211776991202\n",
      "Train Score: 0.9585758019894716\n",
      "Test Score: 0.9503459933442502\n"
     ]
    }
   ],
   "source": [
    "# Multinomial Bayes\n",
    "mnb = MultinomialNB()\n",
    "print('MNB')\n",
    "print(f\"CV score: {cross_val_score(mnb, X_train_tv, y_train, cv=5).mean()}\")\n",
    "mnb.fit(X_train_tv, y_train)\n",
    "print(f\"Train Score: {mnb.score(X_train_tv, y_train)}\")\n",
    "print(f\"Test Score: {mnb.score(X_test_tv, y_test)}\")\n",
    "\n",
    "# # RESULTS SAVED INCASE OF RE-RUN\n",
    "# MNB\n",
    "# CV score: 0.9497211776991202\n",
    "# Train Score: 0.9585758019894716\n",
    "# Test Score: 0.9503459933442502"
   ]
  },
  {
   "cell_type": "code",
   "execution_count": 25,
   "metadata": {
    "colab": {
     "base_uri": "https://localhost:8080/"
    },
    "id": "Z0lOEvpZL1cP",
    "outputId": "1f26f21b-69b2-4938-f8ad-45feeac145fd"
   },
   "outputs": [
    {
     "name": "stdout",
     "output_type": "stream",
     "text": [
      "SVC Machine\n",
      "CV score: 0.9824121699281134\n",
      "Train Score: 0.9918001509015064\n",
      "Test Score: 0.9829732537460603\n"
     ]
    }
   ],
   "source": [
    "# Support Vector Classification\n",
    "print('SVC Machine')\n",
    "svc = SVC()\n",
    "print(f\"CV score: {cross_val_score(svc, X_train_tv, y_train, cv=5).mean()}\")\n",
    "svc.fit(X_train_tv, y_train)\n",
    "print(f\"Train Score: {svc.score(X_train_tv, y_train)}\")\n",
    "print(f\"Test Score: {svc.score(X_test_tv, y_test)}\")\n",
    "\n",
    "# # RESULTS SAVED INCASE OF RE-RUN\n",
    "# SVC Machine\n",
    "# CV score: 0.9824121699281134\n",
    "# Train Score: 0.9918001509015064\n",
    "# Test Score: 0.9829732537460603"
   ]
  },
  {
   "cell_type": "code",
   "execution_count": 26,
   "metadata": {
    "id": "71t8SWSFMBMd"
   },
   "outputs": [
    {
     "name": "stdout",
     "output_type": "stream",
     "text": [
      "Random Forest\n",
      "CV score: 0.979003879652222\n",
      "Train Score: 0.9960063135802684\n",
      "Test Score: 0.9784216364692832\n"
     ]
    }
   ],
   "source": [
    "# Random Forest Classifier\n",
    "rf = RandomForestClassifier()\n",
    "print('Random Forest')\n",
    "print(f\"CV score: {cross_val_score(rf, X_train_tv, y_train, cv=5).mean()}\")\n",
    "rf.fit(X_train_tv, y_train)\n",
    "print(f\"Train Score: {rf.score(X_train_tv, y_train)}\")\n",
    "print(f\"Test Score: {rf.score(X_test_tv, y_test)}\")\n",
    "\n",
    "# # RESULTS SAVED INCASE OF RE-RUN\n",
    "# Random Forest\n",
    "# CV score: 0.979003879652222\n",
    "# Train Score: 0.9960063135802684\n",
    "# Test Score: 0.9784216364692832"
   ]
  },
  {
   "cell_type": "code",
   "execution_count": 28,
   "metadata": {
    "colab": {
     "background_save": true
    },
    "id": "vEld0s9hE6dM",
    "outputId": "0c974dc3-a2cd-485f-ed8f-66c9e0ecdf44"
   },
   "outputs": [],
   "source": [
    "# Bagging Classifier\n",
    "bag = BaggingClassifier()\n",
    "print('Bagging')\n",
    "print(f\"CV score: {cross_val_score(bag, X_train_tv, y_train, cv=5).mean()}\")\n",
    "bag.fit(X_train_tv, y_train)\n",
    "print(f\"Train Score: {bag.score(X_train_tv, y_train)}\")\n",
    "print(f\"Test Score: {bag.score(X_test_tv, y_test)}\")\n",
    "\n",
    "# RESULTS SAVED INCASE OF RE-RUN\n",
    "# Bagging\n",
    "# CV score: 0.9712067682515506\n",
    "# Train Score: 0.9948614544035385\n",
    "# Test Score: 0.972972972972973"
   ]
  },
  {
   "cell_type": "code",
   "execution_count": 29,
   "metadata": {
    "colab": {
     "background_save": true
    },
    "id": "O-gTmlhqFZn_",
    "outputId": "87f28b06-438d-42bf-b90f-498c20a9b0f6"
   },
   "outputs": [],
   "source": [
    "# Ada Boost Classifier\n",
    "ada = AdaBoostClassifier()\n",
    "print('Ada')\n",
    "print(f\"CV score: {cross_val_score(ada, X_train_tv, y_train, cv=5).mean()}\")\n",
    "ada.fit(X_train_tv, y_train)\n",
    "print(f\"Train Score: {ada.score(X_train_tv, y_train)}\")\n",
    "print(f\"Test Score: {ada.score(X_test_tv, y_test)}\")\n",
    "\n",
    "# # RESULTS SAVED INCASE OF RE-RUN\n",
    "# Ada\n",
    "# CV score: 0.9523871366554083\n",
    "# Train Score: 0.9537097263778674\n",
    "# Test Score: 0.952460603926402"
   ]
  },
  {
   "cell_type": "code",
   "execution_count": 30,
   "metadata": {
    "id": "SZ_2Uj1qGOtV"
   },
   "outputs": [],
   "source": [
    "# K Nearest Neighbors Classifier\n",
    "knn = KNeighborsClassifier()\n",
    "print('KNN')\n",
    "print(f\"CV score: {cross_val_score(knn, X_train_tv, y_train, cv=5).mean()}\")\n",
    "knn.fit(X_train_tv, y_train)\n",
    "print(f\"Train Score: {knn.score(X_train_tv, y_train)}\")\n",
    "print(f\"Test Score: {knn.score(X_test_tv, y_test)}\")\n",
    "\n",
    "# RESULTS SAVED INCASE OF RE-RUN\n",
    "# KNN\n",
    "# CV score: 0.8379733204530657\n",
    "# Train Score: 0.8814665452495555\n",
    "# Test Score: 0.8623118232238753"
   ]
  },
  {
   "cell_type": "code",
   "execution_count": 31,
   "metadata": {
    "id": "L5FRkeLkGcIB"
   },
   "outputs": [],
   "source": [
    "# Decision Tree Classifier\n",
    "dt = DecisionTreeClassifier()\n",
    "print('Decision Tree')\n",
    "print(f\"CV score: {cross_val_score(dt, X_train_tv, y_train, cv=5).mean()}\")\n",
    "dt.fit(X_train_tv, y_train)\n",
    "print(f\"Train Score: {dt.score(X_train_tv, y_train)}\")\n",
    "print(f\"Test Score: {dt.score(X_test_tv, y_test)}\")\n",
    "\n",
    "# RESULTS SAVED INCASE OF RE-RUN\n",
    "# Decision Tree\n",
    "# CV score: 0.9689952357112469\n",
    "# Train Score: 0.9969212089675209\n",
    "# Test Score: 0.9691874284708161"
   ]
  },
  {
   "cell_type": "markdown",
   "metadata": {},
   "source": [
    "From these initial results, SVC was chosen. Below is further tuning of the model."
   ]
  },
  {
   "cell_type": "markdown",
   "metadata": {
    "id": "pVvXNCpwJCVs"
   },
   "source": [
    "## Stemmer"
   ]
  },
  {
   "cell_type": "code",
   "execution_count": 33,
   "metadata": {
    "id": "20aeqK98NNie"
   },
   "outputs": [],
   "source": [
    "# Creating a stemming function\n",
    "# Choice of snowball as it imporves upon Porter but is not as strict as Lancaster\n",
    "from nltk.stem.snowball import SnowballStemmer\n",
    "s_stemmer = SnowballStemmer(language='english') \n",
    "\n",
    "analyzer = TfidfVectorizer().build_analyzer()\n",
    "\n",
    "def stemmed_snow(doc):\n",
    "    return (s_stemmer.stem(w) for w in analyzer(doc))"
   ]
  },
  {
   "cell_type": "markdown",
   "metadata": {
    "id": "ngb6GoDNJGlc"
   },
   "source": [
    "## Hyperparamter Tuning with GridSearchCV"
   ]
  },
  {
   "cell_type": "code",
   "execution_count": 19,
   "metadata": {
    "id": "dr1IEcLdMwNX"
   },
   "outputs": [],
   "source": [
    "pipe = Pipeline([\n",
    "    ('tvec', TfidfVectorizer()),\n",
    "    ('svc', SVC())\n",
    "])"
   ]
  },
  {
   "cell_type": "code",
   "execution_count": 20,
   "metadata": {
    "id": "-oh-YwSLM4ak"
   },
   "outputs": [],
   "source": [
    "pipe_params = {\n",
    "     'tvec__max_features' : [1000, 2000], \n",
    "     'tvec__min_df' : [5], \n",
    "     'tvec__max_df' : [0.95],\n",
    "     'tvec__analyzer' : [None, stemmed_snow], \n",
    "    \n",
    "      # 'svc__C': [0.5, 0.9, 1.5],\n",
    "      # 'svc__gamma': [0.5, 1, 2],\n",
    "      # 'svc__kernel': ['rbf']\n",
    "}"
   ]
  },
  {
   "cell_type": "code",
   "execution_count": 21,
   "metadata": {
    "id": "1WKrE1phNgYn"
   },
   "outputs": [],
   "source": [
    "gs = GridSearchCV(pipe,param_grid = pipe_params, cv=3, verbose = 1, n_jobs = -1)"
   ]
  },
  {
   "cell_type": "code",
   "execution_count": 22,
   "metadata": {
    "colab": {
     "base_uri": "https://localhost:8080/"
    },
    "id": "T2Hx5NEnOA5d",
    "outputId": "dd2d2239-349d-4978-8533-9e2533644033"
   },
   "outputs": [
    {
     "name": "stdout",
     "output_type": "stream",
     "text": [
      "Fitting 3 folds for each of 4 candidates, totalling 12 fits\n"
     ]
    },
    {
     "name": "stderr",
     "output_type": "stream",
     "text": [
      "/home/kl/anaconda3/lib/python3.9/site-packages/sklearn/model_selection/_validation.py:372: FitFailedWarning: \n",
      "6 fits failed out of a total of 12.\n",
      "The score on these train-test partitions for these parameters will be set to nan.\n",
      "If these failures are not expected, you can try to debug them by setting error_score='raise'.\n",
      "\n",
      "Below are more details about the failures:\n",
      "--------------------------------------------------------------------------------\n",
      "6 fits failed with the following error:\n",
      "Traceback (most recent call last):\n",
      "  File \"/home/kl/anaconda3/lib/python3.9/site-packages/sklearn/model_selection/_validation.py\", line 680, in _fit_and_score\n",
      "    estimator.fit(X_train, y_train, **fit_params)\n",
      "  File \"/home/kl/anaconda3/lib/python3.9/site-packages/sklearn/pipeline.py\", line 390, in fit\n",
      "    Xt = self._fit(X, y, **fit_params_steps)\n",
      "  File \"/home/kl/anaconda3/lib/python3.9/site-packages/sklearn/pipeline.py\", line 348, in _fit\n",
      "    X, fitted_transformer = fit_transform_one_cached(\n",
      "  File \"/home/kl/anaconda3/lib/python3.9/site-packages/joblib/memory.py\", line 349, in __call__\n",
      "    return self.func(*args, **kwargs)\n",
      "  File \"/home/kl/anaconda3/lib/python3.9/site-packages/sklearn/pipeline.py\", line 893, in _fit_transform_one\n",
      "    res = transformer.fit_transform(X, y, **fit_params)\n",
      "  File \"/home/kl/anaconda3/lib/python3.9/site-packages/sklearn/feature_extraction/text.py\", line 2077, in fit_transform\n",
      "    X = super().fit_transform(raw_documents)\n",
      "  File \"/home/kl/anaconda3/lib/python3.9/site-packages/sklearn/feature_extraction/text.py\", line 1330, in fit_transform\n",
      "    vocabulary, X = self._count_vocab(raw_documents, self.fixed_vocabulary_)\n",
      "  File \"/home/kl/anaconda3/lib/python3.9/site-packages/sklearn/feature_extraction/text.py\", line 1193, in _count_vocab\n",
      "    analyze = self.build_analyzer()\n",
      "  File \"/home/kl/anaconda3/lib/python3.9/site-packages/sklearn/feature_extraction/text.py\", line 459, in build_analyzer\n",
      "    raise ValueError(\n",
      "ValueError: None is not a valid tokenization scheme/analyzer\n",
      "\n",
      "  warnings.warn(some_fits_failed_message, FitFailedWarning)\n",
      "/home/kl/anaconda3/lib/python3.9/site-packages/sklearn/model_selection/_search.py:969: UserWarning: One or more of the test scores are non-finite: [       nan        nan 0.98081643 0.98299323]\n",
      "  warnings.warn(\n"
     ]
    },
    {
     "data": {
      "text/plain": [
       "GridSearchCV(cv=3,\n",
       "             estimator=Pipeline(steps=[('tvec', TfidfVectorizer()),\n",
       "                                       ('svc', SVC())]),\n",
       "             n_jobs=-1,\n",
       "             param_grid={'tvec__analyzer': [None,\n",
       "                                            <function stemmed_snow at 0x7fb764c3dca0>],\n",
       "                         'tvec__max_df': [0.95],\n",
       "                         'tvec__max_features': [1000, 2000],\n",
       "                         'tvec__min_df': [5]},\n",
       "             verbose=1)"
      ]
     },
     "execution_count": 22,
     "metadata": {},
     "output_type": "execute_result"
    }
   ],
   "source": [
    "gs.fit(X_train, y_train)"
   ]
  },
  {
   "cell_type": "code",
   "execution_count": 23,
   "metadata": {},
   "outputs": [
    {
     "data": {
      "text/plain": [
       "{'tvec__analyzer': <function __main__.stemmed_snow(doc)>,\n",
       " 'tvec__max_df': 0.95,\n",
       " 'tvec__max_features': 2000,\n",
       " 'tvec__min_df': 5}"
      ]
     },
     "execution_count": 23,
     "metadata": {},
     "output_type": "execute_result"
    }
   ],
   "source": [
    "gs.best_params_"
   ]
  },
  {
   "cell_type": "code",
   "execution_count": 35,
   "metadata": {
    "colab": {
     "base_uri": "https://localhost:8080/"
    },
    "id": "sEYHU_hcPsc9",
    "outputId": "3efb8bb1-9b06-420f-e3e2-44b092c5d9f7"
   },
   "outputs": [],
   "source": [
    "pred_ = gs.predict(X_test)\n",
    "print(f\"Train Score: {gs.score(X_train, y_train)}\")\n",
    "print(f\"Test Score: {gs.score(X_test, y_test)}\")\n",
    "\n",
    "# # RESULTS SAVED INCASE OF RE-RUN\n",
    "# Train Score: 0.9941893239668704\n",
    "# Test Score: 0.9763623558411832"
   ]
  },
  {
   "cell_type": "code",
   "execution_count": 36,
   "metadata": {
    "colab": {
     "base_uri": "https://localhost:8080/"
    },
    "id": "yFBCenVLPyXf",
    "outputId": "1868dd3d-90dd-423d-8d67-96d3fc0e55aa"
   },
   "outputs": [],
   "source": [
    "tn, fp, fn, tp = confusion_matrix(y_test, pred_).ravel()\n",
    "print(f\"True Negatives: {tn}\")\n",
    "print(f\"Fale Positives: {fp}\")\n",
    "print(f\"False Negatives: {fn}\")\n",
    "print(f\"True Positives: {tp}\")\n",
    "print(\"\")\n",
    "Accuracy = (tp+tn)/(tp+fp+fn+tn)\n",
    "print(f\"Accuracy: {Accuracy}\")\n",
    "\n",
    "# # RESULTS SAVED INCASE OF RE-RUN\n",
    "# True Negatives: 6249\n",
    "# Fale Positives: 382\n",
    "# False Negatives: 155\n",
    "# True Positives: 15932\n",
    "\n",
    "# Accuracy: 0.9763623558411832"
   ]
  },
  {
   "cell_type": "markdown",
   "metadata": {
    "id": "s8d3sQhkMGuK"
   },
   "source": [
    "## Save Model"
   ]
  },
  {
   "cell_type": "code",
   "execution_count": 24,
   "metadata": {},
   "outputs": [],
   "source": [
    "gs_best = gs.best_estimator_\n",
    "gs_best.fit(X_train, y_train)\n",
    "\n",
    "with open('svc_model.pickle', 'wb') as pfile:\n",
    "    pickle.dump(gs_best, pfile, protocol=pickle.HIGHEST_PROTOCOL)"
   ]
  },
  {
   "cell_type": "markdown",
   "metadata": {},
   "source": [
    "### TEST"
   ]
  },
  {
   "cell_type": "code",
   "execution_count": 11,
   "metadata": {},
   "outputs": [
    {
     "data": {
      "text/plain": [
       "1"
      ]
     },
     "execution_count": 11,
     "metadata": {},
     "output_type": "execute_result"
    }
   ],
   "source": [
    "# TEST\n",
    "sample_text = [\"hello34931820 i'm92 m39iss93ing m*(&@y c@@at\"]\n",
    "def stemmed_snow(doc):\n",
    "    s_stemmer = SnowballStemmer(language='english') \n",
    "    analyzer = TfidfVectorizer().build_analyzer()\n",
    "    return (s_stemmer.stem(w) for w in analyzer(doc)) \n",
    "\n",
    "with open('pretrained_models/svc_model.pickle', 'rb') as handle:\n",
    "    model = pickle.load(handle)\n",
    "    \n",
    "    \n",
    "preds = model.predict(sample_text)\n",
    "preds[0]"
   ]
  },
  {
   "cell_type": "code",
   "execution_count": 12,
   "metadata": {},
   "outputs": [
    {
     "data": {
      "text/plain": [
       "1"
      ]
     },
     "execution_count": 12,
     "metadata": {},
     "output_type": "execute_result"
    }
   ],
   "source": [
    "# TEST 2\n",
    "sample_text = ['hurricane Katrina destroyed half the Earth']\n",
    "preds = model.predict(sample_text)\n",
    "preds[0]"
   ]
  },
  {
   "cell_type": "code",
   "execution_count": 11,
   "metadata": {},
   "outputs": [
    {
     "name": "stdout",
     "output_type": "stream",
     "text": [
      "TEST RESULTS\n",
      "ACCURACY: 0.8316831683168316\n",
      "F1 SCORE: 0.8045977011494254\n",
      "ROC AUC: 0.830392156862745\n"
     ]
    },
    {
     "data": {
      "image/png": "[encoded data removed]",
      "text/plain": [
       "<Figure size 432x288 with 2 Axes>"
      ]
     },
     "metadata": {
      "needs_background": "light"
     },
     "output_type": "display_data"
    }
   ],
   "source": [
    "from sklearn.metrics import accuracy_score, f1_score, roc_auc_score, confusion_matrix\n",
    "\n",
    "# Testing randomized pre-labeled test dataset\n",
    "test = pd.read_csv('../datasets/validation_data.csv', lineterminator='\\n')\n",
    "\n",
    "# Predictions\n",
    "test['predictions'] = model.predict(test['text'])\n",
    "\n",
    "# Scores\n",
    "acc = accuracy_score(test['is_credible'], test['predictions'])\n",
    "f1 = f1_score(test['is_credible'], test['predictions'])\n",
    "roc_auc = roc_auc_score(test['is_credible'], test['predictions'])\n",
    "\n",
    "print('TEST RESULTS')\n",
    "print(f'ACCURACY: {acc}')\n",
    "print(f'F1 SCORE: {f1}')\n",
    "print(f'ROC AUC: {roc_auc}')\n",
    "\n",
    "# Confusion matrix\n",
    "cm = confusion_matrix(test['is_credible'], test['predictions'])\n",
    "sns.heatmap(cm, cmap= 'cividis', annot=True, fmt='g', annot_kws={'size':20})\n",
    "plt.xlabel('predicted', fontsize=18)\n",
    "plt.ylabel('actual', fontsize=18)\n",
    "plt.title('Test Actual vs Predicted', fontsize=18)\n",
    "plt.show()"
   ]
  },
  {
   "cell_type": "code",
   "execution_count": 13,
   "metadata": {},
   "outputs": [
    {
     "name": "stdout",
     "output_type": "stream",
     "text": [
      "TEST RESULTS\n",
      "ACCURACY: 0.518\n",
      "F1 SCORE: 0.639760837070254\n",
      "ROC AUC: 0.518\n"
     ]
    },
    {
     "data": {
      "image/png": "[encoded data removed]",
      "text/plain": [
       "<Figure size 432x288 with 2 Axes>"
      ]
     },
     "metadata": {
      "needs_background": "light"
     },
     "output_type": "display_data"
    }
   ],
   "source": [
    "# Random wildfire dataset\n",
    "test = pd.read_csv('../datasets/california_wildfires.csv')\n",
    "\n",
    "# Predictions\n",
    "test['predictions'] = model.predict(test['text'])\n",
    "\n",
    "# Scores\n",
    "acc = accuracy_score(test['is_credible'], test['predictions'])\n",
    "f1 = f1_score(test['is_credible'], test['predictions'])\n",
    "roc_auc = roc_auc_score(test['is_credible'], test['predictions'])\n",
    "cm = confusion_matrix(test['is_credible'], test['predictions'])\n",
    "\n",
    "print('TEST RESULTS')\n",
    "print(f'ACCURACY: {acc}')\n",
    "print(f'F1 SCORE: {f1}')\n",
    "print(f'ROC AUC: {roc_auc}')\n",
    "\n",
    "# Confusion matrix\n",
    "sns.heatmap(cm, cmap= 'cividis', annot=True, fmt='g', annot_kws={'size':20})\n",
    "plt.xlabel('predicted', fontsize=18)\n",
    "plt.ylabel('actual', fontsize=18)\n",
    "plt.title('Test Actual vs Predicted', fontsize=18)\n",
    "plt.show()"
   ]
  }
 ],
 "metadata": {
  "colab": {
   "collapsed_sections": [],
   "name": "CREDRumorDetection.ipynb",
   "provenance": []
  },
  "kernelspec": {
   "display_name": "Python 3 (ipykernel)",
   "language": "python",
   "name": "python3"
  },
  "language_info": {
   "codemirror_mode": {
    "name": "ipython",
    "version": 3
   },
   "file_extension": ".py",
   "mimetype": "text/x-python",
   "name": "python",
   "nbconvert_exporter": "python",
   "pygments_lexer": "ipython3",
   "version": "3.9.7"
  }
 },
 "nbformat": 4,
 "nbformat_minor": 1
}
