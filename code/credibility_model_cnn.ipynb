{
 "cells": [
  {
   "cell_type": "markdown",
   "id": "b99293f7",
   "metadata": {},
   "source": [
    "# MODEL 2: CREDIBILITY (RUMOR OR NOT) VERIFICATION\n",
    "\n",
    "### DATA WRANGLING\n",
    "Using a dataset of tweets provided by [CREDBANK](https://github.com/compsocial/CREDBANK-data), a blackbox model based on neural networks was developed. As the dataset originall contain tweet ID only without text, [Tweepy](https://github.com/tweepy/tweepy) API was used to extract the text.\n",
    "\n",
    "The purpose of the model is to be able to accept any tweet as an input and return a classification of whether the tweet is credible or not.\n",
    "\n",
    "Additionally, the text contents of each tweet underwent extensive cleaning as provided by Kaggle user [georgesaavedra](https://www.kaggle.com/georgesaavedra/best-nlp-disaster-tweets-classifier):\n",
    "- URL & HTML removal\n",
    "- emoji removal\n",
    "- line breaks to spaces\n",
    "- common abbreviations/slang/typos converted to real words\n",
    "- punctuation & number removal (retaining only letters)\n",
    "- lower-cased\n",
    "\n",
    "As neural networks require array inputs, all tweets were tokenized and converted to sequences of max length 60 with padding, if required. Max length 60 was selected as the max length of a tweet is 280 characters which is 55 words on average. \n",
    "\n",
    "To further improve the impact of each word, a pretrained Google News corpus was utilized to create a word embedding matrix where recognized words from all tweets were assigned a weight predetermined by Google. This weight matrix was used for the weight parameter in the embedding input layer of the neural network.\n",
    "\n",
    "### MODELING\n",
    "Through trial and error of numerous neural network implementations, a low-loss, low-variance model was developed with an accuracy of **98%**:\n",
    "- RESULTS: loss: 0.0431 - acc: 0.9831 - val_loss: 0.0436 - val_acc: 0.9827\n",
    "\n",
    "Model composition:\n",
    "- Stochastic Gradient Descent (SGD) optimizer\n",
    "    - Adam resulted in very overfit models with high variance\n",
    "- Embedding input layer\n",
    "- 2 Conv1D layers (32 & 64 filters respectively)\n",
    "- 1 Dense layer (32 filters)\n",
    "- Dense sigmoid output layer \n",
    "    - Batchnomalization + Dropout applied to all layers except output\n",
    "    - AveragePooling1D and GlobalAveragePooling1D (similar to AveragePooling+Flatten) applied to all Conv1D layers    \n",
    "    \n",
    "Based the best results from epoch 136/200 were re-loaded and the model was saved to 'pretrained_models/credibility_model.hdf5' for re-use in the web-app.\n",
    "\n",
    "Based on a random compilation of tweets that has been personally labeled by our group, testing results were generated to confirm generalization:\n",
    "- TEST RESULTS\n",
    "    - ACCURACY: 0.801980198019802\n",
    "    - F1 SCORE: 0.7727272727272727\n",
    "    - ROC AUC: 0.8007843137254903\n",
    "\n",
    "### CONCLUSION\n",
    "We can conclude that this model performs moderately well, where if utilized by Twitter, only 20% of the remaining tweets would require manual human verification.\n",
    "\n",
    "For future reference to improve performance:\n",
    "- updated dataset of tweets with more recent disasters\n",
    "- utilization of other natural language processing techniques & machine learning models (ie. transformers or multitask unified model-MUM)"
   ]
  },
  {
   "cell_type": "code",
   "execution_count": 6,
   "id": "d586c991",
   "metadata": {},
   "outputs": [],
   "source": [
    "import pandas as pd, numpy as np, matplotlib.pyplot as plt, seaborn as sns\n",
    "import re\n",
    "import string\n",
    "import gensim\n",
    "\n",
    "from sklearn.model_selection import train_test_split\n",
    "\n",
    "import tensorflow as tf\n",
    "from tensorflow.keras.preprocessing.text import Tokenizer\n",
    "from tensorflow.keras.preprocessing.sequence import pad_sequences\n",
    "from tensorflow.keras.models import Sequential\n",
    "\n",
    "from tensorflow.keras.layers import Dense, Embedding, BatchNormalization, Dropout, AveragePooling1D, GlobalAveragePooling1D, Conv1D\n",
    "from tensorflow.keras.callbacks import EarlyStopping, ModelCheckpoint\n",
    "from tensorflow.keras.optimizers import SGD"
   ]
  },
  {
   "cell_type": "code",
   "execution_count": 7,
   "id": "309864a3",
   "metadata": {},
   "outputs": [],
   "source": [
    "# Random seed set for reproduced results\n",
    "np.random.seed(42)\n",
    "tf.random.set_seed(42)"
   ]
  },
  {
   "cell_type": "code",
   "execution_count": 8,
   "id": "7ba317b4",
   "metadata": {},
   "outputs": [
    {
     "data": {
      "text/html": [
       "<div>\n",
       "<style scoped>\n",
       "    .dataframe tbody tr th:only-of-type {\n",
       "        vertical-align: middle;\n",
       "    }\n",
       "\n",
       "    .dataframe tbody tr th {\n",
       "        vertical-align: top;\n",
       "    }\n",
       "\n",
       "    .dataframe thead th {\n",
       "        text-align: right;\n",
       "    }\n",
       "</style>\n",
       "<table border=\"1\" class=\"dataframe\">\n",
       "  <thead>\n",
       "    <tr style=\"text-align: right;\">\n",
       "      <th></th>\n",
       "      <th>id</th>\n",
       "      <th>is_credible</th>\n",
       "      <th>text\\r</th>\n",
       "    </tr>\n",
       "  </thead>\n",
       "  <tbody>\n",
       "    <tr>\n",
       "      <th>0</th>\n",
       "      <td>5.228430e+17</td>\n",
       "      <td>0</td>\n",
       "      <td>RT @onedirection: The guys are up for 3 #AMAs ...</td>\n",
       "    </tr>\n",
       "    <tr>\n",
       "      <th>1</th>\n",
       "      <td>5.252810e+17</td>\n",
       "      <td>0</td>\n",
       "      <td>RT @Marvel: Here it is! Watch the @Avengers: #...</td>\n",
       "    </tr>\n",
       "    <tr>\n",
       "      <th>2</th>\n",
       "      <td>5.637530e+17</td>\n",
       "      <td>0</td>\n",
       "      <td>\"This is another PR stunt by ISIS,\" Jordanian ...</td>\n",
       "    </tr>\n",
       "    <tr>\n",
       "      <th>3</th>\n",
       "      <td>5.656020e+17</td>\n",
       "      <td>0</td>\n",
       "      <td>RT @Independent: The media ignored the #Chapel...</td>\n",
       "    </tr>\n",
       "    <tr>\n",
       "      <th>4</th>\n",
       "      <td>5.507820e+17</td>\n",
       "      <td>0</td>\n",
       "      <td>RT @rivalsmike: Wow “@JeffPassan: Baylor kicke...</td>\n",
       "    </tr>\n",
       "  </tbody>\n",
       "</table>\n",
       "</div>"
      ],
      "text/plain": [
       "             id  is_credible  \\\n",
       "0  5.228430e+17            0   \n",
       "1  5.252810e+17            0   \n",
       "2  5.637530e+17            0   \n",
       "3  5.656020e+17            0   \n",
       "4  5.507820e+17            0   \n",
       "\n",
       "                                              text\\r  \n",
       "0  RT @onedirection: The guys are up for 3 #AMAs ...  \n",
       "1  RT @Marvel: Here it is! Watch the @Avengers: #...  \n",
       "2  \"This is another PR stunt by ISIS,\" Jordanian ...  \n",
       "3  RT @Independent: The media ignored the #Chapel...  \n",
       "4  RT @rivalsmike: Wow “@JeffPassan: Baylor kicke...  "
      ]
     },
     "execution_count": 8,
     "metadata": {},
     "output_type": "execute_result"
    }
   ],
   "source": [
    "# Load credbank training dataset\n",
    "train = pd.read_csv('../datasets/final_train_data.csv', lineterminator=\"\\n\")\n",
    "\n",
    "train.head()"
   ]
  },
  {
   "cell_type": "code",
   "execution_count": 9,
   "id": "ae5dfddf",
   "metadata": {},
   "outputs": [],
   "source": [
    "# Rename text column\n",
    "train.rename(columns={'text\\r':'text'}, inplace=True)"
   ]
  },
  {
   "cell_type": "code",
   "execution_count": 10,
   "id": "82b422f9",
   "metadata": {},
   "outputs": [
    {
     "name": "stdout",
     "output_type": "stream",
     "text": [
      "<class 'pandas.core.frame.DataFrame'>\n",
      "RangeIndex: 344200 entries, 0 to 344199\n",
      "Data columns (total 3 columns):\n",
      " #   Column       Non-Null Count   Dtype  \n",
      "---  ------       --------------   -----  \n",
      " 0   id           344200 non-null  float64\n",
      " 1   is_credible  344200 non-null  int64  \n",
      " 2   text         344200 non-null  object \n",
      "dtypes: float64(1), int64(1), object(1)\n",
      "memory usage: 7.9+ MB\n"
     ]
    }
   ],
   "source": [
    "train.info()"
   ]
  },
  {
   "cell_type": "code",
   "execution_count": 11,
   "id": "c6031982",
   "metadata": {},
   "outputs": [
    {
     "name": "stdout",
     "output_type": "stream",
     "text": [
      "(344200, 3)\n"
     ]
    },
    {
     "data": {
      "text/plain": [
       "array([0, 1])"
      ]
     },
     "execution_count": 11,
     "metadata": {},
     "output_type": "execute_result"
    }
   ],
   "source": [
    "# Shape & unique targets\n",
    "print(train.shape)\n",
    "train['is_credible'].unique()"
   ]
  },
  {
   "cell_type": "code",
   "execution_count": 12,
   "id": "76d046ec",
   "metadata": {},
   "outputs": [
    {
     "data": {
      "text/plain": [
       "('RT @onedirection: The guys are up for 3 #AMAs including Artist of the Year, Fav. Group &amp; Fav. Album! You can vote here: http://t.co/pKt4iJF…\\r',\n",
       " 0)"
      ]
     },
     "execution_count": 12,
     "metadata": {},
     "output_type": "execute_result"
    }
   ],
   "source": [
    "# Feature & target defined\n",
    "X = train['text']\n",
    "y = train['is_credible']\n",
    "\n",
    "X[0], y[0]"
   ]
  },
  {
   "cell_type": "code",
   "execution_count": 13,
   "id": "5823edd9",
   "metadata": {
    "scrolled": true
   },
   "outputs": [
    {
     "data": {
      "text/plain": [
       "1    0.709384\n",
       "0    0.290616\n",
       "Name: is_credible, dtype: float64"
      ]
     },
     "execution_count": 13,
     "metadata": {},
     "output_type": "execute_result"
    }
   ],
   "source": [
    "# Distribution biased towards positive class, baseline accuracy\n",
    "y.value_counts(normalize=True)"
   ]
  },
  {
   "cell_type": "code",
   "execution_count": 14,
   "id": "08a2e97d",
   "metadata": {},
   "outputs": [
    {
     "data": {
      "text/plain": [
       "0         RT @onedirection: The guys are up for 3 #AMAs ...\n",
       "1         RT @Marvel: Here it is! Watch the @Avengers: #...\n",
       "2         \"This is another PR stunt by ISIS,\" Jordanian ...\n",
       "3         RT @Independent: The media ignored the #Chapel...\n",
       "4         RT @rivalsmike: Wow “@JeffPassan: Baylor kicke...\n",
       "                                ...                        \n",
       "344195    Martin Luther King Jr. skipped ninth and twelf...\n",
       "344196    Sammy Davis jr and martin Luther king jr tee. ...\n",
       "344197    US markets will be closed on Monday for the Ma...\n",
       "344198    Messi Bags 30th Barcelona Hat-Trick In 4-0 Win...\n",
       "344199                 RT @Ochoa___: Ohio State vs Oregon\\r\n",
       "Name: text, Length: 344200, dtype: object"
      ]
     },
     "execution_count": 14,
     "metadata": {},
     "output_type": "execute_result"
    }
   ],
   "source": [
    "# Pre-cleaning\n",
    "X"
   ]
  },
  {
   "cell_type": "code",
   "execution_count": 15,
   "id": "c35000fa",
   "metadata": {},
   "outputs": [],
   "source": [
    "# Initial cleaning\n",
    "\n",
    "def clean(text):\n",
    "    \n",
    "    #URLs\n",
    "    text = re.sub(r'https?://\\S+|www\\.\\S+','', text)\n",
    "    \n",
    "    #HTMLs\n",
    "    text = re.sub(r'<.*?>', '', text)\n",
    "    \n",
    "    #Emojis\n",
    "    emojis = re.compile(\n",
    "        '['\n",
    "        u'\\U0001F600-\\U0001F64F'  # emoticons\n",
    "        u'\\U0001F300-\\U0001F5FF'  # symbols & pictographs\n",
    "        u'\\U0001F680-\\U0001F6FF'  # transport & map symbols\n",
    "        u'\\U0001F1E0-\\U0001F1FF'  # flags (iOS)\n",
    "        u'\\U00002702-\\U000027B0'\n",
    "        u'\\U000024C2-\\U0001F251'\n",
    "        ']+',\n",
    "        flags=re.UNICODE)\n",
    "    text = emojis.sub(r'', text)\n",
    "    \n",
    "    #Line breaks\n",
    "    text = re.sub(r'\\n', '', text)\n",
    "    \n",
    "    # Alphabets only\n",
    "    text = re.sub(r'[^a-zA-Z ]', '', text)\n",
    "    \n",
    "    return text\n",
    "    \n",
    "X = X.apply(clean)"
   ]
  },
  {
   "cell_type": "code",
   "execution_count": 16,
   "id": "6c9cc47e",
   "metadata": {},
   "outputs": [
    {
     "data": {
      "text/plain": [
       "0         RT onedirection The guys are up for  AMAs incl...\n",
       "1         RT Marvel Here it is Watch the Avengers AgeofU...\n",
       "2         This is another PR stunt by ISIS Jordanian off...\n",
       "3         RT Independent The media ignored the ChapelHil...\n",
       "4          RT rivalsmike Wow JeffPassan Baylor kicker dead \n",
       "                                ...                        \n",
       "344195    Martin Luther King Jr skipped ninth and twelft...\n",
       "344196    Sammy Davis jr and martin Luther king jr tee T...\n",
       "344197    US markets will be closed on Monday for the Ma...\n",
       "344198    Messi Bags th Barcelona HatTrick In  Win At De...\n",
       "344199                        RT Ochoa Ohio State vs Oregon\n",
       "Name: text, Length: 344200, dtype: object"
      ]
     },
     "execution_count": 16,
     "metadata": {},
     "output_type": "execute_result"
    }
   ],
   "source": [
    "# post-cleaning round 1\n",
    "X"
   ]
  },
  {
   "cell_type": "code",
   "execution_count": 17,
   "id": "6a5ac613",
   "metadata": {},
   "outputs": [],
   "source": [
    "# Secondary cleaner\n",
    "# Twitter cleaner supplied by\n",
    "# https://www.kaggle.com/georgesaavedra/best-nlp-disaster-tweets-classifier\n",
    "\n",
    "def clean2(tweet):\n",
    "  # Acronyms and miswritten words\n",
    "  tweet = re.sub(r\"Typhoon-Devastated\", \"typhoon devastated\", tweet)\n",
    "  tweet = re.sub(r\"TyphoonDevastated\", \"typhoon devastated\", tweet)\n",
    "  tweet = re.sub(r\"typhoondevastated\", \"typhoon devastated\", tweet)\n",
    "  tweet = re.sub(r\"MH370\", \"Malaysia Airlines Flight\", tweet)\n",
    "  tweet = re.sub(r\"MH\", \"Malaysia Airlines Flight\", tweet)\n",
    "  tweet = re.sub(r\"mh370\", \"Malaysia Airlines Flight\", tweet)\n",
    "  tweet = re.sub(r\"year-old\", \"years old\", tweet)\n",
    "  tweet = re.sub(r\"yearold\", \"years old\", tweet)\n",
    "  tweet = re.sub(r\"yr old\", \"years old\", tweet)\n",
    "  tweet = re.sub(r\"PKK\", \"Kurdistan Workers Party\", tweet)\n",
    "  tweet = re.sub(r\"MP\", \"madhya pradesh\", tweet)\n",
    "  tweet = re.sub(r\"rly\", \"railway\", tweet)\n",
    "  tweet = re.sub(r\"CDT\", \"Central Daylight Time\", tweet)\n",
    "  tweet = re.sub(r\"sensorsenso\", \"sensor senso\", tweet)\n",
    "  tweet = re.sub(r\"pm\", \"\", tweet)\n",
    "  tweet = re.sub(r\"PM\", \"\", tweet)\n",
    "  tweet = re.sub(r\"nan\", '', tweet)\n",
    "  tweet = re.sub(r\"terrorismturn\", \"terrorism turn\", tweet)\n",
    "  tweet = re.sub(r\"epicente\", \"epicenter\", tweet)\n",
    "  tweet = re.sub(r\"epicenterr\", \"epicenter\", tweet)\n",
    "  tweet = re.sub(r\"WAwildfire\", \"Washington Wildfire\", tweet)\n",
    "  tweet = re.sub(r\"prebreak\", \"pre break\", tweet)\n",
    "  tweet = re.sub(r\"nowplaying\", \"now playing\", tweet)\n",
    "  tweet = re.sub(r\"RT\", \"retweet\", tweet)\n",
    "  tweet = re.sub(r\"EbolaOutbreak\", \"Ebola Outbreak\", tweet)\n",
    "  tweet = re.sub(r\"LondonFire\", \"London Fire\", tweet)\n",
    "  tweet = re.sub(r\"IDFire\", \"Idaho Fire\", tweet)\n",
    "  tweet = re.sub(r\"withBioterrorism&use\", \"with Bioterrorism & use\", tweet)\n",
    "  tweet = re.sub(r\"NASAHurricane\", \"NASA Hurricane\", tweet)\n",
    "  tweet = re.sub(r\"withweapons\", \"with weapons\", tweet)\n",
    "  tweet = re.sub(r\"NuclearPower\", \"Nuclear Power\", tweet)\n",
    "  tweet = re.sub(r\"WhiteTerrorism\", \"White Terrorism\", tweet)\n",
    "  tweet = re.sub(r\"MyanmarFlood\", \"Myanmar Flood\", tweet)\n",
    "  tweet = re.sub(r\"ExtremeWeather\", \"Extreme Weather\", tweet)\n",
    "\n",
    "  # Special characters\n",
    "  tweet = re.sub(r\"%20\", \"\", tweet)\n",
    "  tweet = re.sub(r\"%\", \"\", tweet)\n",
    "  tweet = re.sub(r\"@\", \"\", tweet)\n",
    "  tweet = re.sub(r\"#\", '', tweet)\n",
    "  tweet = re.sub(r\"'\", '', tweet)\n",
    "  tweet = re.sub(r\"\\x89û_\", '', tweet)\n",
    "  tweet = re.sub(r\"\\x89ûò\", '', tweet)\n",
    "  tweet = re.sub(r\"16yr\", \"16 year\", tweet)\n",
    "  tweet = re.sub(r\"re\\x89û_\", '', tweet)\n",
    "  tweet = re.sub(r\"\\x89û\", '', tweet)\n",
    "  tweet = re.sub(r\"\\x89Û\", '', tweet)\n",
    "  tweet = re.sub(r\"re\\x89Û\", \"re \", tweet)\n",
    "  tweet = re.sub(r\"re\\x89û\", \"re \", tweet)\n",
    "  tweet = re.sub(r\"\\x89ûª\", \"'\", tweet)\n",
    "  tweet = re.sub(r\"\\x89û\", '', tweet)\n",
    "  tweet = re.sub(r\"\\x89ûò\", '', tweet)\n",
    "  tweet = re.sub(r\"\\x89Û_\", \"\", tweet)\n",
    "  tweet = re.sub(r\"\\x89ÛÒ\", \"\", tweet)\n",
    "  tweet = re.sub(r\"\\x89ÛÓ\", \"\", tweet)\n",
    "  tweet = re.sub(r\"\\x89ÛÏWhen\", \"When\", tweet)\n",
    "  tweet = re.sub(r\"\\x89ÛÏ\", \"\", tweet)\n",
    "  tweet = re.sub(r\"China\\x89Ûªs\", \"China's\", tweet)\n",
    "  tweet = re.sub(r\"let\\x89Ûªs\", \"let's\", tweet)\n",
    "  tweet = re.sub(r\"\\x89Û÷\", \"\", tweet)\n",
    "  tweet = re.sub(r\"\\x89Ûª\", \"\", tweet)\n",
    "  tweet = re.sub(r\"\\x89Û\\x9d\", \"\", tweet)\n",
    "  tweet = re.sub(r\"å_\", \"\", tweet)\n",
    "  tweet = re.sub(r\"\\x89Û¢\", \"\", tweet)\n",
    "  tweet = re.sub(r\"\\x89Û¢åÊ\", \"\", tweet)\n",
    "  tweet = re.sub(r\"fromåÊwounds\", \"from wounds\", tweet)\n",
    "  tweet = re.sub(r\"åÊ\", \"\", tweet)\n",
    "  tweet = re.sub(r\"åÈ\", \"\", tweet)\n",
    "  tweet = re.sub(r\"JapÌ_n\", \"Japan\", tweet)    \n",
    "  tweet = re.sub(r\"Ì©\", \"e\", tweet)\n",
    "  tweet = re.sub(r\"å¨\", \"\", tweet)\n",
    "  tweet = re.sub(r\"SuruÌ¤\", \"Suruc\", tweet)\n",
    "  tweet = re.sub(r\"åÇ\", \"\", tweet)\n",
    "  tweet = re.sub(r\"å£3million\", f\"3 million\", tweet)\n",
    "  tweet = re.sub(r\"åÀ\", \"\", tweet)\n",
    "\n",
    "  # Contractions\n",
    "  tweet = re.sub(r\"he's\", \"he is\", tweet)\n",
    "  tweet = re.sub(r\"there's\", \"there is\", tweet)\n",
    "  tweet = re.sub(r\"We're\", \"We are\", tweet)\n",
    "  tweet = re.sub(r\"That's\", \"That is\", tweet)\n",
    "  tweet = re.sub(r\"won't\", \"will not\", tweet)\n",
    "  tweet = re.sub(r\"they're\", \"they are\", tweet)\n",
    "  tweet = re.sub(r\"Can't\", \"Cannot\", tweet)\n",
    "  tweet = re.sub(r\"wasn't\", \"was not\", tweet)\n",
    "  tweet = re.sub(r\"don\\x89Ûªt\", \"do not\", tweet)\n",
    "  tweet = re.sub(r\"aren't\", \"are not\", tweet)\n",
    "  tweet = re.sub(r\"isn't\", \"is not\", tweet)\n",
    "  tweet = re.sub(r\"What's\", \"What is\", tweet)\n",
    "  tweet = re.sub(r\"haven't\", \"have not\", tweet)\n",
    "  tweet = re.sub(r\"hasn't\", \"has not\", tweet)\n",
    "  tweet = re.sub(r\"There's\", \"There is\", tweet)\n",
    "  tweet = re.sub(r\"He's\", \"He is\", tweet)\n",
    "  tweet = re.sub(r\"It's\", \"It is\", tweet)\n",
    "  tweet = re.sub(r\"You're\", \"You are\", tweet)\n",
    "  tweet = re.sub(r\"I'M\", \"I am\", tweet)\n",
    "  tweet = re.sub(r\"Im\", \"I am\", tweet)\n",
    "  tweet = re.sub(r\"shouldn't\", \"should not\", tweet)\n",
    "  tweet = re.sub(r\"wouldn't\", \"would not\", tweet)\n",
    "  tweet = re.sub(r\"i'm\", \"I am\", tweet)\n",
    "  tweet = re.sub(r\"I\\x89Ûªm\", \"I am\", tweet)\n",
    "  tweet = re.sub(r\"I'm\", \"I am\", tweet)\n",
    "  tweet = re.sub(r\"Isn't\", \"is not\", tweet)\n",
    "  tweet = re.sub(r\"Here's\", \"Here is\", tweet)\n",
    "  tweet = re.sub(r\"you've\", \"you have\", tweet)\n",
    "  tweet = re.sub(r\"you\\x89Ûªve\", \"you have\", tweet)\n",
    "  tweet = re.sub(r\"we're\", \"we are\", tweet)\n",
    "  tweet = re.sub(r\"what's\", \"what is\", tweet)\n",
    "  tweet = re.sub(r\"couldn't\", \"could not\", tweet)\n",
    "  tweet = re.sub(r\"we've\", \"we have\", tweet)\n",
    "  tweet = re.sub(r\"it\\x89Ûªs\", \"it is\", tweet)\n",
    "  tweet = re.sub(r\"doesn\\x89Ûªt\", \"does not\", tweet)\n",
    "  tweet = re.sub(r\"It\\x89Ûªs\", \"It is\", tweet)\n",
    "  tweet = re.sub(r\"Here\\x89Ûªs\", \"Here is\", tweet)\n",
    "  tweet = re.sub(r\"who's\", \"who is\", tweet)\n",
    "  tweet = re.sub(r\"I\\x89Ûªve\", \"I have\", tweet)\n",
    "  tweet = re.sub(r\"y'all\", \"you all\", tweet)\n",
    "  tweet = re.sub(r\"can\\x89Ûªt\", \"cannot\", tweet)\n",
    "  tweet = re.sub(r\"would've\", \"would have\", tweet)\n",
    "  tweet = re.sub(r\"it'll\", \"it will\", tweet)\n",
    "  tweet = re.sub(r\"we'll\", \"we will\", tweet)\n",
    "  tweet = re.sub(r\"wouldn\\x89Ûªt\", \"would not\", tweet)\n",
    "  tweet = re.sub(r\"We've\", \"We have\", tweet)\n",
    "  tweet = re.sub(r\"he'll\", \"he will\", tweet)\n",
    "  tweet = re.sub(r\"Y'all\", \"You all\", tweet)\n",
    "  tweet = re.sub(r\"Weren't\", \"Were not\", tweet)\n",
    "  tweet = re.sub(r\"Didn't\", \"Did not\", tweet)\n",
    "  tweet = re.sub(r\"they'll\", \"they will\", tweet)\n",
    "  tweet = re.sub(r\"they'd\", \"they would\", tweet)\n",
    "  tweet = re.sub(r\"DON'T\", \"DO NOT\", tweet)\n",
    "  tweet = re.sub(r\"That\\x89Ûªs\", \"That is\", tweet)\n",
    "  tweet = re.sub(r\"they've\", \"they have\", tweet)\n",
    "  tweet = re.sub(r\"i'd\", \"I would\", tweet)\n",
    "  tweet = re.sub(r\"should've\", \"should have\", tweet)\n",
    "  tweet = re.sub(r\"You\\x89Ûªre\", \"You are\", tweet)\n",
    "  tweet = re.sub(r\"where's\", \"where is\", tweet)\n",
    "  tweet = re.sub(r\"Don\\x89Ûªt\", \"Do not\", tweet)\n",
    "  tweet = re.sub(r\"we'd\", \"we would\", tweet)\n",
    "  tweet = re.sub(r\"i'll\", \"I will\", tweet)\n",
    "  tweet = re.sub(r\"weren't\", \"were not\", tweet)\n",
    "  tweet = re.sub(r\"They're\", \"They are\", tweet)\n",
    "  tweet = re.sub(r\"Can\\x89Ûªt\", \"Cannot\", tweet)\n",
    "  tweet = re.sub(r\"you\\x89Ûªll\", \"you will\", tweet)\n",
    "  tweet = re.sub(r\"I\\x89Ûªd\", \"I would\", tweet)\n",
    "  tweet = re.sub(r\"let's\", \"let us\", tweet)\n",
    "  tweet = re.sub(r\"it's\", \"it is\", tweet)\n",
    "  tweet = re.sub(r\"can't\", \"can not\", tweet)\n",
    "  tweet = re.sub(r\"cant\", \"can not\", tweet)\n",
    "  tweet = re.sub(r\"don't\", \"do not\", tweet)\n",
    "  tweet = re.sub(r\"dont\", \"do not\", tweet)\n",
    "  tweet = re.sub(r\"you're\", \"you are\", tweet)\n",
    "  tweet = re.sub(r\"i've\", \"I have\", tweet)\n",
    "  tweet = re.sub(r\"that's\", \"that is\", tweet)\n",
    "  tweet = re.sub(r\"i'll\", \"I will\", tweet)\n",
    "  tweet = re.sub(r\"doesn't\", \"does not\", tweet)\n",
    "  tweet = re.sub(r\"i'd\", \"I would\", tweet)\n",
    "  tweet = re.sub(r\"didn't\", \"did not\", tweet)\n",
    "  tweet = re.sub(r\"ain't\", \"am not\", tweet)\n",
    "  tweet = re.sub(r\"you'll\", \"you will\", tweet)\n",
    "  tweet = re.sub(r\"I've\", \"I have\", tweet)\n",
    "  tweet = re.sub(r\"Don't\", \"do not\", tweet)\n",
    "  tweet = re.sub(r\"I'll\", \"I will\", tweet)\n",
    "  tweet = re.sub(r\"I'd\", \"I would\", tweet)\n",
    "  tweet = re.sub(r\"Let's\", \"Let us\", tweet)\n",
    "  tweet = re.sub(r\"you'd\", \"You would\", tweet)\n",
    "  tweet = re.sub(r\"It's\", \"It is\", tweet)\n",
    "  tweet = re.sub(r\"Ain't\", \"am not\", tweet)\n",
    "  tweet = re.sub(r\"Haven't\", \"Have not\", tweet)\n",
    "  tweet = re.sub(r\"Could've\", \"Could have\", tweet)\n",
    "  tweet = re.sub(r\"youve\", \"you have\", tweet)  \n",
    "  tweet = re.sub(r\"donå«t\", \"do not\", tweet)\n",
    "\n",
    "  return tweet\n",
    "\n",
    "X = X.apply(clean2)"
   ]
  },
  {
   "cell_type": "code",
   "execution_count": 18,
   "id": "ff7934b8",
   "metadata": {},
   "outputs": [
    {
     "data": {
      "text/plain": [
       "0         retweet onedirection The guys are up for  AMAs...\n",
       "1         retweet Marvel Here it is Watch the Avengers A...\n",
       "2         This is another PR stunt by ISIS Jordanian off...\n",
       "3         retweet Independent The media ignored the Chap...\n",
       "4         retweet rivalsmike Wow JeffPassan Baylor kicke...\n",
       "                                ...                        \n",
       "344195    Martin Luther King Jr skipped ninth and twelft...\n",
       "344196    Sammy Davis jr and martin Luther king jr tee T...\n",
       "344197    US markets will be closed on Monday for the Ma...\n",
       "344198    Messi Bags th Barcelona HatTrick In  Win At De...\n",
       "344199                   retweet Ochoa Ohio State vs Oregon\n",
       "Name: text, Length: 344200, dtype: object"
      ]
     },
     "execution_count": 18,
     "metadata": {},
     "output_type": "execute_result"
    }
   ],
   "source": [
    "# Post-cleaning round 2\n",
    "X"
   ]
  },
  {
   "cell_type": "code",
   "execution_count": 19,
   "id": "a7fc952f",
   "metadata": {},
   "outputs": [],
   "source": [
    "# Final cleaning\n",
    "def clean3(text):\n",
    "    \n",
    "    #Punctuations\n",
    "    text = re.sub(r'[%s]' % re.escape(string.punctuation), '', text)\n",
    "    \n",
    "    #Extra white-space\n",
    "    text = re.sub(r' +', ' ', text)\n",
    "    \n",
    "    return text.lower()\n",
    "\n",
    "X = X.apply(clean3)"
   ]
  },
  {
   "cell_type": "code",
   "execution_count": 20,
   "id": "4a44251b",
   "metadata": {},
   "outputs": [
    {
     "data": {
      "text/plain": [
       "0         retweet onedirection the guys are up for amas ...\n",
       "1         retweet marvel here it is watch the avengers a...\n",
       "2         this is another pr stunt by isis jordanian off...\n",
       "3         retweet independent the media ignored the chap...\n",
       "4         retweet rivalsmike wow jeffpassan baylor kicke...\n",
       "                                ...                        \n",
       "344195    martin luther king jr skipped ninth and twelft...\n",
       "344196    sammy davis jr and martin luther king jr tee t...\n",
       "344197    us markets will be closed on monday for the ma...\n",
       "344198    messi bags th barcelona hattrick in win at dep...\n",
       "344199                   retweet ochoa ohio state vs oregon\n",
       "Name: text, Length: 344200, dtype: object"
      ]
     },
     "execution_count": 20,
     "metadata": {},
     "output_type": "execute_result"
    }
   ],
   "source": [
    "# Final cleaned text\n",
    "X"
   ]
  },
  {
   "cell_type": "code",
   "execution_count": 22,
   "id": "2d84ecf5",
   "metadata": {},
   "outputs": [],
   "source": [
    "# Train test split\n",
    "X_train, X_test, y_train, y_test = train_test_split(X, y,\n",
    "                                                    random_state=42, \n",
    "                                                    stratify=y,\n",
    "                                                    test_size=0.2)"
   ]
  },
  {
   "cell_type": "code",
   "execution_count": 23,
   "id": "ccb7696a",
   "metadata": {},
   "outputs": [],
   "source": [
    "# Max words in tokenizer index\n",
    "max_words = 100000\n",
    "\n",
    "# Tokenizer fit, sequenced, padded\n",
    "tokenizer = Tokenizer(num_words=max_words)\n",
    "tokenizer.fit_on_texts(X_train)\n",
    "\n",
    "train_seq = tokenizer.texts_to_sequences(X_train)\n",
    "test_seq = tokenizer.texts_to_sequences(X_test)\n",
    "\n",
    "X_train = pad_sequences(train_seq, maxlen=60)\n",
    "X_test = pad_sequences(test_seq, maxlen=X_train.shape[1])\n",
    "\n",
    "# Word index stored for embedding matrix\n",
    "word_index = tokenizer.word_index\n",
    "\n",
    "# Dimensions for embedding matrix\n",
    "embedding_dim = 300\n",
    "vocab_size = min(len(word_index)+1, max_words)"
   ]
  },
  {
   "cell_type": "code",
   "execution_count": 18,
   "id": "04e3fd97",
   "metadata": {},
   "outputs": [],
   "source": [
    "# Solution by:\n",
    "    # https://stackoverflow.com/questions/45735070/keras-text-preprocessing-saving-tokenizer-object-to-file-for-scoring\n",
    "\n",
    "#Store tokenizer fit for future preprocessing\n",
    "import pickle\n",
    "\n",
    "# Saved\n",
    "with open('credbank_tokenizer.pickle', 'wb') as handle:\n",
    "    pickle.dump(tokenizer, handle, protocol=pickle.HIGHEST_PROTOCOL)\n",
    "    \n",
    "## Can be loaded for future use:\n",
    "    ## from tensorflow.keras.preprocessing.text import Tokenizer \n",
    "    ## import pickle\n",
    "    ##\n",
    "    ## with open('credbank_tokenizer.pickle', 'rb') as handle:\n",
    "    ##     tokenizer = pickle.load(handle)"
   ]
  },
  {
   "cell_type": "code",
   "execution_count": 19,
   "id": "f1b1e124",
   "metadata": {},
   "outputs": [],
   "source": [
    "# GENSIM IMPORT ON GOOGLE PRETRAINED WORD2VEC\n",
    "import gensim.downloader as api\n",
    "wv = api.load('word2vec-google-news-300')\n",
    "    # If you have the physical .bin file downloaded:\n",
    "        # wv = gensim.models.KeyedVectors.load_word2vec_format('GoogleNews-vectors-negative300.bin',binary=True)\n",
    "\n",
    "    # Empty matrix\n",
    "embedding_matrix = np.zeros((vocab_size, embedding_dim))\n",
    "\n",
    "# Tracking unrecognized words\n",
    "unknown = []\n",
    "\n",
    "# Iterate through fitted word index and\n",
    "# extract weighted vectors from pretrained Google word vector\n",
    "for word, index in word_index.items():\n",
    "    if index >= max_words:\n",
    "        continue\n",
    "    try:\n",
    "        embedding_vector = wv[word] # extract word vector\n",
    "        embedding_matrix[index] = embedding_vector # store word vector\n",
    "    except:\n",
    "        unknown.append(word)"
   ]
  },
  {
   "cell_type": "code",
   "execution_count": 20,
   "id": "e0181b03",
   "metadata": {},
   "outputs": [
    {
     "name": "stdout",
     "output_type": "stream",
     "text": [
      "72578\n"
     ]
    },
    {
     "data": {
      "text/plain": [
       "array(['magerie', 'beatandsound', 'morandiniblog', 'nossos', 'darrell',\n",
       "       'mchsaplang', 'gavinsblog', 'nijaeye', 'catorze', 'tgdavinci',\n",
       "       'jrsilence', 'amaskatyperry', 'kfobbs', 'jrsbnicpub', 'htfu',\n",
       "       'ignaciohood', 'dotages', 'chuvas', 'andrewwhiteau', 'cuztatted'],\n",
       "      dtype='<U101')"
      ]
     },
     "execution_count": 20,
     "metadata": {},
     "output_type": "execute_result"
    }
   ],
   "source": [
    "# 72578 unrecognized words\n",
    "print(len(unknown))\n",
    "\n",
    "# 20 random unrecognized words for visualization\n",
    "np.random.choice(unknown, 20)"
   ]
  },
  {
   "cell_type": "code",
   "execution_count": 21,
   "id": "a043ce10",
   "metadata": {
    "scrolled": true
   },
   "outputs": [
    {
     "name": "stdout",
     "output_type": "stream",
     "text": [
      "X_train/test:  (275360, 60) (68840, 60)\n",
      "y_train/test:  (275360,) (68840,)\n"
     ]
    }
   ],
   "source": [
    "# Targets converted to arrays\n",
    "y_train = np.asarray(y_train)\n",
    "y_test = np.asarray(y_test)\n",
    "\n",
    "# Shapes\n",
    "print('X_train/test: ', X_train.shape,X_test.shape)\n",
    "print('y_train/test: ', y_train.shape,y_test.shape)"
   ]
  },
  {
   "cell_type": "markdown",
   "id": "063a64da",
   "metadata": {},
   "source": [
    "# MODELING\n",
    "- Deep Neural Network:\n",
    "    - Embedding input layer\n",
    "    - 2 CNN layers + 1 Dense layer\n",
    "    - Dense output layer\n",
    "    - SGD optimizer with 0.001 learning rate + 0.99 momentum\n",
    "- Previously utilized Bidirectional LSTM instead of second CNN with similar results, but replaced due to ineffient use of memory & computational power"
   ]
  },
  {
   "cell_type": "code",
   "execution_count": 24,
   "id": "b5c72a86",
   "metadata": {},
   "outputs": [
    {
     "name": "stdout",
     "output_type": "stream",
     "text": [
      "Model: \"sequential_1\"\n",
      "_________________________________________________________________\n",
      " Layer (type)                Output Shape              Param #   \n",
      "=================================================================\n",
      " embeddings (Embedding)      (None, None, 300)         30000000  \n",
      "                                                                 \n",
      " batch_normalization (BatchN  (None, None, 300)        1200      \n",
      " ormalization)                                                   \n",
      "                                                                 \n",
      " dropout (Dropout)           (None, None, 300)         0         \n",
      "                                                                 \n",
      " conv1d (Conv1D)             (None, None, 32)          28832     \n",
      "                                                                 \n",
      " batch_normalization_1 (Batc  (None, None, 32)         128       \n",
      " hNormalization)                                                 \n",
      "                                                                 \n",
      " average_pooling1d (AverageP  (None, None, 32)         0         \n",
      " ooling1D)                                                       \n",
      "                                                                 \n",
      " dropout_1 (Dropout)         (None, None, 32)          0         \n",
      "                                                                 \n",
      " conv1d_1 (Conv1D)           (None, None, 64)          6208      \n",
      "                                                                 \n",
      " batch_normalization_2 (Batc  (None, None, 64)         256       \n",
      " hNormalization)                                                 \n",
      "                                                                 \n",
      " global_average_pooling1d (G  (None, 64)               0         \n",
      " lobalAveragePooling1D)                                          \n",
      "                                                                 \n",
      " dropout_2 (Dropout)         (None, 64)                0         \n",
      "                                                                 \n",
      " dense (Dense)               (None, 32)                2080      \n",
      "                                                                 \n",
      " batch_normalization_3 (Batc  (None, 32)               128       \n",
      " hNormalization)                                                 \n",
      "                                                                 \n",
      " dropout_3 (Dropout)         (None, 32)                0         \n",
      "                                                                 \n",
      " dense_1 (Dense)             (None, 1)                 33        \n",
      "                                                                 \n",
      "=================================================================\n",
      "Total params: 30,038,865\n",
      "Trainable params: 30,038,009\n",
      "Non-trainable params: 856\n",
      "_________________________________________________________________\n"
     ]
    },
    {
     "name": "stderr",
     "output_type": "stream",
     "text": [
      "2022-02-06 02:25:34.984219: W tensorflow/core/framework/cpu_allocator_impl.cc:82] Allocation of 120000000 exceeds 10% of free system memory.\n"
     ]
    }
   ],
   "source": [
    "# Model\n",
    "model = Sequential()\n",
    "\n",
    "# Embedding input\n",
    "model.add(Embedding(vocab_size, embedding_dim, weights=[embedding_matrix],\n",
    "                   trainable=True, name='embeddings'))\n",
    "model.add(BatchNormalization())\n",
    "model.add(Dropout(0.5))\n",
    "\n",
    "# 1 CNN layers\n",
    "model.add(Conv1D(filters=32, kernel_size=3, activation='relu'))\n",
    "model.add(BatchNormalization())\n",
    "model.add(AveragePooling1D())\n",
    "model.add(Dropout(0.25))\n",
    "\n",
    "# 1 CNN layers\n",
    "model.add(Conv1D(filters=64, kernel_size=3, activation='relu'))\n",
    "model.add(BatchNormalization())\n",
    "model.add(GlobalAveragePooling1D())\n",
    "model.add(Dropout(0.25))\n",
    "\n",
    "# 1 Dense layer\n",
    "model.add(Dense(32, activation='relu'))\n",
    "model.add(BatchNormalization())\n",
    "model.add(Dropout(0.4))\n",
    "\n",
    "# Sigmoid output\n",
    "model.add(Dense(1, activation='sigmoid'))\n",
    "\n",
    "\n",
    "# Model Compiled\n",
    "model.compile(loss='binary_crossentropy',\n",
    "             optimizer=SGD(learning_rate=0.001, momentum=0.99),\n",
    "             metrics=['acc'])\n",
    "\n",
    "# Summary\n",
    "model.summary()"
   ]
  },
  {
   "cell_type": "code",
   "execution_count": 25,
   "id": "a5e0f532",
   "metadata": {
    "scrolled": false
   },
   "outputs": [
    {
     "name": "stderr",
     "output_type": "stream",
     "text": [
      "2022-02-06 02:25:41.111360: W tensorflow/core/framework/cpu_allocator_impl.cc:82] Allocation of 66086400 exceeds 10% of free system memory.\n"
     ]
    },
    {
     "name": "stdout",
     "output_type": "stream",
     "text": [
      "Epoch 1/200\n"
     ]
    },
    {
     "name": "stderr",
     "output_type": "stream",
     "text": [
      "2022-02-06 02:25:42.750648: I tensorflow/stream_executor/cuda/cuda_dnn.cc:366] Loaded cuDNN version 8302\n",
      "2022-02-06 02:25:43.559266: I tensorflow/core/platform/default/subprocess.cc:304] Start cannot spawn child process: No such file or directory\n",
      "2022-02-06 02:25:43.635851: I tensorflow/stream_executor/cuda/cuda_blas.cc:1774] TensorFloat-32 will be used for the matrix multiplication. This will only be logged once.\n"
     ]
    },
    {
     "name": "stdout",
     "output_type": "stream",
     "text": [
      "538/538 [==============================] - ETA: 0s - loss: 0.3474 - acc: 0.8448"
     ]
    },
    {
     "name": "stderr",
     "output_type": "stream",
     "text": [
      "2022-02-06 02:25:48.758166: W tensorflow/core/framework/cpu_allocator_impl.cc:82] Allocation of 16521600 exceeds 10% of free system memory.\n",
      "2022-02-06 02:25:49.183735: W tensorflow/core/framework/cpu_allocator_impl.cc:82] Allocation of 120000000 exceeds 10% of free system memory.\n",
      "2022-02-06 02:25:49.302302: W tensorflow/core/framework/cpu_allocator_impl.cc:82] Allocation of 120000000 exceeds 10% of free system memory.\n"
     ]
    },
    {
     "name": "stdout",
     "output_type": "stream",
     "text": [
      "538/538 [==============================] - 8s 10ms/step - loss: 0.3474 - acc: 0.8448 - val_loss: 0.2157 - val_acc: 0.9143\n",
      "Epoch 2/200\n",
      "538/538 [==============================] - 5s 9ms/step - loss: 0.1650 - acc: 0.9399 - val_loss: 0.1130 - val_acc: 0.9591\n",
      "Epoch 3/200\n",
      "538/538 [==============================] - 5s 9ms/step - loss: 0.1362 - acc: 0.9515 - val_loss: 0.1001 - val_acc: 0.9624\n",
      "Epoch 4/200\n",
      "538/538 [==============================] - 6s 12ms/step - loss: 0.1216 - acc: 0.9566 - val_loss: 0.0899 - val_acc: 0.9663\n",
      "Epoch 5/200\n",
      "538/538 [==============================] - 6s 12ms/step - loss: 0.1125 - acc: 0.9597 - val_loss: 0.0835 - val_acc: 0.9694\n",
      "Epoch 6/200\n",
      "538/538 [==============================] - 5s 9ms/step - loss: 0.1051 - acc: 0.9622 - val_loss: 0.0797 - val_acc: 0.9704\n",
      "Epoch 7/200\n",
      "538/538 [==============================] - 5s 10ms/step - loss: 0.0998 - acc: 0.9640 - val_loss: 0.0955 - val_acc: 0.9652\n",
      "Epoch 8/200\n",
      "538/538 [==============================] - 5s 9ms/step - loss: 0.0959 - acc: 0.9651 - val_loss: 0.1698 - val_acc: 0.9233\n",
      "Epoch 9/200\n",
      "538/538 [==============================] - 6s 11ms/step - loss: 0.0923 - acc: 0.9667 - val_loss: 0.0723 - val_acc: 0.9723\n",
      "Epoch 10/200\n",
      "538/538 [==============================] - 6s 10ms/step - loss: 0.0890 - acc: 0.9680 - val_loss: 0.0956 - val_acc: 0.9660\n",
      "Epoch 11/200\n",
      "538/538 [==============================] - 5s 9ms/step - loss: 0.0858 - acc: 0.9686 - val_loss: 0.1969 - val_acc: 0.9153\n",
      "Epoch 12/200\n",
      "538/538 [==============================] - 6s 11ms/step - loss: 0.0837 - acc: 0.9693 - val_loss: 0.0660 - val_acc: 0.9752\n",
      "Epoch 13/200\n",
      "538/538 [==============================] - 6s 11ms/step - loss: 0.0818 - acc: 0.9698 - val_loss: 0.0697 - val_acc: 0.9729\n",
      "Epoch 14/200\n",
      "538/538 [==============================] - 6s 12ms/step - loss: 0.0797 - acc: 0.9708 - val_loss: 0.0665 - val_acc: 0.9744\n",
      "Epoch 15/200\n",
      "538/538 [==============================] - 7s 13ms/step - loss: 0.0781 - acc: 0.9716 - val_loss: 0.0611 - val_acc: 0.9766\n",
      "Epoch 16/200\n",
      "538/538 [==============================] - 7s 13ms/step - loss: 0.0769 - acc: 0.9717 - val_loss: 0.1999 - val_acc: 0.9194\n",
      "Epoch 17/200\n",
      "538/538 [==============================] - 8s 14ms/step - loss: 0.0759 - acc: 0.9722 - val_loss: 0.0616 - val_acc: 0.9762\n",
      "Epoch 18/200\n",
      "538/538 [==============================] - 6s 12ms/step - loss: 0.0748 - acc: 0.9725 - val_loss: 0.0619 - val_acc: 0.9762\n",
      "Epoch 19/200\n",
      "538/538 [==============================] - 5s 9ms/step - loss: 0.0731 - acc: 0.9732 - val_loss: 0.0585 - val_acc: 0.9774\n",
      "Epoch 20/200\n",
      "538/538 [==============================] - 6s 12ms/step - loss: 0.0719 - acc: 0.9734 - val_loss: 0.0579 - val_acc: 0.9779\n",
      "Epoch 21/200\n",
      "538/538 [==============================] - 7s 12ms/step - loss: 0.0712 - acc: 0.9733 - val_loss: 0.0843 - val_acc: 0.9711\n",
      "Epoch 22/200\n",
      "538/538 [==============================] - 6s 11ms/step - loss: 0.0701 - acc: 0.9739 - val_loss: 0.0573 - val_acc: 0.9775\n",
      "Epoch 23/200\n",
      "538/538 [==============================] - 6s 11ms/step - loss: 0.0693 - acc: 0.9745 - val_loss: 0.0572 - val_acc: 0.9776\n",
      "Epoch 24/200\n",
      "538/538 [==============================] - 6s 12ms/step - loss: 0.0682 - acc: 0.9746 - val_loss: 0.0630 - val_acc: 0.9760\n",
      "Epoch 25/200\n",
      "538/538 [==============================] - 6s 11ms/step - loss: 0.0673 - acc: 0.9750 - val_loss: 0.0565 - val_acc: 0.9780\n",
      "Epoch 26/200\n",
      "538/538 [==============================] - 7s 13ms/step - loss: 0.0670 - acc: 0.9753 - val_loss: 0.0561 - val_acc: 0.9791\n",
      "Epoch 27/200\n",
      "538/538 [==============================] - 5s 10ms/step - loss: 0.0666 - acc: 0.9751 - val_loss: 0.0556 - val_acc: 0.9782\n",
      "Epoch 28/200\n",
      "538/538 [==============================] - 6s 11ms/step - loss: 0.0658 - acc: 0.9755 - val_loss: 0.0548 - val_acc: 0.9787\n",
      "Epoch 29/200\n",
      "538/538 [==============================] - 6s 11ms/step - loss: 0.0645 - acc: 0.9760 - val_loss: 0.0539 - val_acc: 0.9788\n",
      "Epoch 30/200\n",
      "538/538 [==============================] - 7s 13ms/step - loss: 0.0640 - acc: 0.9760 - val_loss: 0.0559 - val_acc: 0.9780\n",
      "Epoch 31/200\n",
      "538/538 [==============================] - 7s 12ms/step - loss: 0.0641 - acc: 0.9759 - val_loss: 0.1980 - val_acc: 0.9417\n",
      "Epoch 32/200\n",
      "538/538 [==============================] - 7s 13ms/step - loss: 0.0629 - acc: 0.9763 - val_loss: 0.0550 - val_acc: 0.9783\n",
      "Epoch 33/200\n",
      "538/538 [==============================] - 6s 11ms/step - loss: 0.0627 - acc: 0.9765 - val_loss: 0.0533 - val_acc: 0.9791\n",
      "Epoch 34/200\n",
      "538/538 [==============================] - 6s 12ms/step - loss: 0.0625 - acc: 0.9765 - val_loss: 0.0533 - val_acc: 0.9789\n",
      "Epoch 35/200\n",
      "538/538 [==============================] - 7s 12ms/step - loss: 0.0621 - acc: 0.9768 - val_loss: 0.1004 - val_acc: 0.9538\n",
      "Epoch 36/200\n",
      "538/538 [==============================] - 6s 11ms/step - loss: 0.0612 - acc: 0.9769 - val_loss: 0.0527 - val_acc: 0.9791\n",
      "Epoch 37/200\n",
      "538/538 [==============================] - 6s 11ms/step - loss: 0.0610 - acc: 0.9770 - val_loss: 0.1232 - val_acc: 0.9488\n",
      "Epoch 38/200\n",
      "538/538 [==============================] - 5s 9ms/step - loss: 0.0600 - acc: 0.9771 - val_loss: 0.0793 - val_acc: 0.9726\n",
      "Epoch 39/200\n",
      "538/538 [==============================] - 5s 10ms/step - loss: 0.0605 - acc: 0.9771 - val_loss: 0.0710 - val_acc: 0.9738\n",
      "Epoch 40/200\n",
      "538/538 [==============================] - 6s 10ms/step - loss: 0.0599 - acc: 0.9773 - val_loss: 0.1309 - val_acc: 0.9468\n",
      "Epoch 41/200\n",
      "538/538 [==============================] - 5s 10ms/step - loss: 0.0593 - acc: 0.9775 - val_loss: 0.0503 - val_acc: 0.9800\n",
      "Epoch 42/200\n",
      "538/538 [==============================] - 6s 12ms/step - loss: 0.0586 - acc: 0.9778 - val_loss: 0.0520 - val_acc: 0.9793\n",
      "Epoch 43/200\n",
      "538/538 [==============================] - 7s 13ms/step - loss: 0.0589 - acc: 0.9779 - val_loss: 0.0502 - val_acc: 0.9800\n",
      "Epoch 44/200\n",
      "538/538 [==============================] - 6s 11ms/step - loss: 0.0576 - acc: 0.9781 - val_loss: 0.0509 - val_acc: 0.9798\n",
      "Epoch 45/200\n",
      "538/538 [==============================] - 5s 9ms/step - loss: 0.0584 - acc: 0.9778 - val_loss: 0.0547 - val_acc: 0.9792\n",
      "Epoch 46/200\n",
      "538/538 [==============================] - 5s 9ms/step - loss: 0.0577 - acc: 0.9782 - val_loss: 0.0573 - val_acc: 0.9729\n",
      "Epoch 47/200\n",
      "538/538 [==============================] - 5s 10ms/step - loss: 0.0569 - acc: 0.9785 - val_loss: 0.0494 - val_acc: 0.9808\n",
      "Epoch 48/200\n",
      "538/538 [==============================] - 5s 9ms/step - loss: 0.0570 - acc: 0.9782 - val_loss: 0.0514 - val_acc: 0.9805\n",
      "Epoch 49/200\n",
      "538/538 [==============================] - 7s 12ms/step - loss: 0.0565 - acc: 0.9784 - val_loss: 0.0506 - val_acc: 0.9798\n",
      "Epoch 50/200\n",
      "538/538 [==============================] - 6s 11ms/step - loss: 0.0557 - acc: 0.9789 - val_loss: 0.0493 - val_acc: 0.9803\n",
      "Epoch 51/200\n",
      "538/538 [==============================] - 5s 10ms/step - loss: 0.0564 - acc: 0.9784 - val_loss: 0.0780 - val_acc: 0.9737\n",
      "Epoch 52/200\n",
      "538/538 [==============================] - 5s 10ms/step - loss: 0.0564 - acc: 0.9781 - val_loss: 0.0493 - val_acc: 0.9804\n",
      "Epoch 53/200\n",
      "538/538 [==============================] - 5s 10ms/step - loss: 0.0554 - acc: 0.9788 - val_loss: 0.0484 - val_acc: 0.9805\n",
      "Epoch 54/200\n",
      "538/538 [==============================] - 5s 10ms/step - loss: 0.0554 - acc: 0.9790 - val_loss: 0.0492 - val_acc: 0.9803\n",
      "Epoch 55/200\n",
      "538/538 [==============================] - 6s 11ms/step - loss: 0.0550 - acc: 0.9791 - val_loss: 0.0488 - val_acc: 0.9805\n",
      "Epoch 56/200\n",
      "538/538 [==============================] - 6s 11ms/step - loss: 0.0548 - acc: 0.9789 - val_loss: 0.0493 - val_acc: 0.9811\n",
      "Epoch 57/200\n",
      "538/538 [==============================] - 5s 10ms/step - loss: 0.0540 - acc: 0.9792 - val_loss: 0.1110 - val_acc: 0.9540\n",
      "Epoch 58/200\n",
      "538/538 [==============================] - 7s 12ms/step - loss: 0.0546 - acc: 0.9791 - val_loss: 0.1474 - val_acc: 0.9453\n",
      "Epoch 59/200\n",
      "538/538 [==============================] - 6s 11ms/step - loss: 0.0543 - acc: 0.9791 - val_loss: 0.0537 - val_acc: 0.9757\n",
      "Epoch 60/200\n",
      "538/538 [==============================] - 6s 11ms/step - loss: 0.0539 - acc: 0.9793 - val_loss: 0.0475 - val_acc: 0.9808\n",
      "Epoch 61/200\n",
      "538/538 [==============================] - 6s 11ms/step - loss: 0.0531 - acc: 0.9795 - val_loss: 0.0506 - val_acc: 0.9797\n"
     ]
    },
    {
     "name": "stdout",
     "output_type": "stream",
     "text": [
      "Epoch 62/200\n",
      "538/538 [==============================] - 7s 13ms/step - loss: 0.0534 - acc: 0.9796 - val_loss: 0.0498 - val_acc: 0.9799\n",
      "Epoch 63/200\n",
      "538/538 [==============================] - 6s 12ms/step - loss: 0.0527 - acc: 0.9798 - val_loss: 0.0489 - val_acc: 0.9805\n",
      "Epoch 64/200\n",
      "538/538 [==============================] - 6s 12ms/step - loss: 0.0528 - acc: 0.9798 - val_loss: 0.0486 - val_acc: 0.9806\n",
      "Epoch 65/200\n",
      "538/538 [==============================] - 7s 13ms/step - loss: 0.0523 - acc: 0.9798 - val_loss: 0.0477 - val_acc: 0.9808\n",
      "Epoch 66/200\n",
      "538/538 [==============================] - 7s 12ms/step - loss: 0.0520 - acc: 0.9800 - val_loss: 0.0475 - val_acc: 0.9811\n",
      "Epoch 67/200\n",
      "538/538 [==============================] - 6s 11ms/step - loss: 0.0523 - acc: 0.9798 - val_loss: 0.0480 - val_acc: 0.9814\n",
      "Epoch 68/200\n",
      "538/538 [==============================] - 7s 12ms/step - loss: 0.0519 - acc: 0.9800 - val_loss: 0.0498 - val_acc: 0.9803\n",
      "Epoch 69/200\n",
      "538/538 [==============================] - 5s 10ms/step - loss: 0.0518 - acc: 0.9800 - val_loss: 0.2084 - val_acc: 0.9341\n",
      "Epoch 70/200\n",
      "538/538 [==============================] - 8s 14ms/step - loss: 0.0516 - acc: 0.9803 - val_loss: 0.3710 - val_acc: 0.8843\n",
      "Epoch 71/200\n",
      "538/538 [==============================] - 5s 9ms/step - loss: 0.0516 - acc: 0.9799 - val_loss: 0.0499 - val_acc: 0.9801\n",
      "Epoch 72/200\n",
      "538/538 [==============================] - 6s 10ms/step - loss: 0.0509 - acc: 0.9802 - val_loss: 0.0483 - val_acc: 0.9809\n",
      "Epoch 73/200\n",
      "538/538 [==============================] - 5s 9ms/step - loss: 0.0511 - acc: 0.9803 - val_loss: 0.0468 - val_acc: 0.9811\n",
      "Epoch 74/200\n",
      "538/538 [==============================] - 5s 10ms/step - loss: 0.0509 - acc: 0.9804 - val_loss: 0.0472 - val_acc: 0.9813\n",
      "Epoch 75/200\n",
      "538/538 [==============================] - 5s 9ms/step - loss: 0.0505 - acc: 0.9803 - val_loss: 0.0466 - val_acc: 0.9813\n",
      "Epoch 76/200\n",
      "538/538 [==============================] - 4s 8ms/step - loss: 0.0507 - acc: 0.9803 - val_loss: 0.0483 - val_acc: 0.9804\n",
      "Epoch 77/200\n",
      "538/538 [==============================] - 6s 11ms/step - loss: 0.0500 - acc: 0.9806 - val_loss: 0.0588 - val_acc: 0.9719\n",
      "Epoch 78/200\n",
      "538/538 [==============================] - 6s 12ms/step - loss: 0.0502 - acc: 0.9807 - val_loss: 0.0559 - val_acc: 0.9794\n",
      "Epoch 79/200\n",
      "538/538 [==============================] - 6s 10ms/step - loss: 0.0493 - acc: 0.9807 - val_loss: 0.0464 - val_acc: 0.9814\n",
      "Epoch 80/200\n",
      "538/538 [==============================] - 6s 11ms/step - loss: 0.0496 - acc: 0.9806 - val_loss: 0.0526 - val_acc: 0.9799\n",
      "Epoch 81/200\n",
      "538/538 [==============================] - 6s 12ms/step - loss: 0.0492 - acc: 0.9808 - val_loss: 0.0467 - val_acc: 0.9813\n",
      "Epoch 82/200\n",
      "538/538 [==============================] - 6s 11ms/step - loss: 0.0493 - acc: 0.9807 - val_loss: 0.0468 - val_acc: 0.9813\n",
      "Epoch 83/200\n",
      "538/538 [==============================] - 5s 10ms/step - loss: 0.0493 - acc: 0.9807 - val_loss: 0.0465 - val_acc: 0.9813\n",
      "Epoch 84/200\n",
      "538/538 [==============================] - 4s 8ms/step - loss: 0.0495 - acc: 0.9808 - val_loss: 0.0501 - val_acc: 0.9808\n",
      "Epoch 85/200\n",
      "538/538 [==============================] - 7s 13ms/step - loss: 0.0486 - acc: 0.9809 - val_loss: 0.0567 - val_acc: 0.9735\n",
      "Epoch 86/200\n",
      "538/538 [==============================] - 5s 9ms/step - loss: 0.0485 - acc: 0.9810 - val_loss: 0.0459 - val_acc: 0.9816\n",
      "Epoch 87/200\n",
      "538/538 [==============================] - 6s 11ms/step - loss: 0.0485 - acc: 0.9809 - val_loss: 0.0459 - val_acc: 0.9815\n",
      "Epoch 88/200\n",
      "538/538 [==============================] - 7s 13ms/step - loss: 0.0486 - acc: 0.9811 - val_loss: 0.0454 - val_acc: 0.9821\n",
      "Epoch 89/200\n",
      "538/538 [==============================] - 7s 13ms/step - loss: 0.0489 - acc: 0.9810 - val_loss: 0.0524 - val_acc: 0.9800\n",
      "Epoch 90/200\n",
      "538/538 [==============================] - 5s 10ms/step - loss: 0.0484 - acc: 0.9812 - val_loss: 0.0465 - val_acc: 0.9816\n",
      "Epoch 91/200\n",
      "538/538 [==============================] - 5s 9ms/step - loss: 0.0481 - acc: 0.9813 - val_loss: 0.0493 - val_acc: 0.9806\n",
      "Epoch 92/200\n",
      "538/538 [==============================] - 5s 10ms/step - loss: 0.0480 - acc: 0.9814 - val_loss: 0.1372 - val_acc: 0.9508\n",
      "Epoch 93/200\n",
      "538/538 [==============================] - 6s 11ms/step - loss: 0.0479 - acc: 0.9814 - val_loss: 0.0994 - val_acc: 0.9698\n",
      "Epoch 94/200\n",
      "538/538 [==============================] - 5s 10ms/step - loss: 0.0478 - acc: 0.9815 - val_loss: 0.0455 - val_acc: 0.9817\n",
      "Epoch 95/200\n",
      "538/538 [==============================] - 6s 11ms/step - loss: 0.0479 - acc: 0.9812 - val_loss: 0.2540 - val_acc: 0.9202\n",
      "Epoch 96/200\n",
      "538/538 [==============================] - 6s 11ms/step - loss: 0.0478 - acc: 0.9811 - val_loss: 0.0818 - val_acc: 0.9718\n",
      "Epoch 97/200\n",
      "538/538 [==============================] - 6s 11ms/step - loss: 0.0475 - acc: 0.9813 - val_loss: 0.0468 - val_acc: 0.9812\n",
      "Epoch 98/200\n",
      "538/538 [==============================] - 5s 10ms/step - loss: 0.0476 - acc: 0.9814 - val_loss: 0.0454 - val_acc: 0.9818\n",
      "Epoch 99/200\n",
      "538/538 [==============================] - 6s 12ms/step - loss: 0.0469 - acc: 0.9818 - val_loss: 0.0470 - val_acc: 0.9812\n",
      "Epoch 100/200\n",
      "538/538 [==============================] - 6s 12ms/step - loss: 0.0464 - acc: 0.9815 - val_loss: 0.0452 - val_acc: 0.9818\n",
      "Epoch 101/200\n",
      "538/538 [==============================] - 6s 11ms/step - loss: 0.0468 - acc: 0.9816 - val_loss: 0.0452 - val_acc: 0.9819\n",
      "Epoch 102/200\n",
      "538/538 [==============================] - 6s 12ms/step - loss: 0.0464 - acc: 0.9820 - val_loss: 0.0486 - val_acc: 0.9815\n",
      "Epoch 103/200\n",
      "538/538 [==============================] - 6s 12ms/step - loss: 0.0464 - acc: 0.9818 - val_loss: 0.0451 - val_acc: 0.9819\n",
      "Epoch 104/200\n",
      "538/538 [==============================] - 5s 10ms/step - loss: 0.0466 - acc: 0.9815 - val_loss: 0.0772 - val_acc: 0.9653\n",
      "Epoch 105/200\n",
      "538/538 [==============================] - 6s 12ms/step - loss: 0.0465 - acc: 0.9816 - val_loss: 0.0449 - val_acc: 0.9822\n",
      "Epoch 106/200\n",
      "538/538 [==============================] - 6s 11ms/step - loss: 0.0454 - acc: 0.9823 - val_loss: 0.0447 - val_acc: 0.9822\n",
      "Epoch 107/200\n",
      "538/538 [==============================] - 6s 11ms/step - loss: 0.0455 - acc: 0.9823 - val_loss: 0.0451 - val_acc: 0.9823\n",
      "Epoch 108/200\n",
      "538/538 [==============================] - 5s 10ms/step - loss: 0.0457 - acc: 0.9820 - val_loss: 0.0743 - val_acc: 0.9657\n",
      "Epoch 109/200\n",
      "538/538 [==============================] - 6s 11ms/step - loss: 0.0458 - acc: 0.9821 - val_loss: 0.0448 - val_acc: 0.9819\n",
      "Epoch 110/200\n",
      "538/538 [==============================] - 7s 13ms/step - loss: 0.0459 - acc: 0.9819 - val_loss: 0.0462 - val_acc: 0.9818\n",
      "Epoch 111/200\n",
      "538/538 [==============================] - 6s 11ms/step - loss: 0.0455 - acc: 0.9820 - val_loss: 0.0449 - val_acc: 0.9821\n",
      "Epoch 112/200\n",
      "538/538 [==============================] - 7s 13ms/step - loss: 0.0451 - acc: 0.9824 - val_loss: 0.0505 - val_acc: 0.9810\n",
      "Epoch 113/200\n",
      "538/538 [==============================] - 5s 10ms/step - loss: 0.0454 - acc: 0.9822 - val_loss: 0.0446 - val_acc: 0.9822\n",
      "Epoch 114/200\n",
      "538/538 [==============================] - 7s 12ms/step - loss: 0.0452 - acc: 0.9822 - val_loss: 0.0450 - val_acc: 0.9823\n",
      "Epoch 115/200\n",
      "538/538 [==============================] - 6s 11ms/step - loss: 0.0447 - acc: 0.9825 - val_loss: 0.0443 - val_acc: 0.9821\n",
      "Epoch 116/200\n",
      "538/538 [==============================] - 6s 11ms/step - loss: 0.0454 - acc: 0.9823 - val_loss: 0.0442 - val_acc: 0.9822\n",
      "Epoch 117/200\n",
      "538/538 [==============================] - 5s 10ms/step - loss: 0.0448 - acc: 0.9824 - val_loss: 0.0457 - val_acc: 0.9817\n",
      "Epoch 118/200\n",
      "538/538 [==============================] - 5s 10ms/step - loss: 0.0443 - acc: 0.9823 - val_loss: 0.0445 - val_acc: 0.9823\n",
      "Epoch 119/200\n",
      "538/538 [==============================] - 5s 9ms/step - loss: 0.0444 - acc: 0.9824 - val_loss: 0.0463 - val_acc: 0.9818\n",
      "Epoch 120/200\n",
      "538/538 [==============================] - 6s 11ms/step - loss: 0.0448 - acc: 0.9824 - val_loss: 0.0457 - val_acc: 0.9819\n",
      "Epoch 121/200\n",
      "538/538 [==============================] - 5s 8ms/step - loss: 0.0443 - acc: 0.9824 - val_loss: 0.0477 - val_acc: 0.9814\n",
      "Epoch 122/200\n",
      "538/538 [==============================] - 5s 10ms/step - loss: 0.0440 - acc: 0.9826 - val_loss: 0.0453 - val_acc: 0.9821\n",
      "Epoch 123/200\n",
      "538/538 [==============================] - 7s 12ms/step - loss: 0.0444 - acc: 0.9825 - val_loss: 0.0496 - val_acc: 0.9808\n",
      "Epoch 124/200\n",
      "538/538 [==============================] - 7s 13ms/step - loss: 0.0437 - acc: 0.9826 - val_loss: 0.0442 - val_acc: 0.9824\n",
      "Epoch 125/200\n",
      "538/538 [==============================] - 7s 12ms/step - loss: 0.0438 - acc: 0.9825 - val_loss: 0.0446 - val_acc: 0.9823\n",
      "Epoch 126/200\n",
      "538/538 [==============================] - 6s 11ms/step - loss: 0.0435 - acc: 0.9828 - val_loss: 0.0439 - val_acc: 0.9824\n",
      "Epoch 127/200\n",
      "538/538 [==============================] - 5s 9ms/step - loss: 0.0435 - acc: 0.9829 - val_loss: 0.0463 - val_acc: 0.9817\n",
      "Epoch 128/200\n",
      "538/538 [==============================] - 6s 11ms/step - loss: 0.0437 - acc: 0.9826 - val_loss: 0.0457 - val_acc: 0.9819\n",
      "Epoch 129/200\n",
      "538/538 [==============================] - 5s 9ms/step - loss: 0.0437 - acc: 0.9827 - val_loss: 0.0447 - val_acc: 0.9821\n",
      "Epoch 130/200\n",
      "538/538 [==============================] - 5s 10ms/step - loss: 0.0437 - acc: 0.9825 - val_loss: 0.2347 - val_acc: 0.9261\n",
      "Epoch 131/200\n",
      "538/538 [==============================] - 5s 9ms/step - loss: 0.0431 - acc: 0.9828 - val_loss: 0.0445 - val_acc: 0.9825\n",
      "Epoch 132/200\n",
      "538/538 [==============================] - 5s 9ms/step - loss: 0.0425 - acc: 0.9832 - val_loss: 0.0441 - val_acc: 0.9824\n",
      "Epoch 133/200\n",
      "538/538 [==============================] - 5s 9ms/step - loss: 0.0428 - acc: 0.9831 - val_loss: 0.0447 - val_acc: 0.9821\n",
      "Epoch 134/200\n",
      "538/538 [==============================] - 6s 10ms/step - loss: 0.0432 - acc: 0.9831 - val_loss: 0.0446 - val_acc: 0.9824\n",
      "Epoch 135/200\n",
      "538/538 [==============================] - 5s 9ms/step - loss: 0.0428 - acc: 0.9831 - val_loss: 0.0446 - val_acc: 0.9825\n",
      "Epoch 136/200\n",
      "538/538 [==============================] - 5s 9ms/step - loss: 0.0431 - acc: 0.9829 - val_loss: 0.0441 - val_acc: 0.9825\n",
      "Epoch 137/200\n",
      "538/538 [==============================] - 5s 9ms/step - loss: 0.0431 - acc: 0.9831 - val_loss: 0.0436 - val_acc: 0.9827\n",
      "Epoch 138/200\n",
      "538/538 [==============================] - 5s 9ms/step - loss: 0.0431 - acc: 0.9829 - val_loss: 0.0480 - val_acc: 0.9813\n",
      "Epoch 139/200\n",
      "538/538 [==============================] - 6s 11ms/step - loss: 0.0423 - acc: 0.9831 - val_loss: 0.0443 - val_acc: 0.9825\n",
      "Epoch 140/200\n",
      "538/538 [==============================] - 5s 9ms/step - loss: 0.0426 - acc: 0.9830 - val_loss: 0.0451 - val_acc: 0.9823\n",
      "Epoch 141/200\n",
      "538/538 [==============================] - 5s 10ms/step - loss: 0.0420 - acc: 0.9836 - val_loss: 0.6950 - val_acc: 0.8212\n",
      "Epoch 142/200\n",
      "538/538 [==============================] - 6s 11ms/step - loss: 0.0425 - acc: 0.9827 - val_loss: 0.0554 - val_acc: 0.9745\n",
      "Epoch 143/200\n",
      "538/538 [==============================] - 5s 10ms/step - loss: 0.0418 - acc: 0.9833 - val_loss: 0.0446 - val_acc: 0.9820\n",
      "Epoch 144/200\n",
      "538/538 [==============================] - 5s 9ms/step - loss: 0.0419 - acc: 0.9835 - val_loss: 0.1481 - val_acc: 0.9498\n",
      "Epoch 145/200\n",
      "538/538 [==============================] - 5s 10ms/step - loss: 0.0421 - acc: 0.9834 - val_loss: 0.0657 - val_acc: 0.9770\n",
      "Epoch 146/200\n",
      "538/538 [==============================] - 6s 11ms/step - loss: 0.0418 - acc: 0.9834 - val_loss: 0.0442 - val_acc: 0.9825\n",
      "Epoch 147/200\n",
      "538/538 [==============================] - 6s 11ms/step - loss: 0.0416 - acc: 0.9836 - val_loss: 0.0449 - val_acc: 0.9825\n",
      "Epoch 148/200\n",
      "538/538 [==============================] - 5s 10ms/step - loss: 0.0417 - acc: 0.9836 - val_loss: 0.0544 - val_acc: 0.9746\n",
      "Epoch 149/200\n",
      "538/538 [==============================] - 6s 12ms/step - loss: 0.0415 - acc: 0.9832 - val_loss: 0.0481 - val_acc: 0.9816\n",
      "Epoch 150/200\n",
      "538/538 [==============================] - 8s 15ms/step - loss: 0.0413 - acc: 0.9832 - val_loss: 0.0441 - val_acc: 0.9825\n",
      "Epoch 151/200\n",
      "538/538 [==============================] - 6s 11ms/step - loss: 0.0414 - acc: 0.9834 - val_loss: 0.0441 - val_acc: 0.9826\n",
      "Epoch 152/200\n",
      "538/538 [==============================] - 6s 12ms/step - loss: 0.0414 - acc: 0.9836 - val_loss: 0.1172 - val_acc: 0.9662\n",
      "Epoch 153/200\n",
      "538/538 [==============================] - 5s 10ms/step - loss: 0.0417 - acc: 0.9832 - val_loss: 0.0573 - val_acc: 0.9780\n",
      "Epoch 154/200\n",
      "538/538 [==============================] - 5s 9ms/step - loss: 0.0405 - acc: 0.9840 - val_loss: 0.0457 - val_acc: 0.9821\n",
      "Epoch 155/200\n",
      "538/538 [==============================] - 5s 10ms/step - loss: 0.0407 - acc: 0.9836 - val_loss: 0.0559 - val_acc: 0.9803\n",
      "Epoch 156/200\n",
      "538/538 [==============================] - 7s 13ms/step - loss: 0.0406 - acc: 0.9838 - val_loss: 0.0443 - val_acc: 0.9825\n",
      "Epoch 157/200\n",
      "538/538 [==============================] - 5s 10ms/step - loss: 0.0408 - acc: 0.9835 - val_loss: 0.0440 - val_acc: 0.9826\n",
      "Epoch 158/200\n",
      "538/538 [==============================] - 7s 13ms/step - loss: 0.0405 - acc: 0.9838 - val_loss: 0.0443 - val_acc: 0.9826\n",
      "Epoch 159/200\n",
      "538/538 [==============================] - 5s 10ms/step - loss: 0.0400 - acc: 0.9839 - val_loss: 0.0971 - val_acc: 0.9626\n",
      "Epoch 160/200\n",
      "538/538 [==============================] - 5s 10ms/step - loss: 0.0406 - acc: 0.9838 - val_loss: 0.0468 - val_acc: 0.9819\n",
      "Epoch 161/200\n",
      "538/538 [==============================] - 6s 11ms/step - loss: 0.0406 - acc: 0.9839 - val_loss: 0.1560 - val_acc: 0.9478\n",
      "Epoch 162/200\n",
      "538/538 [==============================] - 5s 9ms/step - loss: 0.0403 - acc: 0.9838 - val_loss: 0.0508 - val_acc: 0.9805\n"
     ]
    }
   ],
   "source": [
    "# Early stop 25 epochs after lowest validation, best weights restored\n",
    "early = EarlyStopping(monitor='val_loss', patience=25, min_delta = 0.0001, restore_best_weights=True)\n",
    "\n",
    "# Store best weights for future use without re-training\n",
    "filepath = \"weights/weights-improvement-{epoch:02d}-{val_loss:.4f}.hdf5\"\n",
    "checkpoint = ModelCheckpoint(filepath, mode='min', save_weights_only=True, thresh=0.0001)\n",
    "\n",
    "history = model.fit(X_train, y_train,\n",
    "                    validation_data=(X_test, y_test),\n",
    "                    batch_size=512,\n",
    "                    epochs=200,\n",
    "                    callbacks=[early, checkpoint],\n",
    "                    verbose=1)"
   ]
  },
  {
   "cell_type": "code",
   "execution_count": 26,
   "id": "396f4184",
   "metadata": {},
   "outputs": [
    {
     "data": {
      "image/png": "[encoded data removed]",
      "text/plain": [
       "<Figure size 864x432 with 1 Axes>"
      ]
     },
     "metadata": {
      "needs_background": "light"
     },
     "output_type": "display_data"
    }
   ],
   "source": [
    "# Loss plot\n",
    "plt.figure(figsize=(12,6))\n",
    "plt.plot(history.history['loss'], label='Train loss')\n",
    "plt.plot(history.history['val_loss'], label='Test loss')\n",
    "plt.legend();"
   ]
  },
  {
   "cell_type": "markdown",
   "id": "58ea6f83",
   "metadata": {},
   "source": [
    "# RESULTS\n",
    "\n",
    "**Embedding(weights=Google)(0.5dropout) || CNN(64)(BatchNormalization+AveragePooling)(0.25dropout) || Bi-LSTM(64) || Dense(64)(0.4dropout) || Dense(1sigmoid)**\n",
    "- SGD(learning_rate=0.001, momentum=0.99)\n",
    "    - EPOCH 136 -- loss: 0.0431 - acc: 0.9831 - val_loss: 0.0436 - val_acc: 0.9827"
   ]
  },
  {
   "cell_type": "code",
   "execution_count": 27,
   "id": "0d4bfdf0",
   "metadata": {},
   "outputs": [],
   "source": [
    "# Reload best weight from epoch 136/200\n",
    "model.load_weights('weights/weights-improvement-137-0.0436.hdf5')\n",
    "\n",
    "# Save model\n",
    "model.save('pretrained_models/credibility_model.hdf5')"
   ]
  },
  {
   "cell_type": "markdown",
   "id": "a0d08b03",
   "metadata": {},
   "source": [
    "# TESTING RESULTS"
   ]
  },
  {
   "cell_type": "code",
   "execution_count": 31,
   "id": "8f84afa4",
   "metadata": {
    "scrolled": false
   },
   "outputs": [
    {
     "name": "stdout",
     "output_type": "stream",
     "text": [
      "TEST RESULTS\n",
      "ACCURACY: 0.801980198019802\n",
      "F1 SCORE: 0.7727272727272727\n",
      "ROC AUC: 0.8007843137254903\n"
     ]
    },
    {
     "data": {
      "image/png": "[encoded data removed]",
      "text/plain": [
       "<Figure size 432x288 with 2 Axes>"
      ]
     },
     "metadata": {
      "needs_background": "light"
     },
     "output_type": "display_data"
    }
   ],
   "source": [
    "# Randomized datasets personally labeled by group\n",
    "\n",
    "from sklearn.metrics import accuracy_score, f1_score, roc_auc_score, confusion_matrix\n",
    "\n",
    "# Testing randomized pre-labeled test dataset\n",
    "test = pd.read_csv('../datasets/validation_data.csv', lineterminator='\\n')\n",
    "\n",
    "# Cleaned & preprocessed\n",
    "text_raw = test['text']\n",
    "test_cleaned = text_raw.apply(clean).apply(clean2).apply(clean3)\n",
    "test_seq = tokenizer.texts_to_sequences(test_cleaned)\n",
    "test_padded = pad_sequences(test_seq, maxlen=60)\n",
    "\n",
    "# Predictions\n",
    "test['predictions'] = (model.predict(test_padded)>0.5).astype(int)\n",
    "\n",
    "# Scores\n",
    "acc = accuracy_score(test['is_credible'], test['predictions'])\n",
    "f1 = f1_score(test['is_credible'], test['predictions'])\n",
    "roc_auc = roc_auc_score(test['is_credible'], test['predictions'])\n",
    "\n",
    "print('TEST RESULTS')\n",
    "print(f'ACCURACY: {acc}')\n",
    "print(f'F1 SCORE: {f1}')\n",
    "print(f'ROC AUC: {roc_auc}')\n",
    "\n",
    "# Confusion matrix\n",
    "cm = confusion_matrix(test['is_credible'], test['predictions'])\n",
    "sns.heatmap(cm, cmap= 'cividis', annot=True, fmt='g', annot_kws={'size':20})\n",
    "plt.xlabel('predicted', fontsize=18)\n",
    "plt.ylabel('actual', fontsize=18)\n",
    "plt.title('Test Actual vs Predicted', fontsize=18)\n",
    "plt.show()"
   ]
  },
  {
   "cell_type": "code",
   "execution_count": 25,
   "id": "f0c831a5",
   "metadata": {
    "scrolled": false
   },
   "outputs": [
    {
     "name": "stdout",
     "output_type": "stream",
     "text": [
      "TEST RESULTS\n",
      "ACCURACY: 0.57\n",
      "F1 SCORE: 0.6083788706739526\n",
      "ROC AUC: 0.5700000000000001\n"
     ]
    },
    {
     "data": {
      "image/png": "[encoded data removed]",
      "text/plain": [
       "<Figure size 432x288 with 2 Axes>"
      ]
     },
     "metadata": {
      "needs_background": "light"
     },
     "output_type": "display_data"
    }
   ],
   "source": [
    "from tensorflow.keras.models import load_model\n",
    "\n",
    "# Random wildfire dataset\n",
    "model = load_model('pretrained_models/credibility_model.hdf5')\n",
    "\n",
    "# Testing randomized pre-labeled test dataset\n",
    "test = pd.read_csv('../datasets/california_wildfires.csv')\n",
    "\n",
    "# Cleaned & preprocessed\n",
    "text_raw = test['text']\n",
    "test_cleaned = text_raw.apply(clean).apply(clean2).apply(clean3)\n",
    "test_seq = tokenizer.texts_to_sequences(test_cleaned)\n",
    "test_padded = pad_sequences(test_seq, maxlen=60)\n",
    "\n",
    "# Predictions\n",
    "test['predictions'] = (model.predict(test_padded)>0.5).astype(int)\n",
    "\n",
    "# Scores\n",
    "acc = accuracy_score(test['is_credible'], test['predictions'])\n",
    "f1 = f1_score(test['is_credible'], test['predictions'])\n",
    "roc_auc = roc_auc_score(test['is_credible'], test['predictions'])\n",
    "cm = confusion_matrix(test['is_credible'], test['predictions'])\n",
    "\n",
    "print('TEST RESULTS')\n",
    "print(f'ACCURACY: {acc}')\n",
    "print(f'F1 SCORE: {f1}')\n",
    "print(f'ROC AUC: {roc_auc}')\n",
    "\n",
    "# Confusion matrix\n",
    "sns.heatmap(cm, cmap= 'cividis', annot=True, fmt='g', annot_kws={'size':20})\n",
    "plt.xlabel('predicted', fontsize=18)\n",
    "plt.ylabel('actual', fontsize=18)\n",
    "plt.title('Test Actual vs Predicted', fontsize=18)\n",
    "plt.show()"
   ]
  }
 ],
 "metadata": {
  "kernelspec": {
   "display_name": "Python 3 (ipykernel)",
   "language": "python",
   "name": "python3"
  },
  "language_info": {
   "codemirror_mode": {
    "name": "ipython",
    "version": 3
   },
   "file_extension": ".py",
   "mimetype": "text/x-python",
   "name": "python",
   "nbconvert_exporter": "python",
   "pygments_lexer": "ipython3",
   "version": "3.9.7"
  }
 },
 "nbformat": 4,
 "nbformat_minor": 5
}
