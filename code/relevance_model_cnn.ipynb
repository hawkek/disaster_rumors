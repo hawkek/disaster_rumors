{
 "cells": [
  {
   "cell_type": "markdown",
   "id": "14a42ac6",
   "metadata": {},
   "source": [
    "# MODEL 1: DISASTER RELEVANCE VERIFICATION\n",
    "\n",
    "### DATA WRANGLING\n",
    "Using a dataset of tweets provided by [Kaggle](https://www.kaggle.com/jannesklaas/disasters-on-social-media) sourced originally from Figure-Eight (acquired by [Appen](www.appen.com)), a blackbox model based on neural networks was developed.\n",
    "\n",
    "The purpose of the model is to be able to accept any tweet as an input and return a classification of whether the tweet is related to a distaster or not.\n",
    "\n",
    "The data originally had a 3rd classification \"Can't Decide\" along with \"Relevant\" & \"Not Relevant\", therefore all rows with the 3rd classification were removed. The sample size was barely affected as it only dropped from 10876 to 10860.\n",
    "\n",
    "Additionally, the text contents of each tweet underwent extensive cleaning as provided by Kaggle user [georgesaavedra](https://www.kaggle.com/georgesaavedra/best-nlp-disaster-tweets-classifier):\n",
    "- URL & HTML removal\n",
    "- emoji removal\n",
    "- line breaks to spaces\n",
    "- common abbreviations/slang/typos converted to real words\n",
    "- punctuation & number removal (retaining only letters)\n",
    "- lower-cased\n",
    "\n",
    "As neural networks require array inputs, all tweets were tokenized and converted to sequences of max length 60 with padding, if required. Max length 60 was selected as the max length of a tweet is 280 characters which is 55 words on average. \n",
    "\n",
    "To further improve the impact of each word, a pretrained Google News corpus was utilized to create a word embedding matrix where recognized words from all tweets were assigned a weight predetermined by Google. This weight matrix was used for the weight parameter in the embedding input layer of the neural network.\n",
    "\n",
    "### MODELING\n",
    "Through trial and error of numerous neural network implementations, a low-loss, low-variance model was developed with an accuracy of **83%**:\n",
    "- RESULTS: loss: 0.3918 - acc: 0.8354 - val_loss: 0.4055 - val_acc: 0.8310\n",
    "\n",
    "Model composition:\n",
    "- Stochastic Gradient Descent (SGD) optimizer\n",
    "    - Adam resulted in very overfit models with high variance\n",
    "- Embedding input layer\n",
    "- 2 Conv1D layers (32 & 64 filters respectively)\n",
    "- 1 Dense layer (32 filters)\n",
    "- Dense sigmoid output layer \n",
    "    - Batchnomalization + Dropout applied to all layers except output\n",
    "    - AveragePooling1D and GlobalAveragePooling1D (similar to AveragePooling+Flatten) applied to all Conv1D layers\n",
    "    \n",
    "Based the best results from epoch 129/200 were re-loaded and the model was saved to 'pretrained_models/relevance_model.hdf5' for re-use in the web-app.\n",
    "\n",
    "### CONCLUSION\n",
    "Through numerous modifications to the model, including uses of LSTM layers, 83% would be the best performance. Despite this fact, we've concluded that it's okay to have the remaining 17% unaccounted for as tweets that are considered false positive (predicted as relevant, but is not) would end up being classified as misinformation in the 2nd model - the disaster credibility model."
   ]
  },
  {
   "cell_type": "code",
   "execution_count": 2,
   "id": "d586c991",
   "metadata": {},
   "outputs": [],
   "source": [
    "import pandas as pd, numpy as np, matplotlib.pyplot as plt, seaborn as sns\n",
    "import re\n",
    "import string\n",
    "import gensim\n",
    "\n",
    "from sklearn.model_selection import train_test_split\n",
    "\n",
    "import tensorflow as tf\n",
    "from tensorflow.keras.preprocessing.text import Tokenizer\n",
    "from tensorflow.keras.preprocessing.sequence import pad_sequences\n",
    "from tensorflow.keras.models import Sequential\n",
    "\n",
    "from tensorflow.keras.layers import Dense, Embedding, BatchNormalization, Dropout, AveragePooling1D, GlobalAveragePooling1D, Conv1D, Flatten\n",
    "from tensorflow.keras.callbacks import EarlyStopping, ModelCheckpoint"
   ]
  },
  {
   "cell_type": "code",
   "execution_count": 3,
   "id": "309864a3",
   "metadata": {},
   "outputs": [],
   "source": [
    "# Random seed set for reproduced results\n",
    "np.random.seed(42)\n",
    "tf.random.set_seed(42)"
   ]
  },
  {
   "cell_type": "markdown",
   "id": "a2620de9",
   "metadata": {},
   "source": [
    "# 1. DATA WRANGLING"
   ]
  },
  {
   "cell_type": "code",
   "execution_count": 4,
   "id": "e9648d32",
   "metadata": {},
   "outputs": [
    {
     "data": {
      "text/html": [
       "<div>\n",
       "<style scoped>\n",
       "    .dataframe tbody tr th:only-of-type {\n",
       "        vertical-align: middle;\n",
       "    }\n",
       "\n",
       "    .dataframe tbody tr th {\n",
       "        vertical-align: top;\n",
       "    }\n",
       "\n",
       "    .dataframe thead th {\n",
       "        text-align: right;\n",
       "    }\n",
       "</style>\n",
       "<table border=\"1\" class=\"dataframe\">\n",
       "  <thead>\n",
       "    <tr style=\"text-align: right;\">\n",
       "      <th></th>\n",
       "      <th>_unit_id</th>\n",
       "      <th>_golden</th>\n",
       "      <th>_unit_state</th>\n",
       "      <th>_trusted_judgments</th>\n",
       "      <th>_last_judgment_at</th>\n",
       "      <th>choose_one</th>\n",
       "      <th>choose_one:confidence</th>\n",
       "      <th>choose_one_gold</th>\n",
       "      <th>keyword</th>\n",
       "      <th>location</th>\n",
       "      <th>text</th>\n",
       "      <th>tweetid</th>\n",
       "      <th>userid</th>\n",
       "    </tr>\n",
       "  </thead>\n",
       "  <tbody>\n",
       "    <tr>\n",
       "      <th>0</th>\n",
       "      <td>778243823</td>\n",
       "      <td>True</td>\n",
       "      <td>golden</td>\n",
       "      <td>156</td>\n",
       "      <td>NaN</td>\n",
       "      <td>Relevant</td>\n",
       "      <td>1.0000</td>\n",
       "      <td>Relevant</td>\n",
       "      <td>NaN</td>\n",
       "      <td>NaN</td>\n",
       "      <td>Just happened a terrible car crash</td>\n",
       "      <td>1.0</td>\n",
       "      <td>NaN</td>\n",
       "    </tr>\n",
       "    <tr>\n",
       "      <th>1</th>\n",
       "      <td>778243824</td>\n",
       "      <td>True</td>\n",
       "      <td>golden</td>\n",
       "      <td>152</td>\n",
       "      <td>NaN</td>\n",
       "      <td>Relevant</td>\n",
       "      <td>1.0000</td>\n",
       "      <td>Relevant</td>\n",
       "      <td>NaN</td>\n",
       "      <td>NaN</td>\n",
       "      <td>Our Deeds are the Reason of this #earthquake M...</td>\n",
       "      <td>13.0</td>\n",
       "      <td>NaN</td>\n",
       "    </tr>\n",
       "    <tr>\n",
       "      <th>2</th>\n",
       "      <td>778243825</td>\n",
       "      <td>True</td>\n",
       "      <td>golden</td>\n",
       "      <td>137</td>\n",
       "      <td>NaN</td>\n",
       "      <td>Relevant</td>\n",
       "      <td>1.0000</td>\n",
       "      <td>Relevant</td>\n",
       "      <td>NaN</td>\n",
       "      <td>NaN</td>\n",
       "      <td>Heard about #earthquake is different cities, s...</td>\n",
       "      <td>14.0</td>\n",
       "      <td>NaN</td>\n",
       "    </tr>\n",
       "    <tr>\n",
       "      <th>3</th>\n",
       "      <td>778243826</td>\n",
       "      <td>True</td>\n",
       "      <td>golden</td>\n",
       "      <td>136</td>\n",
       "      <td>NaN</td>\n",
       "      <td>Relevant</td>\n",
       "      <td>0.9603</td>\n",
       "      <td>Relevant</td>\n",
       "      <td>NaN</td>\n",
       "      <td>NaN</td>\n",
       "      <td>there is a forest fire at spot pond, geese are...</td>\n",
       "      <td>15.0</td>\n",
       "      <td>NaN</td>\n",
       "    </tr>\n",
       "    <tr>\n",
       "      <th>4</th>\n",
       "      <td>778243827</td>\n",
       "      <td>True</td>\n",
       "      <td>golden</td>\n",
       "      <td>138</td>\n",
       "      <td>NaN</td>\n",
       "      <td>Relevant</td>\n",
       "      <td>1.0000</td>\n",
       "      <td>Relevant</td>\n",
       "      <td>NaN</td>\n",
       "      <td>NaN</td>\n",
       "      <td>Forest fire near La Ronge Sask. Canada</td>\n",
       "      <td>16.0</td>\n",
       "      <td>NaN</td>\n",
       "    </tr>\n",
       "  </tbody>\n",
       "</table>\n",
       "</div>"
      ],
      "text/plain": [
       "    _unit_id  _golden  ... tweetid  userid\n",
       "0  778243823     True  ...     1.0     NaN\n",
       "1  778243824     True  ...    13.0     NaN\n",
       "2  778243825     True  ...    14.0     NaN\n",
       "3  778243826     True  ...    15.0     NaN\n",
       "4  778243827     True  ...    16.0     NaN\n",
       "\n",
       "[5 rows x 13 columns]"
      ]
     },
     "execution_count": 4,
     "metadata": {},
     "output_type": "execute_result"
    }
   ],
   "source": [
    "# Training dataset\n",
    "# from https://www.kaggle.com/jannesklaas/disasters-on-social-media\n",
    "    # sourced from figure-eight, formally Crowdflower, acquired by Appen\n",
    "    \n",
    "train = pd.read_csv('../datasets/disaster_relevance.csv')\n",
    "train.head()"
   ]
  },
  {
   "cell_type": "code",
   "execution_count": 5,
   "id": "efe4e495",
   "metadata": {},
   "outputs": [],
   "source": [
    "# Retaining only 2 columns\n",
    "train = train[['choose_one', 'text']]"
   ]
  },
  {
   "cell_type": "code",
   "execution_count": 6,
   "id": "f377e06e",
   "metadata": {},
   "outputs": [
    {
     "data": {
      "text/html": [
       "<div>\n",
       "<style scoped>\n",
       "    .dataframe tbody tr th:only-of-type {\n",
       "        vertical-align: middle;\n",
       "    }\n",
       "\n",
       "    .dataframe tbody tr th {\n",
       "        vertical-align: top;\n",
       "    }\n",
       "\n",
       "    .dataframe thead th {\n",
       "        text-align: right;\n",
       "    }\n",
       "</style>\n",
       "<table border=\"1\" class=\"dataframe\">\n",
       "  <thead>\n",
       "    <tr style=\"text-align: right;\">\n",
       "      <th></th>\n",
       "      <th>choose_one</th>\n",
       "      <th>text</th>\n",
       "    </tr>\n",
       "  </thead>\n",
       "  <tbody>\n",
       "    <tr>\n",
       "      <th>0</th>\n",
       "      <td>Relevant</td>\n",
       "      <td>Just happened a terrible car crash</td>\n",
       "    </tr>\n",
       "  </tbody>\n",
       "</table>\n",
       "</div>"
      ],
      "text/plain": [
       "  choose_one                                text\n",
       "0   Relevant  Just happened a terrible car crash"
      ]
     },
     "execution_count": 6,
     "metadata": {},
     "output_type": "execute_result"
    }
   ],
   "source": [
    "train.head(1)"
   ]
  },
  {
   "cell_type": "code",
   "execution_count": 7,
   "id": "0f289e81",
   "metadata": {},
   "outputs": [
    {
     "data": {
      "text/plain": [
       "choose_one    0\n",
       "text          0\n",
       "dtype: int64"
      ]
     },
     "execution_count": 7,
     "metadata": {},
     "output_type": "execute_result"
    }
   ],
   "source": [
    "# No missing values\n",
    "train.isnull().sum()"
   ]
  },
  {
   "cell_type": "code",
   "execution_count": 8,
   "id": "c6031982",
   "metadata": {},
   "outputs": [
    {
     "name": "stdout",
     "output_type": "stream",
     "text": [
      "(10876, 2)\n"
     ]
    },
    {
     "data": {
      "text/plain": [
       "array(['Relevant', 'Not Relevant', \"Can't Decide\"], dtype=object)"
      ]
     },
     "execution_count": 8,
     "metadata": {},
     "output_type": "execute_result"
    }
   ],
   "source": [
    "# Shape & unique targets\n",
    "print(train.shape)\n",
    "train['choose_one'].unique()"
   ]
  },
  {
   "cell_type": "code",
   "execution_count": 9,
   "id": "129764fd",
   "metadata": {},
   "outputs": [
    {
     "name": "stdout",
     "output_type": "stream",
     "text": [
      "(10860, 2)\n"
     ]
    },
    {
     "data": {
      "text/plain": [
       "array(['Relevant', 'Not Relevant'], dtype=object)"
      ]
     },
     "execution_count": 9,
     "metadata": {},
     "output_type": "execute_result"
    }
   ],
   "source": [
    "# Omit 'can't decide'\n",
    "train = train[train['choose_one'] != \"Can't Decide\"]\n",
    "print(train.shape)\n",
    "train['choose_one'].unique()"
   ]
  },
  {
   "cell_type": "code",
   "execution_count": 10,
   "id": "76d046ec",
   "metadata": {},
   "outputs": [
    {
     "data": {
      "text/plain": [
       "('Just happened a terrible car crash', 1)"
      ]
     },
     "execution_count": 10,
     "metadata": {},
     "output_type": "execute_result"
    }
   ],
   "source": [
    "# Feature & target defined\n",
    "X = train['text']\n",
    "y = train['choose_one'].map({'Relevant':1, 'Not Relevant':0})\n",
    "\n",
    "X[0], y[0]"
   ]
  },
  {
   "cell_type": "code",
   "execution_count": 11,
   "id": "5823edd9",
   "metadata": {
    "scrolled": true
   },
   "outputs": [
    {
     "data": {
      "text/plain": [
       "0    0.569705\n",
       "1    0.430295\n",
       "Name: choose_one, dtype: float64"
      ]
     },
     "execution_count": 11,
     "metadata": {},
     "output_type": "execute_result"
    }
   ],
   "source": [
    "# Distribution near balanced\n",
    "y.value_counts(normalize=True)"
   ]
  },
  {
   "cell_type": "markdown",
   "id": "b7f034c3",
   "metadata": {},
   "source": [
    "### 1.1 INITIAL CLEANING"
   ]
  },
  {
   "cell_type": "code",
   "execution_count": 12,
   "id": "08a2e97d",
   "metadata": {},
   "outputs": [
    {
     "data": {
      "text/plain": [
       "0                       Just happened a terrible car crash\n",
       "1        Our Deeds are the Reason of this #earthquake M...\n",
       "2        Heard about #earthquake is different cities, s...\n",
       "3        there is a forest fire at spot pond, geese are...\n",
       "4                   Forest fire near La Ronge Sask. Canada\n",
       "                               ...                        \n",
       "10871    M1.94 [01:04 UTC]?5km S of Volcano Hawaii. htt...\n",
       "10872    Police investigating after an e-bike collided ...\n",
       "10873    The Latest: More Homes Razed by Northern Calif...\n",
       "10874    MEG issues Hazardous Weather Outlook (HWO) htt...\n",
       "10875    #CityofCalgary has activated its Municipal Eme...\n",
       "Name: text, Length: 10860, dtype: object"
      ]
     },
     "execution_count": 12,
     "metadata": {},
     "output_type": "execute_result"
    }
   ],
   "source": [
    "# Pre-cleaning\n",
    "X"
   ]
  },
  {
   "cell_type": "code",
   "execution_count": 13,
   "id": "c35000fa",
   "metadata": {},
   "outputs": [],
   "source": [
    "# Initial cleaning\n",
    "\n",
    "def clean(text):\n",
    "    \n",
    "    #URLs\n",
    "    text = re.sub(r'https?://\\S+|www\\.\\S+','', text)\n",
    "    \n",
    "    #HTMLs\n",
    "    text = re.sub(r'<.*?>', '', text)\n",
    "    \n",
    "    #Emojis\n",
    "    emojis = re.compile(\n",
    "        '['\n",
    "        u'\\U0001F600-\\U0001F64F'  # emoticons\n",
    "        u'\\U0001F300-\\U0001F5FF'  # symbols & pictographs\n",
    "        u'\\U0001F680-\\U0001F6FF'  # transport & map symbols\n",
    "        u'\\U0001F1E0-\\U0001F1FF'  # flags (iOS)\n",
    "        u'\\U00002702-\\U000027B0'\n",
    "        u'\\U000024C2-\\U0001F251'\n",
    "        ']+',\n",
    "        flags=re.UNICODE)\n",
    "    text = emojis.sub(r'', text)\n",
    "    \n",
    "    #Line breaks\n",
    "    text = re.sub(r'\\n', '', text)\n",
    "    \n",
    "    # Alphabets only\n",
    "    text = re.sub(r'[^a-zA-Z ]', '', text)\n",
    "    \n",
    "    return text\n",
    "    \n",
    "X = X.apply(clean)"
   ]
  },
  {
   "cell_type": "code",
   "execution_count": 14,
   "id": "6c9cc47e",
   "metadata": {},
   "outputs": [
    {
     "data": {
      "text/plain": [
       "0                       Just happened a terrible car crash\n",
       "1        Our Deeds are the Reason of this earthquake Ma...\n",
       "2        Heard about earthquake is different cities sta...\n",
       "3        there is a forest fire at spot pond geese are ...\n",
       "4                    Forest fire near La Ronge Sask Canada\n",
       "                               ...                        \n",
       "10871                        M  UTCkm S of Volcano Hawaii \n",
       "10872    Police investigating after an ebike collided w...\n",
       "10873    The Latest More Homes Razed by Northern Califo...\n",
       "10874            MEG issues Hazardous Weather Outlook HWO \n",
       "10875    CityofCalgary has activated its Municipal Emer...\n",
       "Name: text, Length: 10860, dtype: object"
      ]
     },
     "execution_count": 14,
     "metadata": {},
     "output_type": "execute_result"
    }
   ],
   "source": [
    "# post-cleaning round 1\n",
    "X"
   ]
  },
  {
   "cell_type": "code",
   "execution_count": 15,
   "id": "6a5ac613",
   "metadata": {},
   "outputs": [],
   "source": [
    "# Secondary cleaner\n",
    "# Twitter cleaner supplied by\n",
    "# https://www.kaggle.com/georgesaavedra/best-nlp-disaster-tweets-classifier\n",
    "\n",
    "def clean2(tweet):\n",
    "  # Acronyms and miswritten words\n",
    "  tweet = re.sub(r\"Typhoon-Devastated\", \"typhoon devastated\", tweet)\n",
    "  tweet = re.sub(r\"TyphoonDevastated\", \"typhoon devastated\", tweet)\n",
    "  tweet = re.sub(r\"typhoondevastated\", \"typhoon devastated\", tweet)\n",
    "  tweet = re.sub(r\"MH370\", \"Malaysia Airlines Flight\", tweet)\n",
    "  tweet = re.sub(r\"MH\", \"Malaysia Airlines Flight\", tweet)\n",
    "  tweet = re.sub(r\"mh370\", \"Malaysia Airlines Flight\", tweet)\n",
    "  tweet = re.sub(r\"year-old\", \"years old\", tweet)\n",
    "  tweet = re.sub(r\"yearold\", \"years old\", tweet)\n",
    "  tweet = re.sub(r\"yr old\", \"years old\", tweet)\n",
    "  tweet = re.sub(r\"PKK\", \"Kurdistan Workers Party\", tweet)\n",
    "  tweet = re.sub(r\"MP\", \"madhya pradesh\", tweet)\n",
    "  tweet = re.sub(r\"rly\", \"railway\", tweet)\n",
    "  tweet = re.sub(r\"CDT\", \"Central Daylight Time\", tweet)\n",
    "  tweet = re.sub(r\"sensorsenso\", \"sensor senso\", tweet)\n",
    "  tweet = re.sub(r\"pm\", \"\", tweet)\n",
    "  tweet = re.sub(r\"PM\", \"\", tweet)\n",
    "  tweet = re.sub(r\"nan\", '', tweet)\n",
    "  tweet = re.sub(r\"terrorismturn\", \"terrorism turn\", tweet)\n",
    "  tweet = re.sub(r\"epicente\", \"epicenter\", tweet)\n",
    "  tweet = re.sub(r\"epicenterr\", \"epicenter\", tweet)\n",
    "  tweet = re.sub(r\"WAwildfire\", \"Washington Wildfire\", tweet)\n",
    "  tweet = re.sub(r\"prebreak\", \"pre break\", tweet)\n",
    "  tweet = re.sub(r\"nowplaying\", \"now playing\", tweet)\n",
    "  tweet = re.sub(r\"RT\", \"retweet\", tweet)\n",
    "  tweet = re.sub(r\"EbolaOutbreak\", \"Ebola Outbreak\", tweet)\n",
    "  tweet = re.sub(r\"LondonFire\", \"London Fire\", tweet)\n",
    "  tweet = re.sub(r\"IDFire\", \"Idaho Fire\", tweet)\n",
    "  tweet = re.sub(r\"withBioterrorism&use\", \"with Bioterrorism & use\", tweet)\n",
    "  tweet = re.sub(r\"NASAHurricane\", \"NASA Hurricane\", tweet)\n",
    "  tweet = re.sub(r\"withweapons\", \"with weapons\", tweet)\n",
    "  tweet = re.sub(r\"NuclearPower\", \"Nuclear Power\", tweet)\n",
    "  tweet = re.sub(r\"WhiteTerrorism\", \"White Terrorism\", tweet)\n",
    "  tweet = re.sub(r\"MyanmarFlood\", \"Myanmar Flood\", tweet)\n",
    "  tweet = re.sub(r\"ExtremeWeather\", \"Extreme Weather\", tweet)\n",
    "\n",
    "  # Special characters\n",
    "  tweet = re.sub(r\"%20\", \"\", tweet)\n",
    "  tweet = re.sub(r\"%\", \"\", tweet)\n",
    "  tweet = re.sub(r\"@\", \"\", tweet)\n",
    "  tweet = re.sub(r\"#\", '', tweet)\n",
    "  tweet = re.sub(r\"'\", '', tweet)\n",
    "  tweet = re.sub(r\"\\x89û_\", '', tweet)\n",
    "  tweet = re.sub(r\"\\x89ûò\", '', tweet)\n",
    "  tweet = re.sub(r\"16yr\", \"16 year\", tweet)\n",
    "  tweet = re.sub(r\"re\\x89û_\", '', tweet)\n",
    "  tweet = re.sub(r\"\\x89û\", '', tweet)\n",
    "  tweet = re.sub(r\"\\x89Û\", '', tweet)\n",
    "  tweet = re.sub(r\"re\\x89Û\", \"re \", tweet)\n",
    "  tweet = re.sub(r\"re\\x89û\", \"re \", tweet)\n",
    "  tweet = re.sub(r\"\\x89ûª\", \"'\", tweet)\n",
    "  tweet = re.sub(r\"\\x89û\", '', tweet)\n",
    "  tweet = re.sub(r\"\\x89ûò\", '', tweet)\n",
    "  tweet = re.sub(r\"\\x89Û_\", \"\", tweet)\n",
    "  tweet = re.sub(r\"\\x89ÛÒ\", \"\", tweet)\n",
    "  tweet = re.sub(r\"\\x89ÛÓ\", \"\", tweet)\n",
    "  tweet = re.sub(r\"\\x89ÛÏWhen\", \"When\", tweet)\n",
    "  tweet = re.sub(r\"\\x89ÛÏ\", \"\", tweet)\n",
    "  tweet = re.sub(r\"China\\x89Ûªs\", \"China's\", tweet)\n",
    "  tweet = re.sub(r\"let\\x89Ûªs\", \"let's\", tweet)\n",
    "  tweet = re.sub(r\"\\x89Û÷\", \"\", tweet)\n",
    "  tweet = re.sub(r\"\\x89Ûª\", \"\", tweet)\n",
    "  tweet = re.sub(r\"\\x89Û\\x9d\", \"\", tweet)\n",
    "  tweet = re.sub(r\"å_\", \"\", tweet)\n",
    "  tweet = re.sub(r\"\\x89Û¢\", \"\", tweet)\n",
    "  tweet = re.sub(r\"\\x89Û¢åÊ\", \"\", tweet)\n",
    "  tweet = re.sub(r\"fromåÊwounds\", \"from wounds\", tweet)\n",
    "  tweet = re.sub(r\"åÊ\", \"\", tweet)\n",
    "  tweet = re.sub(r\"åÈ\", \"\", tweet)\n",
    "  tweet = re.sub(r\"JapÌ_n\", \"Japan\", tweet)    \n",
    "  tweet = re.sub(r\"Ì©\", \"e\", tweet)\n",
    "  tweet = re.sub(r\"å¨\", \"\", tweet)\n",
    "  tweet = re.sub(r\"SuruÌ¤\", \"Suruc\", tweet)\n",
    "  tweet = re.sub(r\"åÇ\", \"\", tweet)\n",
    "  tweet = re.sub(r\"å£3million\", f\"3 million\", tweet)\n",
    "  tweet = re.sub(r\"åÀ\", \"\", tweet)\n",
    "\n",
    "  # Contractions\n",
    "  tweet = re.sub(r\"he's\", \"he is\", tweet)\n",
    "  tweet = re.sub(r\"there's\", \"there is\", tweet)\n",
    "  tweet = re.sub(r\"We're\", \"We are\", tweet)\n",
    "  tweet = re.sub(r\"That's\", \"That is\", tweet)\n",
    "  tweet = re.sub(r\"won't\", \"will not\", tweet)\n",
    "  tweet = re.sub(r\"they're\", \"they are\", tweet)\n",
    "  tweet = re.sub(r\"Can't\", \"Cannot\", tweet)\n",
    "  tweet = re.sub(r\"wasn't\", \"was not\", tweet)\n",
    "  tweet = re.sub(r\"don\\x89Ûªt\", \"do not\", tweet)\n",
    "  tweet = re.sub(r\"aren't\", \"are not\", tweet)\n",
    "  tweet = re.sub(r\"isn't\", \"is not\", tweet)\n",
    "  tweet = re.sub(r\"What's\", \"What is\", tweet)\n",
    "  tweet = re.sub(r\"haven't\", \"have not\", tweet)\n",
    "  tweet = re.sub(r\"hasn't\", \"has not\", tweet)\n",
    "  tweet = re.sub(r\"There's\", \"There is\", tweet)\n",
    "  tweet = re.sub(r\"He's\", \"He is\", tweet)\n",
    "  tweet = re.sub(r\"It's\", \"It is\", tweet)\n",
    "  tweet = re.sub(r\"You're\", \"You are\", tweet)\n",
    "  tweet = re.sub(r\"I'M\", \"I am\", tweet)\n",
    "  tweet = re.sub(r\"Im\", \"I am\", tweet)\n",
    "  tweet = re.sub(r\"shouldn't\", \"should not\", tweet)\n",
    "  tweet = re.sub(r\"wouldn't\", \"would not\", tweet)\n",
    "  tweet = re.sub(r\"i'm\", \"I am\", tweet)\n",
    "  tweet = re.sub(r\"I\\x89Ûªm\", \"I am\", tweet)\n",
    "  tweet = re.sub(r\"I'm\", \"I am\", tweet)\n",
    "  tweet = re.sub(r\"Isn't\", \"is not\", tweet)\n",
    "  tweet = re.sub(r\"Here's\", \"Here is\", tweet)\n",
    "  tweet = re.sub(r\"you've\", \"you have\", tweet)\n",
    "  tweet = re.sub(r\"you\\x89Ûªve\", \"you have\", tweet)\n",
    "  tweet = re.sub(r\"we're\", \"we are\", tweet)\n",
    "  tweet = re.sub(r\"what's\", \"what is\", tweet)\n",
    "  tweet = re.sub(r\"couldn't\", \"could not\", tweet)\n",
    "  tweet = re.sub(r\"we've\", \"we have\", tweet)\n",
    "  tweet = re.sub(r\"it\\x89Ûªs\", \"it is\", tweet)\n",
    "  tweet = re.sub(r\"doesn\\x89Ûªt\", \"does not\", tweet)\n",
    "  tweet = re.sub(r\"It\\x89Ûªs\", \"It is\", tweet)\n",
    "  tweet = re.sub(r\"Here\\x89Ûªs\", \"Here is\", tweet)\n",
    "  tweet = re.sub(r\"who's\", \"who is\", tweet)\n",
    "  tweet = re.sub(r\"I\\x89Ûªve\", \"I have\", tweet)\n",
    "  tweet = re.sub(r\"y'all\", \"you all\", tweet)\n",
    "  tweet = re.sub(r\"can\\x89Ûªt\", \"cannot\", tweet)\n",
    "  tweet = re.sub(r\"would've\", \"would have\", tweet)\n",
    "  tweet = re.sub(r\"it'll\", \"it will\", tweet)\n",
    "  tweet = re.sub(r\"we'll\", \"we will\", tweet)\n",
    "  tweet = re.sub(r\"wouldn\\x89Ûªt\", \"would not\", tweet)\n",
    "  tweet = re.sub(r\"We've\", \"We have\", tweet)\n",
    "  tweet = re.sub(r\"he'll\", \"he will\", tweet)\n",
    "  tweet = re.sub(r\"Y'all\", \"You all\", tweet)\n",
    "  tweet = re.sub(r\"Weren't\", \"Were not\", tweet)\n",
    "  tweet = re.sub(r\"Didn't\", \"Did not\", tweet)\n",
    "  tweet = re.sub(r\"they'll\", \"they will\", tweet)\n",
    "  tweet = re.sub(r\"they'd\", \"they would\", tweet)\n",
    "  tweet = re.sub(r\"DON'T\", \"DO NOT\", tweet)\n",
    "  tweet = re.sub(r\"That\\x89Ûªs\", \"That is\", tweet)\n",
    "  tweet = re.sub(r\"they've\", \"they have\", tweet)\n",
    "  tweet = re.sub(r\"i'd\", \"I would\", tweet)\n",
    "  tweet = re.sub(r\"should've\", \"should have\", tweet)\n",
    "  tweet = re.sub(r\"You\\x89Ûªre\", \"You are\", tweet)\n",
    "  tweet = re.sub(r\"where's\", \"where is\", tweet)\n",
    "  tweet = re.sub(r\"Don\\x89Ûªt\", \"Do not\", tweet)\n",
    "  tweet = re.sub(r\"we'd\", \"we would\", tweet)\n",
    "  tweet = re.sub(r\"i'll\", \"I will\", tweet)\n",
    "  tweet = re.sub(r\"weren't\", \"were not\", tweet)\n",
    "  tweet = re.sub(r\"They're\", \"They are\", tweet)\n",
    "  tweet = re.sub(r\"Can\\x89Ûªt\", \"Cannot\", tweet)\n",
    "  tweet = re.sub(r\"you\\x89Ûªll\", \"you will\", tweet)\n",
    "  tweet = re.sub(r\"I\\x89Ûªd\", \"I would\", tweet)\n",
    "  tweet = re.sub(r\"let's\", \"let us\", tweet)\n",
    "  tweet = re.sub(r\"it's\", \"it is\", tweet)\n",
    "  tweet = re.sub(r\"can't\", \"can not\", tweet)\n",
    "  tweet = re.sub(r\"cant\", \"can not\", tweet)\n",
    "  tweet = re.sub(r\"don't\", \"do not\", tweet)\n",
    "  tweet = re.sub(r\"dont\", \"do not\", tweet)\n",
    "  tweet = re.sub(r\"you're\", \"you are\", tweet)\n",
    "  tweet = re.sub(r\"i've\", \"I have\", tweet)\n",
    "  tweet = re.sub(r\"that's\", \"that is\", tweet)\n",
    "  tweet = re.sub(r\"i'll\", \"I will\", tweet)\n",
    "  tweet = re.sub(r\"doesn't\", \"does not\", tweet)\n",
    "  tweet = re.sub(r\"i'd\", \"I would\", tweet)\n",
    "  tweet = re.sub(r\"didn't\", \"did not\", tweet)\n",
    "  tweet = re.sub(r\"ain't\", \"am not\", tweet)\n",
    "  tweet = re.sub(r\"you'll\", \"you will\", tweet)\n",
    "  tweet = re.sub(r\"I've\", \"I have\", tweet)\n",
    "  tweet = re.sub(r\"Don't\", \"do not\", tweet)\n",
    "  tweet = re.sub(r\"I'll\", \"I will\", tweet)\n",
    "  tweet = re.sub(r\"I'd\", \"I would\", tweet)\n",
    "  tweet = re.sub(r\"Let's\", \"Let us\", tweet)\n",
    "  tweet = re.sub(r\"you'd\", \"You would\", tweet)\n",
    "  tweet = re.sub(r\"It's\", \"It is\", tweet)\n",
    "  tweet = re.sub(r\"Ain't\", \"am not\", tweet)\n",
    "  tweet = re.sub(r\"Haven't\", \"Have not\", tweet)\n",
    "  tweet = re.sub(r\"Could've\", \"Could have\", tweet)\n",
    "  tweet = re.sub(r\"youve\", \"you have\", tweet)  \n",
    "  tweet = re.sub(r\"donå«t\", \"do not\", tweet)\n",
    "\n",
    "  return tweet\n",
    "\n",
    "X = X.apply(clean2)"
   ]
  },
  {
   "cell_type": "code",
   "execution_count": 16,
   "id": "ff7934b8",
   "metadata": {},
   "outputs": [
    {
     "data": {
      "text/plain": [
       "0                       Just happened a terrible car crash\n",
       "1        Our Deeds are the Reason of this earthquake Ma...\n",
       "2        Heard about earthquake is different cities sta...\n",
       "3        there is a forest fire at spot pond geese are ...\n",
       "4                    Forest fire near La Ronge Sask Canada\n",
       "                               ...                        \n",
       "10871                        M  UTCkm S of Volcano Hawaii \n",
       "10872    Police investigating after an ebike collided w...\n",
       "10873    The Latest More Homes Razed by Northern Califo...\n",
       "10874            MEG issues Hazardous Weather Outlook HWO \n",
       "10875    CityofCalgary has activated its Municipal Emer...\n",
       "Name: text, Length: 10860, dtype: object"
      ]
     },
     "execution_count": 16,
     "metadata": {},
     "output_type": "execute_result"
    }
   ],
   "source": [
    "# Post-cleaning round 2\n",
    "X"
   ]
  },
  {
   "cell_type": "code",
   "execution_count": 17,
   "id": "a7fc952f",
   "metadata": {},
   "outputs": [],
   "source": [
    "# Final cleaning\n",
    "def clean3(text):\n",
    "    \n",
    "    #Punctuations\n",
    "    text = re.sub(r'[%s]' % re.escape(string.punctuation), '', text)\n",
    "    \n",
    "    #Extra white-space\n",
    "    text = re.sub(r' +', ' ', text)\n",
    "    \n",
    "    return text.lower()\n",
    "\n",
    "X = X.apply(clean3)"
   ]
  },
  {
   "cell_type": "code",
   "execution_count": 18,
   "id": "4a44251b",
   "metadata": {},
   "outputs": [
    {
     "data": {
      "text/plain": [
       "0                       just happened a terrible car crash\n",
       "1        our deeds are the reason of this earthquake ma...\n",
       "2        heard about earthquake is different cities sta...\n",
       "3        there is a forest fire at spot pond geese are ...\n",
       "4                    forest fire near la ronge sask canada\n",
       "                               ...                        \n",
       "10871                         m utckm s of volcano hawaii \n",
       "10872    police investigating after an ebike collided w...\n",
       "10873    the latest more homes razed by northern califo...\n",
       "10874            meg issues hazardous weather outlook hwo \n",
       "10875    cityofcalgary has activated its municipal emer...\n",
       "Name: text, Length: 10860, dtype: object"
      ]
     },
     "execution_count": 18,
     "metadata": {},
     "output_type": "execute_result"
    }
   ],
   "source": [
    "# Final cleaned text\n",
    "X"
   ]
  },
  {
   "cell_type": "code",
   "execution_count": 19,
   "id": "2d84ecf5",
   "metadata": {},
   "outputs": [],
   "source": [
    "# Train test split\n",
    "X_train, X_test, y_train, y_test = train_test_split(X, y,\n",
    "                                                    random_state=42, \n",
    "                                                    stratify=y,\n",
    "                                                    test_size=0.2)"
   ]
  },
  {
   "cell_type": "code",
   "execution_count": 20,
   "id": "fe2027c5",
   "metadata": {},
   "outputs": [
    {
     "data": {
      "text/plain": [
       "(8688,)"
      ]
     },
     "execution_count": 20,
     "metadata": {},
     "output_type": "execute_result"
    }
   ],
   "source": [
    "X_train.shape"
   ]
  },
  {
   "cell_type": "markdown",
   "id": "d6534185",
   "metadata": {},
   "source": [
    "### 1.2 TOKENIZATION & SEQUENCING"
   ]
  },
  {
   "cell_type": "code",
   "execution_count": 21,
   "id": "ada88456",
   "metadata": {},
   "outputs": [],
   "source": [
    "# Max words in tokenizer index\n",
    "max_words = 100000\n",
    "\n",
    "# Tokenizer fit, sequenced, padded\n",
    "tokenizer = Tokenizer(num_words=max_words)\n",
    "tokenizer.fit_on_texts(X_train)\n",
    "\n",
    "train_seq = tokenizer.texts_to_sequences(X_train)\n",
    "test_seq = tokenizer.texts_to_sequences(X_test)\n",
    "\n",
    "X_train = pad_sequences(train_seq, maxlen=60)\n",
    "X_test = pad_sequences(test_seq, maxlen=X_train.shape[1])\n",
    "\n",
    "# Word index stored for embedding matrix\n",
    "word_index = tokenizer.word_index\n",
    "\n",
    "# Dimensions for embedding matrix\n",
    "embedding_dim = 300\n",
    "vocab_size = min(len(word_index)+1, max_words)"
   ]
  },
  {
   "cell_type": "code",
   "execution_count": 22,
   "id": "b79eabcb",
   "metadata": {},
   "outputs": [
    {
     "data": {
      "text/plain": [
       "(8688, 60)"
      ]
     },
     "execution_count": 22,
     "metadata": {},
     "output_type": "execute_result"
    }
   ],
   "source": [
    "X_train.shape"
   ]
  },
  {
   "cell_type": "code",
   "execution_count": 23,
   "id": "79cdc14b",
   "metadata": {},
   "outputs": [],
   "source": [
    "# Solution by:\n",
    "    # https://stackoverflow.com/questions/45735070/keras-text-preprocessing-saving-tokenizer-object-to-file-for-scoring\n",
    "\n",
    "#Store tokenizer fit for future preprocessing\n",
    "import pickle\n",
    "\n",
    "# Saved\n",
    "with open('relevance_tokenizer.pickle', 'wb') as handle:\n",
    "    pickle.dump(tokenizer, handle, protocol=pickle.HIGHEST_PROTOCOL)\n",
    "    \n",
    "## Can be loaded for future use:\n",
    "    ## from tensorflow.keras.preprocessing.text import Tokenizer \n",
    "    ## import pickle\n",
    "    ##\n",
    "    ## with open('relevance_tokenizer.pickle', 'rb') as handle:\n",
    "    ##     tokenizer = pickle.load(handle)"
   ]
  },
  {
   "cell_type": "code",
   "execution_count": 24,
   "id": "f2384006",
   "metadata": {},
   "outputs": [],
   "source": [
    "# GENSIM IMPORT ON GOOGLE PRETRAINED WORD2VEC\n",
    "import gensim.downloader as api\n",
    "wv = api.load('word2vec-google-news-300')\n",
    "    # If you have the physical .bin file downloaded:\n",
    "        # wv = gensim.models.KeyedVectors.load_word2vec_format('GoogleNews-vectors-negative300.bin',binary=True)\n",
    "\n",
    "    # Empty matrix\n",
    "embedding_matrix = np.zeros((vocab_size, embedding_dim))\n",
    "\n",
    "# Tracking unrecognized words\n",
    "unknown = []\n",
    "\n",
    "# Iterate through fitted word index and\n",
    "# extract weighted vectors from pretrained Google word vector\n",
    "for word, index in word_index.items():\n",
    "    if index >= max_words:\n",
    "        continue\n",
    "    try:\n",
    "        embedding_vector = wv[word] # extract word vector\n",
    "        embedding_matrix[index] = embedding_vector # store word vector\n",
    "    except:\n",
    "        unknown.append(word)"
   ]
  },
  {
   "cell_type": "code",
   "execution_count": 25,
   "id": "e0181b03",
   "metadata": {},
   "outputs": [
    {
     "name": "stdout",
     "output_type": "stream",
     "text": [
      "7059\n"
     ]
    },
    {
     "data": {
      "text/plain": [
       "array(['nickcocofree', 'kwxggt', 'nickwilson', 'syvret',\n",
       "       'theresmorewherethatcamefrom', 'nxwestmidlands', 'nurgle',\n",
       "       'dratomic', 'spokane', 'casewrites', 'arobotlegion',\n",
       "       'worldrunners', 'seattletimes', 'sanonofre', 'grumpout',\n",
       "       'originalfunko', 'farrakhan', 'cossackshussars', 'policerun',\n",
       "       'fighterbut'], dtype='<U51')"
      ]
     },
     "execution_count": 25,
     "metadata": {},
     "output_type": "execute_result"
    }
   ],
   "source": [
    "# 7059 unrecognized words\n",
    "print(len(unknown))\n",
    "\n",
    "# 20 random unrecognized words\n",
    "np.random.choice(unknown, 20)"
   ]
  },
  {
   "cell_type": "code",
   "execution_count": 26,
   "id": "a043ce10",
   "metadata": {
    "scrolled": true
   },
   "outputs": [
    {
     "name": "stdout",
     "output_type": "stream",
     "text": [
      "X_train/test:  (8688, 60) (2172, 60)\n",
      "y_train/test:  (8688,) (2172,)\n"
     ]
    }
   ],
   "source": [
    "# Targets converted to arrays\n",
    "y_train = np.asarray(y_train)\n",
    "y_test = np.asarray(y_test)\n",
    "\n",
    "# Shapes\n",
    "print('X_train/test: ', X_train.shape,X_test.shape)\n",
    "print('y_train/test: ', y_train.shape,y_test.shape)"
   ]
  },
  {
   "cell_type": "markdown",
   "id": "063a64da",
   "metadata": {},
   "source": [
    "# 2. MODELING\n",
    "- Deep Neural Network:\n",
    "    - Embedding input layer\n",
    "    - 2 Conv1D layers + 1 Dense layer\n",
    "    - Dense output layer\n",
    "- Previously utilized Bidirectional LSTM instead of second CNN with similar results, but replaced due to ineffient use of memory & computational power"
   ]
  },
  {
   "cell_type": "code",
   "execution_count": 42,
   "id": "b5c72a86",
   "metadata": {},
   "outputs": [
    {
     "name": "stdout",
     "output_type": "stream",
     "text": [
      "Model: \"sequential_10\"\n",
      "_________________________________________________________________\n",
      " Layer (type)                Output Shape              Param #   \n",
      "=================================================================\n",
      " embedding_10 (Embedding)    (None, None, 300)         5660100   \n",
      "                                                                 \n",
      " batch_normalization_28 (Bat  (None, None, 300)        1200      \n",
      " chNormalization)                                                \n",
      "                                                                 \n",
      " dropout_27 (Dropout)        (None, None, 300)         0         \n",
      "                                                                 \n",
      " conv1d_15 (Conv1D)          (None, None, 32)          28832     \n",
      "                                                                 \n",
      " batch_normalization_29 (Bat  (None, None, 32)         128       \n",
      " chNormalization)                                                \n",
      "                                                                 \n",
      " average_pooling1d_11 (Avera  (None, None, 32)         0         \n",
      " gePooling1D)                                                    \n",
      "                                                                 \n",
      " dropout_28 (Dropout)        (None, None, 32)          0         \n",
      "                                                                 \n",
      " conv1d_16 (Conv1D)          (None, None, 64)          6208      \n",
      "                                                                 \n",
      " batch_normalization_30 (Bat  (None, None, 64)         256       \n",
      " chNormalization)                                                \n",
      "                                                                 \n",
      " global_average_pooling1d_2   (None, 64)               0         \n",
      " (GlobalAveragePooling1D)                                        \n",
      "                                                                 \n",
      " dropout_29 (Dropout)        (None, 64)                0         \n",
      "                                                                 \n",
      " dense_11 (Dense)            (None, 32)                2080      \n",
      "                                                                 \n",
      " batch_normalization_31 (Bat  (None, 32)               128       \n",
      " chNormalization)                                                \n",
      "                                                                 \n",
      " dropout_30 (Dropout)        (None, 32)                0         \n",
      "                                                                 \n",
      " dense_12 (Dense)            (None, 1)                 33        \n",
      "                                                                 \n",
      "=================================================================\n",
      "Total params: 5,698,965\n",
      "Trainable params: 5,698,109\n",
      "Non-trainable params: 856\n",
      "_________________________________________________________________\n"
     ]
    }
   ],
   "source": [
    "# Model\n",
    "model = Sequential()\n",
    "\n",
    "# Embedding input\n",
    "model.add(Embedding(vocab_size, embedding_dim, weights=[embedding_matrix],\n",
    "                   trainable=True))\n",
    "model.add(BatchNormalization())\n",
    "model.add(Dropout(0.5))\n",
    "\n",
    "# 1 CNN layers\n",
    "model.add(Conv1D(filters=32, kernel_size=3, activation='relu'))\n",
    "model.add(BatchNormalization())\n",
    "model.add(AveragePooling1D())\n",
    "model.add(Dropout(0.25))\n",
    "\n",
    "# 1 CNN layers\n",
    "model.add(Conv1D(filters=64, kernel_size=3, activation='relu'))\n",
    "model.add(BatchNormalization())\n",
    "model.add(GlobalAveragePooling1D())\n",
    "model.add(Dropout(0.25))\n",
    "\n",
    "# 1 Dense layer\n",
    "model.add(Dense(32, activation='relu'))\n",
    "model.add(BatchNormalization())\n",
    "model.add(Dropout(0.4))\n",
    "\n",
    "# Sigmoid output\n",
    "model.add(Dense(1, activation='sigmoid'))\n",
    "\n",
    "\n",
    "# Model Compiled\n",
    "model.compile(loss='binary_crossentropy',\n",
    "             optimizer='SGD',\n",
    "             metrics=['acc'])\n",
    "\n",
    "# Summary\n",
    "model.summary()"
   ]
  },
  {
   "cell_type": "code",
   "execution_count": 43,
   "id": "a5e0f532",
   "metadata": {
    "scrolled": false
   },
   "outputs": [
    {
     "name": "stdout",
     "output_type": "stream",
     "text": [
      "Epoch 1/200\n",
      "136/136 [==============================] - 2s 11ms/step - loss: 0.7890 - acc: 0.5992 - val_loss: 0.6726 - val_acc: 0.5695\n",
      "Epoch 2/200\n",
      "136/136 [==============================] - 1s 6ms/step - loss: 0.6522 - acc: 0.6702 - val_loss: 0.7111 - val_acc: 0.5700\n",
      "Epoch 3/200\n",
      "136/136 [==============================] - 1s 5ms/step - loss: 0.6005 - acc: 0.7032 - val_loss: 0.6237 - val_acc: 0.6381\n",
      "Epoch 4/200\n",
      "136/136 [==============================] - 1s 6ms/step - loss: 0.5645 - acc: 0.7218 - val_loss: 0.5640 - val_acc: 0.7122\n",
      "Epoch 5/200\n",
      "136/136 [==============================] - 1s 5ms/step - loss: 0.5431 - acc: 0.7311 - val_loss: 0.5653 - val_acc: 0.7274\n",
      "Epoch 6/200\n",
      "136/136 [==============================] - 1s 10ms/step - loss: 0.5410 - acc: 0.7379 - val_loss: 0.4824 - val_acc: 0.7841\n",
      "Epoch 7/200\n",
      "136/136 [==============================] - 1s 6ms/step - loss: 0.5218 - acc: 0.7505 - val_loss: 0.5233 - val_acc: 0.7523\n",
      "Epoch 8/200\n",
      "136/136 [==============================] - 1s 6ms/step - loss: 0.5122 - acc: 0.7554 - val_loss: 0.5104 - val_acc: 0.7624\n",
      "Epoch 9/200\n",
      "136/136 [==============================] - 1s 5ms/step - loss: 0.5158 - acc: 0.7545 - val_loss: 0.4716 - val_acc: 0.7758\n",
      "Epoch 10/200\n",
      "136/136 [==============================] - 1s 7ms/step - loss: 0.5028 - acc: 0.7627 - val_loss: 0.5009 - val_acc: 0.7657\n",
      "Epoch 11/200\n",
      "136/136 [==============================] - 1s 7ms/step - loss: 0.5061 - acc: 0.7616 - val_loss: 0.4561 - val_acc: 0.7965\n",
      "Epoch 12/200\n",
      "136/136 [==============================] - 1s 6ms/step - loss: 0.4991 - acc: 0.7669 - val_loss: 0.4776 - val_acc: 0.7767\n",
      "Epoch 13/200\n",
      "136/136 [==============================] - 1s 7ms/step - loss: 0.4926 - acc: 0.7711 - val_loss: 0.4491 - val_acc: 0.7960\n",
      "Epoch 14/200\n",
      "136/136 [==============================] - 1s 8ms/step - loss: 0.4833 - acc: 0.7775 - val_loss: 0.4480 - val_acc: 0.8016\n",
      "Epoch 15/200\n",
      "136/136 [==============================] - 1s 6ms/step - loss: 0.4909 - acc: 0.7744 - val_loss: 0.4838 - val_acc: 0.7776\n",
      "Epoch 16/200\n",
      "136/136 [==============================] - 1s 6ms/step - loss: 0.4905 - acc: 0.7727 - val_loss: 0.4445 - val_acc: 0.7997\n",
      "Epoch 17/200\n",
      "136/136 [==============================] - 1s 6ms/step - loss: 0.4841 - acc: 0.7800 - val_loss: 0.4553 - val_acc: 0.7896\n",
      "Epoch 18/200\n",
      "136/136 [==============================] - 1s 6ms/step - loss: 0.4854 - acc: 0.7789 - val_loss: 0.4634 - val_acc: 0.7864\n",
      "Epoch 19/200\n",
      "136/136 [==============================] - 1s 7ms/step - loss: 0.4799 - acc: 0.7741 - val_loss: 0.4418 - val_acc: 0.7997\n",
      "Epoch 20/200\n",
      "136/136 [==============================] - 1s 5ms/step - loss: 0.4768 - acc: 0.7799 - val_loss: 0.4412 - val_acc: 0.8011\n",
      "Epoch 21/200\n",
      "136/136 [==============================] - 1s 5ms/step - loss: 0.4748 - acc: 0.7872 - val_loss: 0.4406 - val_acc: 0.8071\n",
      "Epoch 22/200\n",
      "136/136 [==============================] - 1s 4ms/step - loss: 0.4714 - acc: 0.7880 - val_loss: 0.4401 - val_acc: 0.8020\n",
      "Epoch 23/200\n",
      "136/136 [==============================] - 1s 7ms/step - loss: 0.4715 - acc: 0.7855 - val_loss: 0.4534 - val_acc: 0.7937\n",
      "Epoch 24/200\n",
      "136/136 [==============================] - 1s 4ms/step - loss: 0.4705 - acc: 0.7878 - val_loss: 0.4365 - val_acc: 0.8025\n",
      "Epoch 25/200\n",
      "136/136 [==============================] - 1s 4ms/step - loss: 0.4707 - acc: 0.7917 - val_loss: 0.4404 - val_acc: 0.8011\n",
      "Epoch 26/200\n",
      "136/136 [==============================] - 1s 6ms/step - loss: 0.4613 - acc: 0.7905 - val_loss: 0.4396 - val_acc: 0.8099\n",
      "Epoch 27/200\n",
      "136/136 [==============================] - 1s 6ms/step - loss: 0.4607 - acc: 0.7917 - val_loss: 0.4560 - val_acc: 0.7937\n",
      "Epoch 28/200\n",
      "136/136 [==============================] - 1s 5ms/step - loss: 0.4636 - acc: 0.7955 - val_loss: 0.4325 - val_acc: 0.8140\n",
      "Epoch 29/200\n",
      "136/136 [==============================] - 1s 8ms/step - loss: 0.4636 - acc: 0.7872 - val_loss: 0.4358 - val_acc: 0.8034\n",
      "Epoch 30/200\n",
      "136/136 [==============================] - 1s 7ms/step - loss: 0.4635 - acc: 0.7889 - val_loss: 0.4288 - val_acc: 0.8158\n",
      "Epoch 31/200\n",
      "136/136 [==============================] - 1s 6ms/step - loss: 0.4594 - acc: 0.7922 - val_loss: 0.4374 - val_acc: 0.8025\n",
      "Epoch 32/200\n",
      "136/136 [==============================] - 1s 7ms/step - loss: 0.4594 - acc: 0.7963 - val_loss: 0.4564 - val_acc: 0.7951\n",
      "Epoch 33/200\n",
      "136/136 [==============================] - 1s 6ms/step - loss: 0.4533 - acc: 0.7957 - val_loss: 0.4278 - val_acc: 0.8145\n",
      "Epoch 34/200\n",
      "136/136 [==============================] - 1s 4ms/step - loss: 0.4580 - acc: 0.7947 - val_loss: 0.4305 - val_acc: 0.8094\n",
      "Epoch 35/200\n",
      "136/136 [==============================] - 1s 5ms/step - loss: 0.4530 - acc: 0.7943 - val_loss: 0.4259 - val_acc: 0.8177\n",
      "Epoch 36/200\n",
      "136/136 [==============================] - 1s 6ms/step - loss: 0.4528 - acc: 0.7945 - val_loss: 0.4248 - val_acc: 0.8172\n",
      "Epoch 37/200\n",
      "136/136 [==============================] - 1s 5ms/step - loss: 0.4594 - acc: 0.7894 - val_loss: 0.4411 - val_acc: 0.8052\n",
      "Epoch 38/200\n",
      "136/136 [==============================] - 1s 5ms/step - loss: 0.4581 - acc: 0.7960 - val_loss: 0.4400 - val_acc: 0.8048\n",
      "Epoch 39/200\n",
      "136/136 [==============================] - 1s 5ms/step - loss: 0.4540 - acc: 0.7968 - val_loss: 0.4334 - val_acc: 0.8117\n",
      "Epoch 40/200\n",
      "136/136 [==============================] - 1s 6ms/step - loss: 0.4518 - acc: 0.7945 - val_loss: 0.4274 - val_acc: 0.8186\n",
      "Epoch 41/200\n",
      "136/136 [==============================] - 1s 5ms/step - loss: 0.4481 - acc: 0.7974 - val_loss: 0.4306 - val_acc: 0.8085\n",
      "Epoch 42/200\n",
      "136/136 [==============================] - 1s 4ms/step - loss: 0.4490 - acc: 0.7994 - val_loss: 0.4221 - val_acc: 0.8214\n",
      "Epoch 43/200\n",
      "136/136 [==============================] - 1s 6ms/step - loss: 0.4506 - acc: 0.8011 - val_loss: 0.4221 - val_acc: 0.8218\n",
      "Epoch 44/200\n",
      "136/136 [==============================] - 1s 8ms/step - loss: 0.4486 - acc: 0.7962 - val_loss: 0.4371 - val_acc: 0.8066\n",
      "Epoch 45/200\n",
      "136/136 [==============================] - 1s 6ms/step - loss: 0.4443 - acc: 0.8052 - val_loss: 0.4202 - val_acc: 0.8172\n",
      "Epoch 46/200\n",
      "136/136 [==============================] - 1s 7ms/step - loss: 0.4460 - acc: 0.8029 - val_loss: 0.4245 - val_acc: 0.8131\n",
      "Epoch 47/200\n",
      "136/136 [==============================] - 1s 6ms/step - loss: 0.4485 - acc: 0.8038 - val_loss: 0.4239 - val_acc: 0.8140\n",
      "Epoch 48/200\n",
      "136/136 [==============================] - 1s 7ms/step - loss: 0.4468 - acc: 0.8036 - val_loss: 0.4292 - val_acc: 0.8099\n",
      "Epoch 49/200\n",
      "136/136 [==============================] - 1s 5ms/step - loss: 0.4487 - acc: 0.7952 - val_loss: 0.4210 - val_acc: 0.8218\n",
      "Epoch 50/200\n",
      "136/136 [==============================] - 1s 5ms/step - loss: 0.4462 - acc: 0.7991 - val_loss: 0.4442 - val_acc: 0.7993\n",
      "Epoch 51/200\n",
      "136/136 [==============================] - 1s 5ms/step - loss: 0.4422 - acc: 0.8038 - val_loss: 0.4214 - val_acc: 0.8135\n",
      "Epoch 52/200\n",
      "136/136 [==============================] - 1s 4ms/step - loss: 0.4394 - acc: 0.8006 - val_loss: 0.4225 - val_acc: 0.8186\n",
      "Epoch 53/200\n",
      "136/136 [==============================] - 1s 5ms/step - loss: 0.4375 - acc: 0.8056 - val_loss: 0.4202 - val_acc: 0.8149\n",
      "Epoch 54/200\n",
      "136/136 [==============================] - 1s 8ms/step - loss: 0.4409 - acc: 0.8047 - val_loss: 0.4180 - val_acc: 0.8168\n",
      "Epoch 55/200\n",
      "136/136 [==============================] - 1s 6ms/step - loss: 0.4392 - acc: 0.8027 - val_loss: 0.4283 - val_acc: 0.8140\n",
      "Epoch 56/200\n",
      "136/136 [==============================] - 1s 4ms/step - loss: 0.4425 - acc: 0.8005 - val_loss: 0.4311 - val_acc: 0.8103\n",
      "Epoch 57/200\n",
      "136/136 [==============================] - 1s 6ms/step - loss: 0.4359 - acc: 0.8055 - val_loss: 0.4195 - val_acc: 0.8181\n",
      "Epoch 58/200\n",
      "136/136 [==============================] - 1s 6ms/step - loss: 0.4367 - acc: 0.8004 - val_loss: 0.4168 - val_acc: 0.8223\n",
      "Epoch 59/200\n",
      "136/136 [==============================] - 1s 10ms/step - loss: 0.4386 - acc: 0.8024 - val_loss: 0.4145 - val_acc: 0.8269\n",
      "Epoch 60/200\n",
      "136/136 [==============================] - 1s 5ms/step - loss: 0.4347 - acc: 0.8095 - val_loss: 0.4239 - val_acc: 0.8135\n",
      "Epoch 61/200\n",
      "136/136 [==============================] - 1s 8ms/step - loss: 0.4367 - acc: 0.8040 - val_loss: 0.4189 - val_acc: 0.8181\n",
      "Epoch 62/200\n",
      "136/136 [==============================] - 1s 7ms/step - loss: 0.4323 - acc: 0.8155 - val_loss: 0.4144 - val_acc: 0.8260\n",
      "Epoch 63/200\n",
      "136/136 [==============================] - 1s 5ms/step - loss: 0.4348 - acc: 0.8044 - val_loss: 0.4179 - val_acc: 0.8172\n",
      "Epoch 64/200\n",
      "136/136 [==============================] - 1s 6ms/step - loss: 0.4382 - acc: 0.8085 - val_loss: 0.4248 - val_acc: 0.8117\n",
      "Epoch 65/200\n",
      "136/136 [==============================] - 1s 5ms/step - loss: 0.4282 - acc: 0.8122 - val_loss: 0.4143 - val_acc: 0.8232\n",
      "Epoch 66/200\n",
      "136/136 [==============================] - 1s 4ms/step - loss: 0.4275 - acc: 0.8119 - val_loss: 0.4173 - val_acc: 0.8181\n",
      "Epoch 67/200\n",
      "136/136 [==============================] - 1s 6ms/step - loss: 0.4307 - acc: 0.8096 - val_loss: 0.4816 - val_acc: 0.7753\n",
      "Epoch 68/200\n",
      "136/136 [==============================] - 1s 5ms/step - loss: 0.4336 - acc: 0.8078 - val_loss: 0.4237 - val_acc: 0.8145\n",
      "Epoch 69/200\n",
      "136/136 [==============================] - 1s 7ms/step - loss: 0.4327 - acc: 0.8097 - val_loss: 0.4153 - val_acc: 0.8195\n",
      "Epoch 70/200\n",
      "136/136 [==============================] - 1s 6ms/step - loss: 0.4272 - acc: 0.8138 - val_loss: 0.4377 - val_acc: 0.8039\n",
      "Epoch 71/200\n",
      "136/136 [==============================] - 1s 5ms/step - loss: 0.4282 - acc: 0.8105 - val_loss: 0.4120 - val_acc: 0.8241\n",
      "Epoch 72/200\n",
      "136/136 [==============================] - 1s 4ms/step - loss: 0.4263 - acc: 0.8141 - val_loss: 0.4257 - val_acc: 0.8154\n",
      "Epoch 73/200\n",
      "136/136 [==============================] - 1s 5ms/step - loss: 0.4257 - acc: 0.8113 - val_loss: 0.4687 - val_acc: 0.7795\n",
      "Epoch 74/200\n",
      "136/136 [==============================] - 1s 6ms/step - loss: 0.4328 - acc: 0.8061 - val_loss: 0.4109 - val_acc: 0.8250\n",
      "Epoch 75/200\n",
      "136/136 [==============================] - 1s 6ms/step - loss: 0.4247 - acc: 0.8112 - val_loss: 0.4110 - val_acc: 0.8264\n",
      "Epoch 76/200\n",
      "136/136 [==============================] - 1s 5ms/step - loss: 0.4204 - acc: 0.8166 - val_loss: 0.4198 - val_acc: 0.8177\n",
      "Epoch 77/200\n",
      "136/136 [==============================] - 1s 6ms/step - loss: 0.4200 - acc: 0.8174 - val_loss: 0.5029 - val_acc: 0.7491\n",
      "Epoch 78/200\n",
      "136/136 [==============================] - 1s 5ms/step - loss: 0.4316 - acc: 0.8135 - val_loss: 0.4114 - val_acc: 0.8241\n",
      "Epoch 79/200\n",
      "136/136 [==============================] - 1s 5ms/step - loss: 0.4239 - acc: 0.8100 - val_loss: 0.4363 - val_acc: 0.8039\n",
      "Epoch 80/200\n",
      "136/136 [==============================] - 1s 5ms/step - loss: 0.4231 - acc: 0.8135 - val_loss: 0.4449 - val_acc: 0.8094\n",
      "Epoch 81/200\n",
      "136/136 [==============================] - 1s 5ms/step - loss: 0.4213 - acc: 0.8151 - val_loss: 0.4101 - val_acc: 0.8283\n",
      "Epoch 82/200\n",
      "136/136 [==============================] - 1s 7ms/step - loss: 0.4156 - acc: 0.8172 - val_loss: 0.4502 - val_acc: 0.8099\n",
      "Epoch 83/200\n",
      "136/136 [==============================] - 1s 4ms/step - loss: 0.4176 - acc: 0.8160 - val_loss: 0.4146 - val_acc: 0.8214\n",
      "Epoch 84/200\n",
      "136/136 [==============================] - 1s 5ms/step - loss: 0.4219 - acc: 0.8148 - val_loss: 0.4101 - val_acc: 0.8246\n",
      "Epoch 85/200\n",
      "136/136 [==============================] - 1s 9ms/step - loss: 0.4189 - acc: 0.8178 - val_loss: 0.4177 - val_acc: 0.8177\n",
      "Epoch 86/200\n",
      "136/136 [==============================] - 1s 4ms/step - loss: 0.4187 - acc: 0.8198 - val_loss: 0.4104 - val_acc: 0.8260\n",
      "Epoch 87/200\n",
      "136/136 [==============================] - 1s 5ms/step - loss: 0.4130 - acc: 0.8224 - val_loss: 0.4244 - val_acc: 0.8172\n",
      "Epoch 88/200\n",
      "136/136 [==============================] - 1s 7ms/step - loss: 0.4170 - acc: 0.8195 - val_loss: 0.4139 - val_acc: 0.8218\n",
      "Epoch 89/200\n",
      "136/136 [==============================] - 1s 6ms/step - loss: 0.4165 - acc: 0.8204 - val_loss: 0.4188 - val_acc: 0.8158\n",
      "Epoch 90/200\n",
      "136/136 [==============================] - 1s 9ms/step - loss: 0.4128 - acc: 0.8202 - val_loss: 0.4209 - val_acc: 0.8154\n",
      "Epoch 91/200\n",
      "136/136 [==============================] - 1s 6ms/step - loss: 0.4111 - acc: 0.8193 - val_loss: 0.4224 - val_acc: 0.8168\n",
      "Epoch 92/200\n",
      "136/136 [==============================] - 1s 5ms/step - loss: 0.4095 - acc: 0.8212 - val_loss: 0.4129 - val_acc: 0.8250\n",
      "Epoch 93/200\n",
      "136/136 [==============================] - 1s 4ms/step - loss: 0.4197 - acc: 0.8169 - val_loss: 0.4510 - val_acc: 0.7970\n",
      "Epoch 94/200\n",
      "136/136 [==============================] - 1s 6ms/step - loss: 0.4152 - acc: 0.8215 - val_loss: 0.4098 - val_acc: 0.8264\n",
      "Epoch 95/200\n",
      "136/136 [==============================] - 1s 7ms/step - loss: 0.4141 - acc: 0.8208 - val_loss: 0.4108 - val_acc: 0.8250\n",
      "Epoch 96/200\n",
      "136/136 [==============================] - 1s 6ms/step - loss: 0.4149 - acc: 0.8194 - val_loss: 0.4232 - val_acc: 0.8168\n",
      "Epoch 97/200\n",
      "136/136 [==============================] - 1s 4ms/step - loss: 0.4106 - acc: 0.8211 - val_loss: 0.4109 - val_acc: 0.8214\n",
      "Epoch 98/200\n",
      "136/136 [==============================] - 1s 5ms/step - loss: 0.4110 - acc: 0.8217 - val_loss: 0.4324 - val_acc: 0.8145\n",
      "Epoch 99/200\n",
      "136/136 [==============================] - 2s 12ms/step - loss: 0.4080 - acc: 0.8227 - val_loss: 0.4100 - val_acc: 0.8241\n",
      "Epoch 100/200\n",
      "136/136 [==============================] - 1s 6ms/step - loss: 0.4128 - acc: 0.8224 - val_loss: 0.4583 - val_acc: 0.7882\n",
      "Epoch 101/200\n",
      "136/136 [==============================] - 1s 6ms/step - loss: 0.4070 - acc: 0.8250 - val_loss: 0.4156 - val_acc: 0.8181\n",
      "Epoch 102/200\n",
      "136/136 [==============================] - 1s 5ms/step - loss: 0.4107 - acc: 0.8206 - val_loss: 0.4067 - val_acc: 0.8283\n",
      "Epoch 103/200\n",
      "136/136 [==============================] - 1s 9ms/step - loss: 0.4042 - acc: 0.8249 - val_loss: 0.4084 - val_acc: 0.8246\n",
      "Epoch 104/200\n",
      "136/136 [==============================] - 1s 11ms/step - loss: 0.4052 - acc: 0.8224 - val_loss: 0.4186 - val_acc: 0.8195\n",
      "Epoch 105/200\n",
      "136/136 [==============================] - 1s 11ms/step - loss: 0.4150 - acc: 0.8195 - val_loss: 0.4075 - val_acc: 0.8237\n",
      "Epoch 106/200\n",
      "136/136 [==============================] - 1s 6ms/step - loss: 0.4061 - acc: 0.8242 - val_loss: 0.4319 - val_acc: 0.8154\n",
      "Epoch 107/200\n",
      "136/136 [==============================] - 1s 8ms/step - loss: 0.4023 - acc: 0.8256 - val_loss: 0.4060 - val_acc: 0.8269\n",
      "Epoch 108/200\n",
      "136/136 [==============================] - 1s 9ms/step - loss: 0.3981 - acc: 0.8308 - val_loss: 0.4358 - val_acc: 0.8158\n",
      "Epoch 109/200\n",
      "136/136 [==============================] - 1s 6ms/step - loss: 0.4021 - acc: 0.8246 - val_loss: 0.4301 - val_acc: 0.8168\n",
      "Epoch 110/200\n",
      "136/136 [==============================] - 1s 11ms/step - loss: 0.4090 - acc: 0.8241 - val_loss: 0.4190 - val_acc: 0.8200\n",
      "Epoch 111/200\n",
      "136/136 [==============================] - 1s 8ms/step - loss: 0.4087 - acc: 0.8221 - val_loss: 0.4061 - val_acc: 0.8278\n",
      "Epoch 112/200\n",
      "136/136 [==============================] - 1s 4ms/step - loss: 0.4044 - acc: 0.8299 - val_loss: 0.4069 - val_acc: 0.8273\n",
      "Epoch 113/200\n",
      "136/136 [==============================] - 1s 7ms/step - loss: 0.4016 - acc: 0.8303 - val_loss: 0.4063 - val_acc: 0.8273\n",
      "Epoch 114/200\n",
      "136/136 [==============================] - 1s 5ms/step - loss: 0.4020 - acc: 0.8290 - val_loss: 0.4077 - val_acc: 0.8273\n",
      "Epoch 115/200\n",
      "136/136 [==============================] - 1s 8ms/step - loss: 0.4019 - acc: 0.8299 - val_loss: 0.4989 - val_acc: 0.7500\n",
      "Epoch 116/200\n",
      "136/136 [==============================] - 1s 8ms/step - loss: 0.4029 - acc: 0.8264 - val_loss: 0.4129 - val_acc: 0.8232\n",
      "Epoch 117/200\n",
      "136/136 [==============================] - 1s 6ms/step - loss: 0.4009 - acc: 0.8279 - val_loss: 0.4060 - val_acc: 0.8273\n",
      "Epoch 118/200\n",
      "136/136 [==============================] - 1s 5ms/step - loss: 0.4041 - acc: 0.8276 - val_loss: 0.4057 - val_acc: 0.8269\n",
      "Epoch 119/200\n",
      "136/136 [==============================] - 1s 4ms/step - loss: 0.4023 - acc: 0.8264 - val_loss: 0.4071 - val_acc: 0.8273\n",
      "Epoch 120/200\n",
      "136/136 [==============================] - 1s 7ms/step - loss: 0.3910 - acc: 0.8323 - val_loss: 0.4284 - val_acc: 0.8131\n",
      "Epoch 121/200\n",
      "136/136 [==============================] - 1s 10ms/step - loss: 0.3982 - acc: 0.8279 - val_loss: 0.5100 - val_acc: 0.7864\n",
      "Epoch 122/200\n",
      "136/136 [==============================] - 1s 6ms/step - loss: 0.3987 - acc: 0.8298 - val_loss: 0.4113 - val_acc: 0.8237\n",
      "Epoch 123/200\n"
     ]
    },
    {
     "name": "stdout",
     "output_type": "stream",
     "text": [
      "136/136 [==============================] - 1s 8ms/step - loss: 0.3926 - acc: 0.8321 - val_loss: 0.4229 - val_acc: 0.8200\n",
      "Epoch 124/200\n",
      "136/136 [==============================] - 1s 10ms/step - loss: 0.3941 - acc: 0.8323 - val_loss: 0.4415 - val_acc: 0.8172\n",
      "Epoch 125/200\n",
      "136/136 [==============================] - 1s 9ms/step - loss: 0.3936 - acc: 0.8313 - val_loss: 0.4078 - val_acc: 0.8306\n",
      "Epoch 126/200\n",
      "136/136 [==============================] - 1s 11ms/step - loss: 0.3911 - acc: 0.8337 - val_loss: 0.4065 - val_acc: 0.8315\n",
      "Epoch 127/200\n",
      "136/136 [==============================] - 1s 5ms/step - loss: 0.3900 - acc: 0.8300 - val_loss: 0.4106 - val_acc: 0.8278\n",
      "Epoch 128/200\n",
      "136/136 [==============================] - 1s 4ms/step - loss: 0.3927 - acc: 0.8330 - val_loss: 0.4084 - val_acc: 0.8310\n",
      "Epoch 129/200\n",
      "136/136 [==============================] - 1s 5ms/step - loss: 0.3918 - acc: 0.8354 - val_loss: 0.4055 - val_acc: 0.8310\n",
      "Epoch 130/200\n",
      "136/136 [==============================] - 1s 10ms/step - loss: 0.3952 - acc: 0.8305 - val_loss: 0.4100 - val_acc: 0.8260\n",
      "Epoch 131/200\n",
      "136/136 [==============================] - 1s 8ms/step - loss: 0.3876 - acc: 0.8315 - val_loss: 0.4071 - val_acc: 0.8260\n",
      "Epoch 132/200\n",
      "136/136 [==============================] - 1s 9ms/step - loss: 0.3842 - acc: 0.8393 - val_loss: 0.4092 - val_acc: 0.8306\n",
      "Epoch 133/200\n",
      "136/136 [==============================] - 1s 4ms/step - loss: 0.3927 - acc: 0.8257 - val_loss: 0.4192 - val_acc: 0.8214\n",
      "Epoch 134/200\n",
      "136/136 [==============================] - 2s 14ms/step - loss: 0.3882 - acc: 0.8359 - val_loss: 0.4065 - val_acc: 0.8324\n",
      "Epoch 135/200\n",
      "136/136 [==============================] - 2s 11ms/step - loss: 0.3893 - acc: 0.8310 - val_loss: 0.4561 - val_acc: 0.7919\n",
      "Epoch 136/200\n",
      "136/136 [==============================] - 1s 5ms/step - loss: 0.3880 - acc: 0.8358 - val_loss: 0.4329 - val_acc: 0.8163\n",
      "Epoch 137/200\n",
      "136/136 [==============================] - 2s 13ms/step - loss: 0.3844 - acc: 0.8379 - val_loss: 0.4617 - val_acc: 0.7859\n",
      "Epoch 138/200\n",
      "136/136 [==============================] - 1s 6ms/step - loss: 0.3866 - acc: 0.8326 - val_loss: 0.4231 - val_acc: 0.8200\n",
      "Epoch 139/200\n",
      "136/136 [==============================] - 1s 5ms/step - loss: 0.3847 - acc: 0.8407 - val_loss: 0.4397 - val_acc: 0.8168\n",
      "Epoch 140/200\n",
      "136/136 [==============================] - 1s 4ms/step - loss: 0.3842 - acc: 0.8352 - val_loss: 0.4348 - val_acc: 0.8168\n",
      "Epoch 141/200\n",
      "136/136 [==============================] - 2s 11ms/step - loss: 0.3835 - acc: 0.8382 - val_loss: 0.4056 - val_acc: 0.8310\n",
      "Epoch 142/200\n",
      "136/136 [==============================] - 1s 6ms/step - loss: 0.3836 - acc: 0.8366 - val_loss: 0.4103 - val_acc: 0.8273\n",
      "Epoch 143/200\n",
      "136/136 [==============================] - 1s 7ms/step - loss: 0.3831 - acc: 0.8351 - val_loss: 0.4521 - val_acc: 0.8080\n",
      "Epoch 144/200\n",
      "136/136 [==============================] - 1s 6ms/step - loss: 0.3828 - acc: 0.8375 - val_loss: 0.4056 - val_acc: 0.8343\n",
      "Epoch 145/200\n",
      "136/136 [==============================] - 1s 7ms/step - loss: 0.3830 - acc: 0.8363 - val_loss: 0.4142 - val_acc: 0.8232\n",
      "Epoch 146/200\n",
      "136/136 [==============================] - 1s 4ms/step - loss: 0.3837 - acc: 0.8372 - val_loss: 0.4183 - val_acc: 0.8246\n",
      "Epoch 147/200\n",
      "136/136 [==============================] - 1s 7ms/step - loss: 0.3759 - acc: 0.8379 - val_loss: 0.4681 - val_acc: 0.7896\n",
      "Epoch 148/200\n",
      "136/136 [==============================] - 1s 8ms/step - loss: 0.3813 - acc: 0.8346 - val_loss: 0.4094 - val_acc: 0.8269\n",
      "Epoch 149/200\n",
      "136/136 [==============================] - 1s 7ms/step - loss: 0.3773 - acc: 0.8395 - val_loss: 0.4098 - val_acc: 0.8310\n",
      "Epoch 150/200\n",
      "136/136 [==============================] - 1s 7ms/step - loss: 0.3816 - acc: 0.8377 - val_loss: 0.4081 - val_acc: 0.8315\n",
      "Epoch 151/200\n",
      "136/136 [==============================] - 1s 5ms/step - loss: 0.3788 - acc: 0.8424 - val_loss: 0.4090 - val_acc: 0.8315\n",
      "Epoch 152/200\n",
      "136/136 [==============================] - 2s 12ms/step - loss: 0.3754 - acc: 0.8397 - val_loss: 0.4076 - val_acc: 0.8273\n",
      "Epoch 153/200\n",
      "136/136 [==============================] - 1s 5ms/step - loss: 0.3800 - acc: 0.8379 - val_loss: 0.4092 - val_acc: 0.8269\n",
      "Epoch 154/200\n",
      "136/136 [==============================] - 1s 6ms/step - loss: 0.3830 - acc: 0.8374 - val_loss: 0.4271 - val_acc: 0.8237\n"
     ]
    }
   ],
   "source": [
    "# Early stop 25 epochs after lowest validation, best weights restored\n",
    "early = EarlyStopping(monitor='val_loss', patience=25, min_delta = 0.0001, restore_best_weights=True)\n",
    "\n",
    "# Store best weights for future use without re-training\n",
    "filepath = \"weights/weights-improvement-{epoch:02d}-{val_loss:.4f}.hdf5\"\n",
    "checkpoint = ModelCheckpoint(filepath, mode='min', save_weights_only=True)\n",
    "\n",
    "history = model.fit(X_train, y_train,\n",
    "                    validation_data=(X_test, y_test),\n",
    "                    batch_size=64,\n",
    "                    epochs=200,\n",
    "                    callbacks=[early, checkpoint],\n",
    "                    verbose=1)"
   ]
  },
  {
   "cell_type": "markdown",
   "id": "1cc0064d",
   "metadata": {},
   "source": [
    "## 2.1 RESULTS\n",
    "### || CNN || SGD || Google W2V weights || Dropout= 0.5embedding/0.25CNN/0.4Dense || Filters=32CNN/64CNN/32Dense ||\n",
    "    \n",
    "- **SDG**\n",
    "    - loss: 0.3918 - acc: 0.8354 - val_loss: 0.4055 - val_acc: 0.8310"
   ]
  },
  {
   "cell_type": "markdown",
   "id": "fa423e10",
   "metadata": {},
   "source": [
    "### 2.2 MODEL SAVING FOR RE-USE"
   ]
  },
  {
   "cell_type": "code",
   "execution_count": 48,
   "id": "6a27b336",
   "metadata": {},
   "outputs": [],
   "source": [
    "# Reload best weight from epoch 129/200\n",
    "model.load_weights('weights/weights-improvement-129-0.4055.hdf5')\n",
    "\n",
    "# Save model\n",
    "model.save('pretrained_models/relevance_model.hdf5')"
   ]
  },
  {
   "cell_type": "markdown",
   "id": "aa91e5b9",
   "metadata": {},
   "source": [
    "### TESTING"
   ]
  },
  {
   "cell_type": "code",
   "execution_count": 29,
   "id": "3f8e7461",
   "metadata": {},
   "outputs": [
    {
     "data": {
      "text/html": [
       "<div>\n",
       "<style scoped>\n",
       "    .dataframe tbody tr th:only-of-type {\n",
       "        vertical-align: middle;\n",
       "    }\n",
       "\n",
       "    .dataframe tbody tr th {\n",
       "        vertical-align: top;\n",
       "    }\n",
       "\n",
       "    .dataframe thead th {\n",
       "        text-align: right;\n",
       "    }\n",
       "</style>\n",
       "<table border=\"1\" class=\"dataframe\">\n",
       "  <thead>\n",
       "    <tr style=\"text-align: right;\">\n",
       "      <th></th>\n",
       "      <th>id</th>\n",
       "      <th>keyword</th>\n",
       "      <th>location</th>\n",
       "      <th>text</th>\n",
       "      <th>target</th>\n",
       "      <th>predictions</th>\n",
       "    </tr>\n",
       "  </thead>\n",
       "  <tbody>\n",
       "    <tr>\n",
       "      <th>0</th>\n",
       "      <td>1</td>\n",
       "      <td>NaN</td>\n",
       "      <td>NaN</td>\n",
       "      <td>Our Deeds are the Reason of this #earthquake M...</td>\n",
       "      <td>1</td>\n",
       "      <td>1</td>\n",
       "    </tr>\n",
       "    <tr>\n",
       "      <th>1</th>\n",
       "      <td>4</td>\n",
       "      <td>NaN</td>\n",
       "      <td>NaN</td>\n",
       "      <td>Forest fire near La Ronge Sask. Canada</td>\n",
       "      <td>1</td>\n",
       "      <td>1</td>\n",
       "    </tr>\n",
       "    <tr>\n",
       "      <th>2</th>\n",
       "      <td>5</td>\n",
       "      <td>NaN</td>\n",
       "      <td>NaN</td>\n",
       "      <td>All residents asked to 'shelter in place' are ...</td>\n",
       "      <td>1</td>\n",
       "      <td>1</td>\n",
       "    </tr>\n",
       "    <tr>\n",
       "      <th>3</th>\n",
       "      <td>6</td>\n",
       "      <td>NaN</td>\n",
       "      <td>NaN</td>\n",
       "      <td>13,000 people receive #wildfires evacuation or...</td>\n",
       "      <td>1</td>\n",
       "      <td>1</td>\n",
       "    </tr>\n",
       "    <tr>\n",
       "      <th>4</th>\n",
       "      <td>7</td>\n",
       "      <td>NaN</td>\n",
       "      <td>NaN</td>\n",
       "      <td>Just got sent this photo from Ruby #Alaska as ...</td>\n",
       "      <td>1</td>\n",
       "      <td>1</td>\n",
       "    </tr>\n",
       "  </tbody>\n",
       "</table>\n",
       "</div>"
      ],
      "text/plain": [
       "   id keyword  ... target predictions\n",
       "0   1     NaN  ...      1           1\n",
       "1   4     NaN  ...      1           1\n",
       "2   5     NaN  ...      1           1\n",
       "3   6     NaN  ...      1           1\n",
       "4   7     NaN  ...      1           1\n",
       "\n",
       "[5 rows x 6 columns]"
      ]
     },
     "execution_count": 29,
     "metadata": {},
     "output_type": "execute_result"
    }
   ],
   "source": [
    "test.head()"
   ]
  },
  {
   "cell_type": "code",
   "execution_count": 33,
   "id": "9f132493",
   "metadata": {},
   "outputs": [
    {
     "name": "stdout",
     "output_type": "stream",
     "text": [
      "TEST RESULTS\n",
      "ACCURACY: 0.7128712871287128\n",
      "F1 SCORE: 0.6233766233766234\n",
      "ROC AUC: 0.7105882352941176\n"
     ]
    },
    {
     "data": {
      "image/png": "[encoded data removed]",
      "text/plain": [
       "<Figure size 432x288 with 2 Axes>"
      ]
     },
     "metadata": {
      "needs_background": "light"
     },
     "output_type": "display_data"
    }
   ],
   "source": [
    "# Test on Kaggle competition dataset\n",
    "    # A different kaggle dataset that also has disaster tweets\n",
    "test = pd.read_csv('../datasets/validation_data.csv')\n",
    "\n",
    "# Preprocessing\n",
    "text_raw = test['text']\n",
    "test_cleaned = text_raw.apply(clean).apply(clean2).apply(clean3)\n",
    "test_seq = tokenizer.texts_to_sequences(test_cleaned)\n",
    "test_padded = pad_sequences(test_seq, maxlen=60)\n",
    "\n",
    "# Predictions\n",
    "test['predictions'] = (model.predict(test_padded)>0.5).astype(int)\n",
    "\n",
    "# Scores\n",
    "acc = accuracy_score(test['disaster_related'], test['predictions'])\n",
    "f1 = f1_score(test['disaster_related'], test['predictions'])\n",
    "roc_auc = roc_auc_score(test['disaster_related'], test['predictions'])\n",
    "\n",
    "print('TEST RESULTS')\n",
    "print(f'ACCURACY: {acc}')\n",
    "print(f'F1 SCORE: {f1}')\n",
    "print(f'ROC AUC: {roc_auc}')\n",
    "\n",
    "# Confusion matrix\n",
    "cm = confusion_matrix(test['disaster_related'], test['predictions'])\n",
    "sns.heatmap(cm, cmap= 'cividis', annot=True, fmt='g', annot_kws={'size':20})\n",
    "plt.xlabel('predicted', fontsize=18)\n",
    "plt.ylabel('actual', fontsize=18)\n",
    "plt.title('Test Actual vs Predicted', fontsize=18)\n",
    "plt.show()"
   ]
  },
  {
   "cell_type": "code",
   "execution_count": 31,
   "id": "5d598925",
   "metadata": {
    "scrolled": false
   },
   "outputs": [
    {
     "name": "stderr",
     "output_type": "stream",
     "text": [
      "2022-02-06 23:18:58.381975: W tensorflow/core/framework/cpu_allocator_impl.cc:82] Allocation of 22640400 exceeds 10% of free system memory.\n"
     ]
    },
    {
     "name": "stdout",
     "output_type": "stream",
     "text": [
      "TEST RESULTS\n",
      "ACCURACY: 0.8645737554183633\n",
      "F1 SCORE: 0.8284811179504241\n",
      "ROC AUC: 0.8518289714576444\n"
     ]
    },
    {
     "data": {
      "image/png": "[encoded data removed]",
      "text/plain": [
       "<Figure size 432x288 with 2 Axes>"
      ]
     },
     "metadata": {
      "needs_background": "light"
     },
     "output_type": "display_data"
    }
   ],
   "source": [
    "# Test on Kaggle competition dataset\n",
    "    # A different kaggle dataset that also has disaster tweets\n",
    "test = pd.read_csv('../datasets/disaster_competition.csv')\n",
    "\n",
    "# Preprocessing\n",
    "text_raw = test['text']\n",
    "test_cleaned = text_raw.apply(clean).apply(clean2).apply(clean3)\n",
    "test_seq = tokenizer.texts_to_sequences(test_cleaned)\n",
    "test_padded = pad_sequences(test_seq, maxlen=60)\n",
    "\n",
    "# Predictions\n",
    "test['predictions'] = (model.predict(test_padded)>0.5).astype(int)\n",
    "\n",
    "# Scores\n",
    "acc = accuracy_score(test['target'], test['predictions'])\n",
    "f1 = f1_score(test['target'], test['predictions'])\n",
    "roc_auc = roc_auc_score(test['target'], test['predictions'])\n",
    "\n",
    "print('TEST RESULTS')\n",
    "print(f'ACCURACY: {acc}')\n",
    "print(f'F1 SCORE: {f1}')\n",
    "print(f'ROC AUC: {roc_auc}')\n",
    "\n",
    "# Confusion matrix\n",
    "cm = confusion_matrix(test['target'], test['predictions'])\n",
    "sns.heatmap(cm, cmap= 'cividis', annot=True, fmt='g', annot_kws={'size':20})\n",
    "plt.xlabel('predicted', fontsize=18)\n",
    "plt.ylabel('actual', fontsize=18)\n",
    "plt.title('Test Actual vs Predicted', fontsize=18)\n",
    "plt.show()"
   ]
  }
 ],
 "metadata": {
  "kernelspec": {
   "display_name": "Python 3 (ipykernel)",
   "language": "python",
   "name": "python3"
  },
  "language_info": {
   "codemirror_mode": {
    "name": "ipython",
    "version": 3
   },
   "file_extension": ".py",
   "mimetype": "text/x-python",
   "name": "python",
   "nbconvert_exporter": "python",
   "pygments_lexer": "ipython3",
   "version": "3.9.7"
  }
 },
 "nbformat": 4,
 "nbformat_minor": 5
}
